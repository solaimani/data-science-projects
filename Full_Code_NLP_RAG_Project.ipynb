{
  "cells": [
    {
      "cell_type": "markdown",
      "metadata": {
        "id": "3CNz35ia6Bz3"
      },
      "source": [
        "## Problem Statement"
      ]
    },
    {
      "cell_type": "markdown",
      "metadata": {
        "id": "CkRbhMJH6Bz3"
      },
      "source": [
        "### Business Context"
      ]
    },
    {
      "cell_type": "markdown",
      "metadata": {
        "id": "3PBm5xaj6Bz3"
      },
      "source": [
        "The healthcare industry is rapidly evolving, with professionals facing increasing challenges in managing vast volumes of medical data while delivering accurate and timely diagnoses. The need for quick access to comprehensive, reliable, and up-to-date medical knowledge is critical for improving patient outcomes and ensuring informed decision-making in a fast-paced environment.\n",
        "\n",
        "Healthcare professionals often encounter information overload, struggling to sift through extensive research and data to create accurate diagnoses and treatment plans. This challenge is amplified by the need for efficiency, particularly in emergencies, where time-sensitive decisions are vital. Furthermore, access to trusted, current medical information from renowned manuals and research papers is essential for maintaining high standards of care.\n",
        "\n",
        "To address these challenges, healthcare centers can focus on integrating systems that streamline access to medical knowledge, provide tools to support quick decision-making, and enhance efficiency. Leveraging centralized knowledge platforms and ensuring healthcare providers have continuous access to reliable resources can significantly improve patient care and operational effectiveness."
      ]
    },
    {
      "cell_type": "markdown",
      "metadata": {
        "id": "1xDPsqvO6Bz5"
      },
      "source": [
        "**Common Questions to Answer**\n",
        "\n",
        "**1. Diagnostic Assistance**: \"What are the common symptoms and treatments for pulmonary embolism?\"\n",
        "\n",
        "**2. Drug Information**: \"Can you provide the trade names of medications used for treating hypertension?\"\n",
        "\n",
        "**3. Treatment Plans**: \"What are the first-line options and alternatives for managing rheumatoid arthritis?\"\n",
        "\n",
        "**4. Specialty Knowledge**: \"What are the diagnostic steps for suspected endocrine disorders?\"\n",
        "\n",
        "**5. Critical Care Protocols**: \"What is the protocol for managing sepsis in a critical care unit?\""
      ]
    },
    {
      "cell_type": "markdown",
      "metadata": {
        "id": "CARPKFwm6Bz4"
      },
      "source": [
        "### Objective"
      ]
    },
    {
      "cell_type": "markdown",
      "metadata": {
        "id": "dOElOEXq6Bz4"
      },
      "source": [
        "As an AI specialist, your task is to develop a RAG-based AI solution using renowned medical manuals to address healthcare challenges. The objective is to **understand** issues like information overload, **apply** AI techniques to streamline decision-making, **analyze** its impact on diagnostics and patient outcomes, **evaluate** its potential to standardize care practices, and **create** a functional prototype demonstrating its feasibility and effectiveness."
      ]
    },
    {
      "cell_type": "markdown",
      "metadata": {
        "id": "by9EvAnkSpZf"
      },
      "source": [
        "### Data Description"
      ]
    },
    {
      "cell_type": "markdown",
      "metadata": {
        "id": "Jw5LievCSru2"
      },
      "source": [
        "The **Merck Manuals** are medical references published by the American pharmaceutical company Merck & Co., that cover a wide range of medical topics, including disorders, tests, diagnoses, and drugs. The manuals have been published since 1899, when Merck & Co. was still a subsidiary of the German company Merck.\n",
        "\n",
        "The manual is provided as a PDF with over 4,000 pages divided into 23 sections."
      ]
    },
    {
      "cell_type": "markdown",
      "metadata": {
        "id": "lnwETBOE6Bz5"
      },
      "source": [
        "## Installing and Importing Necessary Libraries and Dependencies"
      ]
    },
    {
      "cell_type": "code",
      "execution_count": 1,
      "metadata": {
        "id": "q4GgLhZhUM4V"
      },
      "outputs": [],
      "source": [
        "# Installation for GPU llama-cpp-python\n",
        "# uncomment and run the following code in case GPU is being used\n",
        "#!CMAKE_ARGS=\"-DLLAMA_CUBLAS=on\" FORCE_CMAKE=1 pip install llama-cpp-python==0.1.85 --force-reinstall --no-cache-dir -q\n",
        "\n",
        "# Installation for CPU llama-cpp-python\n",
        "# uncomment and run the following code in case GPU is not being used\n",
        "# !CMAKE_ARGS=\"-DLLAMA_CUBLAS=off\" FORCE_CMAKE=1 pip install llama-cpp-python==0.1.85 --force-reinstall --no-cache-dir -q"
      ]
    },
    {
      "cell_type": "code",
      "execution_count": 2,
      "metadata": {
        "id": "0VOckDVkWGei"
      },
      "outputs": [],
      "source": [
        "# For installing the libraries & downloading models from HF Hub\n",
        "#!pip install huggingface_hub==0.23.2 pandas==1.5.3 tiktoken==0.6.0 pymupdf==1.25.1 langchain==0.1.1 langchain-community==0.0.13 chromadb==0.4.22 sentence-transformers==2.3.1 numpy==1.25.2 -q"
      ]
    },
    {
      "cell_type": "code",
      "execution_count": 3,
      "metadata": {
        "id": "RTY9GN4oWK3g"
      },
      "outputs": [],
      "source": [
        "#Libraries for processing dataframes,text\n",
        "import json,os\n",
        "import tiktoken\n",
        "import pandas as pd\n",
        "\n",
        "#Libraries for Loading Data, Chunking, Embedding, and Vector Databases\n",
        "from langchain.text_splitter import RecursiveCharacterTextSplitter\n",
        "from langchain_community.document_loaders import PyMuPDFLoader\n",
        "from langchain_community.embeddings.sentence_transformer import SentenceTransformerEmbeddings\n",
        "from langchain_community.vectorstores import Chroma\n",
        "\n",
        "#Libraries for downloading and loading the llm\n",
        "from huggingface_hub import hf_hub_download\n",
        "from llama_cpp import Llama"
      ]
    },
    {
      "cell_type": "markdown",
      "metadata": {
        "id": "TtZWqj0wFTS1"
      },
      "source": [
        "## Question Answering using LLM"
      ]
    },
    {
      "cell_type": "markdown",
      "source": [
        "In this project, we will use Meta/Facebook's Llama as a LLM with Mistral-7B-Instruct-v0.2 with GGUF format. Llama is designed to be open-source and accessible and a popular choice for research and development. Furthermore, we will use llama.cpp (a c++) software to integrate, run this model.\n",
        "\n",
        "\n",
        "**High level description:**\n",
        "\n",
        "*llama.cpp* - is a high-performance C++ inference library designed to run large language models efficiently on various hardware, including CPUs and GPUs, with a focus on local execution. It provides the core functionality for loading and running models in the GGUF format.\n",
        "\n",
        "*Mistral-7B-Instruct-v0.2-GGUF* - is a powerful and versatile model that's made even more accessible and efficient through the GGUF format, making it a popular choice for both hobbyists and professionals. This model has 7B parameters and in GGUF format which is quantized and feasible to run in consumer grade or low resource (GPU) format.  \n",
        "\n"
      ],
      "metadata": {
        "id": "hTVmbmGsRlGa"
      }
    },
    {
      "cell_type": "markdown",
      "metadata": {
        "id": "Uq1lhM4WFTS2"
      },
      "source": [
        "#### Downloading and Loading the model"
      ]
    },
    {
      "cell_type": "code",
      "execution_count": 4,
      "metadata": {
        "id": "dA3XQMWmQLJp"
      },
      "outputs": [],
      "source": [
        "model_name_or_path = \"TheBloke/Mistral-7B-Instruct-v0.2-GGUF\"\n",
        "model_basename = \"mistral-7b-instruct-v0.2.Q6_K.gguf\""
      ]
    },
    {
      "cell_type": "code",
      "execution_count": 5,
      "metadata": {
        "id": "NQlLOFgy4Bot",
        "colab": {
          "base_uri": "https://localhost:8080/",
          "height": 178,
          "referenced_widgets": [
            "bbe5a69dce804bf7af1ce78600f80ccf",
            "6318c0bceeca469faded26d469d4d565",
            "e40dd9e4ab4b4e3fa5c1cf183a79dba6",
            "96c7f95dc4ad4f26a4badbf00c1996d7",
            "f6d18b7d44d74673b728baafb108fbf7",
            "080d62723019451aa7c8416e967c38ba",
            "12dfdec7e58d48b887305a2d18416b07",
            "c608faba41c54210a7b000630fbc9b05",
            "23771282a5f14295adeb94ee58e23c67",
            "f427ed6267284e8a9cbe280194e73d62",
            "d60275ff4c5f45e38e348d304710c57c"
          ]
        },
        "outputId": "8d9839d4-827f-4055-d7a7-1962295ebf70"
      },
      "outputs": [
        {
          "output_type": "stream",
          "name": "stderr",
          "text": [
            "/usr/local/lib/python3.11/dist-packages/huggingface_hub/utils/_token.py:89: UserWarning: \n",
            "The secret `HF_TOKEN` does not exist in your Colab secrets.\n",
            "To authenticate with the Hugging Face Hub, create a token in your settings tab (https://huggingface.co/settings/tokens), set it as secret in your Google Colab and restart your session.\n",
            "You will be able to reuse this secret in all of your notebooks.\n",
            "Please note that authentication is recommended but still optional to access public models or datasets.\n",
            "  warnings.warn(\n"
          ]
        },
        {
          "output_type": "display_data",
          "data": {
            "text/plain": [
              "mistral-7b-instruct-v0.2.Q6_K.gguf:   0%|          | 0.00/5.94G [00:00<?, ?B/s]"
            ],
            "application/vnd.jupyter.widget-view+json": {
              "version_major": 2,
              "version_minor": 0,
              "model_id": "bbe5a69dce804bf7af1ce78600f80ccf"
            }
          },
          "metadata": {}
        }
      ],
      "source": [
        "model_path = hf_hub_download(\n",
        "    repo_id= model_name_or_path,\n",
        "    filename= model_basename\n",
        ")"
      ]
    },
    {
      "cell_type": "code",
      "execution_count": 6,
      "metadata": {
        "id": "ghC94rzW4Cp9",
        "colab": {
          "base_uri": "https://localhost:8080/"
        },
        "outputId": "39613122-cae5-4c8f-bb82-e92343215f06"
      },
      "outputs": [
        {
          "output_type": "stream",
          "name": "stderr",
          "text": [
            "AVX = 1 | AVX2 = 1 | AVX512 = 0 | AVX512_VBMI = 0 | AVX512_VNNI = 0 | FMA = 1 | NEON = 0 | ARM_FMA = 0 | F16C = 1 | FP16_VA = 0 | WASM_SIMD = 0 | BLAS = 1 | SSE3 = 1 | SSSE3 = 1 | VSX = 0 | \n"
          ]
        }
      ],
      "source": [
        "#uncomment the below snippet of code if the runtime is connected to GPU.\n",
        "llm = Llama(\n",
        "    model_path=model_path,\n",
        "    n_ctx=4000,  #6000,  #2300,\n",
        "    n_gpu_layers=38,\n",
        "    n_batch=512\n",
        ")"
      ]
    },
    {
      "cell_type": "markdown",
      "source": [
        "### Observation\n",
        "* In llama.cpp, n_ctx specifically sets the maximum length of the combined prompt and generated output in tokens.\n",
        "* The dafault n_ctx of llama is 2048. Unfortunately, we increase the n_ctx to accomodate more context for this application as it requires a response with lot of technical/medical jargon\n",
        "* After trial and error, we set the value of n_ctx = 4000\n",
        "* n_batch refers to the maximum batch size for processing the prompt tokens. its default value is 512.\n",
        "* n_gpu_layers specifies the number of layers you want to process on the GPU. Hight value will give faster processing but higher cost associates with it.\n",
        "* model_path is the path of the model."
      ],
      "metadata": {
        "id": "HFRpw4MDO91r"
      }
    },
    {
      "cell_type": "markdown",
      "metadata": {
        "id": "EzzkvIXvFTS4"
      },
      "source": [
        "#### Response"
      ]
    },
    {
      "cell_type": "code",
      "execution_count": 7,
      "metadata": {
        "id": "TL2bES3N4LJ-"
      },
      "outputs": [],
      "source": [
        "def response(query,max_tokens=128,temperature=0,top_p=0.95,top_k=40):\n",
        "    # Generate the response\n",
        "    try:\n",
        "        response = llm(\n",
        "                  prompt=query,\n",
        "                  max_tokens=max_tokens,\n",
        "                  temperature=temperature,\n",
        "                  top_p=top_p,\n",
        "                  top_k=top_k\n",
        "                  )\n",
        "\n",
        "        # Extract and print the model's response\n",
        "        response = response['choices'][0]['text'].strip()\n",
        "    except Exception as e:\n",
        "        response = f'Sorry, I encountered the following error: \\n {e}'\n",
        "    return response\n",
        "\n"
      ]
    },
    {
      "cell_type": "markdown",
      "source": [
        "### Observation\n",
        "\n",
        "llm takes the following argument for response\n",
        "Arguments:\n",
        "\n",
        "1. query - user_input\n",
        "  * Query/Questions from user.\n",
        "\n",
        "2. max_tokens\n",
        "  * Sets a limit on the number of tokens (words or characters) the model can generate in a single response. In llama cpp, its default value is 128\n",
        "\n",
        "3. top_k\n",
        "  * Limits the model's choices to the top k most probable tokens at each step of text generation. Lower value leads to more predictable and focused outputs, reducing the likelihood of irrelevant tokens. Higher value allows for greater diversity and creativity, enabling the model to consider a wider range of possibilities. In llama, the value of top_k 1-10 is consider low and 20-50+ is consider high. Its default value is 40.\n",
        "\n",
        "4. top_p\n",
        "  * Selects tokens from a probability distribution, considering tokens whose cumulative probability is above a specified threshold p. lower value of it, restrict the model with focus and deterministic and higher value gives more flexibilty. Its range is 0 - 1.\n",
        "\n",
        "5. temperature\n",
        "  * influences the overall randomness of token selection. Lower temperatures lead to more deterministic outputs and higher temperature gives more deterministic output. Its range is 0-1 in llama model."
      ],
      "metadata": {
        "id": "pDc71QBPHCuD"
      }
    },
    {
      "cell_type": "markdown",
      "source": [
        "Lets ask a common query: What treatment options are available for managing hypertension?"
      ],
      "metadata": {
        "id": "O6dcGRsrV57s"
      }
    },
    {
      "cell_type": "code",
      "execution_count": 8,
      "metadata": {
        "id": "hLHOgbX04Oru",
        "colab": {
          "base_uri": "https://localhost:8080/"
        },
        "outputId": "71ca8b6e-e3ed-4d1b-9f57-cc2092f454e3"
      },
      "outputs": [
        {
          "output_type": "stream",
          "name": "stdout",
          "text": [
            "Hypertension, or high blood pressure, is a common condition that can increase the risk of various health problems such as heart disease, stroke, and kidney damage. The good news is that there are several effective treatment options available to help manage hypertension and reduce the risk of complications. Here are some of the most commonly used treatments:\n",
            "\n",
            "1. Lifestyle modifications: Making lifestyle changes is often the first line of defense against hypertension. This may include eating a healthy diet rich in fruits, vegetables, whole grains, and lean proteins; limiting sodium intake; getting regular physical activity\n"
          ]
        }
      ],
      "source": [
        "print(response(\"What treatment options are available for managing hypertension?\"))"
      ]
    },
    {
      "cell_type": "markdown",
      "source": [
        "### Observation\n",
        "* The response seems generic and provides very high level information.\n",
        "* The response contains only limited information/incomplete."
      ],
      "metadata": {
        "id": "jNydD_Fr1MPF"
      }
    },
    {
      "cell_type": "markdown",
      "metadata": {
        "id": "K8YgK91SFjVY"
      },
      "source": [
        "### Query 1: What is the protocol for managing sepsis in a critical care unit?"
      ]
    },
    {
      "cell_type": "code",
      "execution_count": 9,
      "metadata": {
        "id": "-JLIVmpPQH0f",
        "colab": {
          "base_uri": "https://localhost:8080/"
        },
        "outputId": "cfc9fe7a-8de8-4bca-abc9-5260dbea7566"
      },
      "outputs": [
        {
          "output_type": "stream",
          "name": "stderr",
          "text": [
            "Llama.generate: prefix-match hit\n"
          ]
        },
        {
          "output_type": "stream",
          "name": "stdout",
          "text": [
            "Sepsis is a life-threatening condition that can arise from an infection, and it requires prompt recognition and aggressive management in a critical care unit. The following are general steps for managing sepsis in a critical care unit:\n",
            "\n",
            "1. Early recognition: Recognize the signs and symptoms of sepsis early and initiate treatment as soon as possible. Sepsis can present with various clinical features, including fever or hypothermia, tachycardia or bradycardia, altered mental status, respiratory distress, and lactic acidosis.\n",
            "2. Resusc\n"
          ]
        }
      ],
      "source": [
        "print(response(\"What is the protocol for managing sepsis in a critical care unit?\"))"
      ]
    },
    {
      "cell_type": "code",
      "source": [
        "print(response(\"What is the protocol for managing sepsis in a critical care unit?\", max_tokens=512))"
      ],
      "metadata": {
        "id": "iNu2i38H3QFD",
        "colab": {
          "base_uri": "https://localhost:8080/"
        },
        "outputId": "62806b56-71a1-4541-8466-5a10f088275a"
      },
      "execution_count": 10,
      "outputs": [
        {
          "output_type": "stream",
          "name": "stderr",
          "text": [
            "Llama.generate: prefix-match hit\n"
          ]
        },
        {
          "output_type": "stream",
          "name": "stdout",
          "text": [
            "Sepsis is a life-threatening condition that can arise from an infection, and it requires prompt recognition and aggressive management in a critical care unit. The following are general steps for managing sepsis in a critical care unit:\n",
            "\n",
            "1. Early recognition: Recognize the signs and symptoms of sepsis early and initiate treatment as soon as possible. Sepsis can present with various clinical features, including fever or hypothermia, tachycardia or bradycardia, altered mental status, respiratory distress, and lactic acidosis.\n",
            "2. Source control: Identify and address the source of infection as quickly as possible. This may involve surgical intervention, such as drainage of an abscess or debridement of necrotic tissue.\n",
            "3. Fluid resuscitation: Administer intravenous fluids to maintain adequate blood pressure and organ perfusion. The goal is to achieve a mean arterial pressure (MAP) of at least 65 mmHg and a central venous oxygen saturation (ScvO2) of greater than 70%.\n",
            "4. Vasopressor support: If fluid resuscitation alone is insufficient to maintain adequate blood pressure, administer vasopressors to maintain MAP goals.\n",
            "5. Antibiotics: Administer broad-spectrum antibiotics as soon as possible based on the suspected source of infection and local microbiology data.\n",
            "6. Glucose control: Maintain strict glucose control to prevent hyperglycemia, which can worsen inflammation and organ damage. A target blood glucose level of 140-180 mg/dL is recommended.\n",
            "7. Corticosteroids: Consider administering corticosteroids in certain situations, such as septic shock or refractory hypotension, based on clinical judgment and individual patient factors.\n",
            "8. Inotropes: If the patient remains hypotensive despite adequate fluid resuscitation and vasopressor support, consider administering inotropic agents to improve cardiac output.\n",
            "9. Renal replacement therapy: Consider initiating renal replacement therapy (RRT) in patients with severe sepsis or septic shock who have evidence of organ dysfunction, such as acute kidney injury or respiratory failure.\n",
            "10. Hemodynamic monitoring: Use advanced\n"
          ]
        }
      ]
    },
    {
      "cell_type": "code",
      "source": [
        "print(response(\"What is the protocol for managing sepsis in a critical care unit?\", max_tokens=1024))"
      ],
      "metadata": {
        "id": "hMiLhPQc5lK8",
        "colab": {
          "base_uri": "https://localhost:8080/"
        },
        "outputId": "c48802f1-7ebf-4108-d1a3-7edce4f833d8"
      },
      "execution_count": 11,
      "outputs": [
        {
          "output_type": "stream",
          "name": "stderr",
          "text": [
            "Llama.generate: prefix-match hit\n"
          ]
        },
        {
          "output_type": "stream",
          "name": "stdout",
          "text": [
            "Sepsis is a life-threatening condition that can arise from an infection, and it requires prompt recognition and aggressive management in a critical care unit. The following are general steps for managing sepsis in a critical care unit:\n",
            "\n",
            "1. Early recognition: Recognize the signs and symptoms of sepsis early and initiate treatment as soon as possible. Sepsis can present with various clinical features, including fever or hypothermia, tachycardia or bradycardia, altered mental status, respiratory distress, and lactic acidosis.\n",
            "2. Source control: Identify and address the source of infection as quickly as possible. This may involve surgical intervention, such as drainage of an abscess or debridement of necrotic tissue.\n",
            "3. Fluid resuscitation: Administer intravenous fluids to maintain adequate blood pressure and organ perfusion. The goal is to achieve a mean arterial pressure (MAP) of at least 65 mmHg and a central venous oxygen saturation (ScvO2) of greater than 70%.\n",
            "4. Vasopressor support: If fluid resuscitation alone is insufficient to maintain adequate blood pressure, administer vasopressors to maintain MAP goals.\n",
            "5. Antibiotics: Administer broad-spectrum antibiotics as soon as possible based on the suspected source of infection and local microbiology data.\n",
            "6. Glucose control: Maintain strict glucose control to prevent hyperglycemia, which can worsen inflammation and organ damage. A target blood glucose level of 140-180 mg/dL is recommended.\n",
            "7. Corticosteroids: Consider administering corticosteroids in certain situations, such as septic shock or refractory hypotension, based on clinical judgment and individual patient factors.\n",
            "8. Inotropes: If the patient remains hypotensive despite adequate fluid resuscitation and vasopressor support, consider administering inotropic agents to improve cardiac output.\n",
            "9. Renal replacement therapy: Consider initiating renal replacement therapy (RRT) in patients with severe sepsis or septic shock who have evidence of organ dysfunction, such as acute kidney injury or respiratory failure.\n",
            "10. Hemodynamic monitoring: Use advanced hemodynamic monitoring techniques, such as pulmonary artery catheters or transesophageal echocardiography, to guide fluid and vasopressor therapy in critically ill patients with sepsis.\n",
            "11. Respiratory support: Provide appropriate respiratory support, such as noninvasive positive pressure ventilation or mechanical ventilation, to maintain adequate oxygenation and ventilation.\n",
            "12. Early goal-directed therapy (EGDT): Consider implementing EGDT, which involves aggressive fluid resuscitation, vasopressor support, and goal-directed interventions to optimize tissue perfusion and improve outcomes in patients with severe sepsis or septic shock.\n",
            "13. Source control surgery: If source control requires surgical intervention, perform the procedure as soon as possible to reduce the risk of complications and improve outcomes.\n",
            "14. Multidisciplinary care: Provide multidisciplinary care, including input from critical care specialists, infectious disease specialists, surgeons, and other healthcare professionals, to optimize patient care and improve outcomes.\n",
            "15. Continuous monitoring: Monitor patients closely for signs of sepsis progression or complications, such as worsening organ dysfunction or new infections, and adjust treatment accordingly.\n"
          ]
        }
      ]
    },
    {
      "cell_type": "markdown",
      "source": [
        "### Observation\n",
        "\n",
        "* Query 1's response is also generic. Increasing max_tokens size to 1024 helps to capture the entire response.\n",
        "\n",
        "**As max_tokens = 1024 helps to capture the response, we will use it for the future queries (only LLM and LLM with Prompt) in order to avoid truncation.**"
      ],
      "metadata": {
        "id": "gU-IIzqa2KPM"
      }
    },
    {
      "cell_type": "markdown",
      "metadata": {
        "id": "J6yxICeVFjVc"
      },
      "source": [
        "### Query 2: What are the common symptoms for appendicitis, and can it be cured via medicine? If not, what surgical procedure should be followed to treat it?"
      ]
    },
    {
      "cell_type": "code",
      "execution_count": 12,
      "metadata": {
        "id": "BdiHRgEqQIP9",
        "colab": {
          "base_uri": "https://localhost:8080/"
        },
        "outputId": "ecc7845f-db12-4601-fae0-a49139a42270"
      },
      "outputs": [
        {
          "output_type": "stream",
          "name": "stderr",
          "text": [
            "Llama.generate: prefix-match hit\n"
          ]
        },
        {
          "output_type": "stream",
          "name": "stdout",
          "text": [
            "Appendicitis is a medical condition characterized by inflammation of the appendix, a small tube-shaped organ located in the lower right side of the abdomen. The symptoms of appendicitis can vary from person to person, but some common signs include:\n",
            "\n",
            "1. Abdominal pain: The pain may start as a mild discomfort around the navel or in the lower right abdomen, which then gradually moves to the right lower quadrant and becomes more severe over time. The pain may be constant or intermittent and is often worsened by movement, coughing, or deep breathing.\n",
            "2. Loss of appetite: People with appendicitis may lose their appetite due to abdominal pain and discomfort.\n",
            "3. Nausea and vomiting: Vomiting is a common symptom of appendicitis, especially in the later stages of the condition.\n",
            "4. Fever: A fever of 100.4°F (38°C) or higher may be present in some cases of appendicitis.\n",
            "5. Constipation or diarrhea: Both constipation and diarrhea can occur with appendicitis, depending on the location and severity of the inflammation.\n",
            "6. Rebound tenderness: This is a sign of inflammation in the abdomen. When pressure is applied to the abdomen, the pain worsens when the pressure is released.\n",
            "7. Guarding: People with appendicitis may involuntarily contract their abdominal muscles to protect the affected area from further discomfort or injury.\n",
            "\n",
            "Appendicitis cannot be cured via medicine alone. Antibiotics may be used to treat any accompanying bacterial infection, but they do not address the underlying inflammation in the appendix. Surgery is the only effective treatment for appendicitis. The most common surgical procedure for treating appendicitis is an appendectomy, which involves removing the inflamed appendix through a small incision in the abdomen. This procedure can be performed as an open surgery or laparoscopically (using small incisions and a camera to guide the surgeon). The choice of surgical approach depends on various factors, including the severity of the condition, the patient's overall health, and the surgeon's preference.\n",
            "\n",
            "It is essential to seek medical attention promptly if you suspect appendicitis, as delaying treatment can lead to complications such as perforation (rupture) of the appendix, which can result in severe infection, abscess formation, or even sepsis. Early diagnosis and timely intervention with surgery can help prevent these complications and improve the chances of a successful recovery.\n"
          ]
        }
      ],
      "source": [
        "print(response(\"What are the common symptoms for appendicitis, and can it be cured via medicine? If not, what surgical procedure should be followed to treat it?\", max_tokens=1024))"
      ]
    },
    {
      "cell_type": "markdown",
      "source": [
        "* Query 2's response is also generic. Increasing max_tokens size helps to capture the entire response."
      ],
      "metadata": {
        "id": "yCBPEuzM2vJK"
      }
    },
    {
      "cell_type": "markdown",
      "metadata": {
        "id": "oflaoOGiFjVd"
      },
      "source": [
        "### Query 3: What are the effective treatments or solutions for addressing sudden patchy hair loss, commonly seen as localized bald spots on the scalp, and what could be the possible causes behind it?"
      ]
    },
    {
      "cell_type": "code",
      "execution_count": 13,
      "metadata": {
        "id": "N-mx9yboQIt-",
        "colab": {
          "base_uri": "https://localhost:8080/"
        },
        "outputId": "0c8225a3-1bf9-4db4-87b1-e88800a13e78"
      },
      "outputs": [
        {
          "output_type": "stream",
          "name": "stderr",
          "text": [
            "Llama.generate: prefix-match hit\n"
          ]
        },
        {
          "output_type": "stream",
          "name": "stdout",
          "text": [
            "Sudden patchy hair loss, also known as alopecia areata, is a common autoimmune disorder that affects the hair follicles. It can result in round or oval bald patches on the scalp, but it can also occur on other parts of the body such as the beard area, eyebrows, or eyelashes.\n",
            "\n",
            "The exact cause of alopecia areata is not known, but it's believed to be related to a problem with the immune system. Some possible triggers for this condition include stress, genetics, viral infections, and certain medications.\n",
            "\n",
            "There are several treatments that have been shown to be effective in addressing sudden patchy hair loss:\n",
            "\n",
            "1. Corticosteroids: These are anti-inflammatory drugs that can help reduce inflammation and suppress the immune system's attack on the hair follicles. They can be applied topically or taken orally, depending on the severity of the condition.\n",
            "2. Minoxidil: This is a medication that has been shown to promote hair growth in some people with alopecia areata. It works by increasing blood flow to the affected area and stimulating hair follicles to produce new hairs.\n",
            "3. DHT blockers: Dihydrotestosterone (DHT) is a hormone that can contribute to hair loss. Some people with alopecia areata have high levels of DHT in their scalp. Finasteride and dutasteride are medications that can block the production of DHT, which may help promote hair growth.\n",
            "4. Immune system modulators: These drugs work by suppressing the immune system's attack on the hair follicles. Examples include methotrexate, mycophenolate mofetil, and cyclosporine.\n",
            "5. Hair transplantation: In some cases, hair transplantation may be an option for people with alopecia areata who have large bald patches that don't respond to other treatments. This involves taking healthy hairs from another part of the scalp or body and transplanting them into the affected area.\n",
            "\n",
            "It's important to note that there is no cure for alopecia areata, and not all treatments work for everyone. The effectiveness of treatment can also depend on the severity and location of the bald patches. If you're experiencing sudden patchy hair loss, it's best to speak with a healthcare professional or dermatologist to determine the underlying cause and discuss your treatment options.\n"
          ]
        }
      ],
      "source": [
        "print(response(\"What are the effective treatments or solutions for addressing sudden patchy hair loss, commonly seen as localized bald spots on the scalp, and what could be the possible causes behind it?\", max_tokens=1024))"
      ]
    },
    {
      "cell_type": "markdown",
      "source": [
        "* Query 3's response is also generic. Increasing max_tokens size helps to capture the entire response."
      ],
      "metadata": {
        "id": "B_lPsQz_8DwK"
      }
    },
    {
      "cell_type": "markdown",
      "metadata": {
        "id": "WUUqY4FbFjVe"
      },
      "source": [
        "### Query 4:  What treatments are recommended for a person who has sustained a physical injury to brain tissue, resulting in temporary or permanent impairment of brain function?"
      ]
    },
    {
      "cell_type": "code",
      "execution_count": 14,
      "metadata": {
        "id": "TEsVMaKaQJzh",
        "colab": {
          "base_uri": "https://localhost:8080/"
        },
        "outputId": "705219b9-cf77-425b-a37a-04cfe9d2b629"
      },
      "outputs": [
        {
          "output_type": "stream",
          "name": "stderr",
          "text": [
            "Llama.generate: prefix-match hit\n"
          ]
        },
        {
          "output_type": "stream",
          "name": "stdout",
          "text": [
            "A person who has sustained a physical injury to brain tissue, also known as a traumatic brain injury (TBI), may require various treatments depending on the severity and location of the injury. Here are some common treatments recommended for TBIs:\n",
            "\n",
            "1. Emergency care: The first priority is to ensure the person's airway is clear, they are breathing, and their heart is beating normally. In severe cases, emergency surgery may be required to remove hematomas or other obstructions.\n",
            "2. Medications: Depending on the symptoms, medications may be prescribed to manage conditions such as swelling, seizures, pain, or infections. For example, corticosteroids may be used to reduce brain swelling, and anticonvulsants may be given to prevent seizures.\n",
            "3. Rehabilitation: Rehabilitation is an essential part of the recovery process for TBI patients. Rehabilitation may include physical therapy to help with mobility and strength, occupational therapy to help with daily living skills, speech therapy to improve communication, and cognitive rehabilitation to address memory, attention, and other cognitive impairments.\n",
            "4. Assistive devices: Depending on the extent of the injury, assistive devices such as wheelchairs, walkers, or braces may be necessary to help with mobility and independence.\n",
            "5. Surgery: In some cases, surgery may be required to remove hematomas or other obstructions that are putting pressure on the brain. Craniotomies, which involve removing a portion of the skull to relieve pressure on the brain, may also be necessary in severe cases.\n",
            "6. Nutritional support: TBI patients may require nutritional support through feeding tubes or intravenous nutrition if they are unable to eat or drink normally.\n",
            "7. Psychological support: TBI patients and their families may benefit from psychological support to help cope with the emotional and psychological challenges of recovery. This may include counseling, support groups, or other forms of therapy.\n",
            "8. Lifestyle modifications: Depending on the extent of the injury, lifestyle modifications such as avoiding alcohol, quitting smoking, and getting enough rest may be necessary to promote healing and prevent further damage to the brain.\n"
          ]
        }
      ],
      "source": [
        "print(response(\"What treatments are recommended for a person who has sustained a physical injury to brain tissue, resulting in temporary or permanent impairment of brain function?\", max_tokens=1024))"
      ]
    },
    {
      "cell_type": "markdown",
      "source": [
        "* Query 4's response is also generic. Increasing max_tokens size helps to capture the entire response."
      ],
      "metadata": {
        "id": "t358A8iZ8GKa"
      }
    },
    {
      "cell_type": "markdown",
      "metadata": {
        "id": "5laPFTHrFjVf"
      },
      "source": [
        "### Query 5: What are the necessary precautions and treatment steps for a person who has fractured their leg during a hiking trip, and what should be considered for their care and recovery?"
      ]
    },
    {
      "cell_type": "code",
      "execution_count": 15,
      "metadata": {
        "id": "VfrlmrP5QKJz",
        "colab": {
          "base_uri": "https://localhost:8080/"
        },
        "outputId": "dc97d693-1016-4d57-ac57-0472d84b56b4"
      },
      "outputs": [
        {
          "output_type": "stream",
          "name": "stderr",
          "text": [
            "Llama.generate: prefix-match hit\n"
          ]
        },
        {
          "output_type": "stream",
          "name": "stdout",
          "text": [
            "First and foremost, if you suspect that someone has fractured their leg while hiking, it's essential to ensure their safety and prevent further injury. Here are some necessary precautions:\n",
            "\n",
            "1. Keep the person calm and still: Encourage them to remain as still as possible to minimize pain and prevent worsening the injury.\n",
            "2. Assess the situation: Check for any signs of shock, such as pale skin, rapid heartbeat, or shallow breathing. If you notice these symptoms, seek medical help immediately.\n",
            "3. Immobilize the leg: Use a splint, sling, or other available materials to immobilize the leg and prevent movement. Be sure not to apply too much pressure on the injury site.\n",
            "4. Provide pain relief: Offer over-the-counter pain medication, such as acetaminophen or ibuprofen, to help manage pain.\n",
            "5. Seek medical attention: If the fracture is severe or if you suspect that there may be other injuries, seek medical help as soon as possible.\n",
            "\n",
            "Once you've ensured the person's safety and stability, consider the following steps for their care and recovery:\n",
            "\n",
            "1. Transportation: Arrange for transportation to a hospital or medical facility as soon as possible. If it's not feasible to move the person, call emergency services for assistance.\n",
            "2. Diagnosis and treatment: A healthcare professional will diagnose the fracture and determine the best course of treatment based on the severity and location of the injury. This may include immobilization with a cast or brace, surgery, or other interventions.\n",
            "3. Rehabilitation: After the initial treatment, the person will need to undergo rehabilitation to regain strength, flexibility, and mobility in the affected leg. This may involve physical therapy exercises, assistive devices, and other interventions.\n",
            "4. Follow-up care: Regular follow-up appointments with a healthcare professional are essential to monitor the healing process and ensure that the fracture is healing correctly.\n",
            "5. Prevention: Encourage the person to take steps to prevent future injuries while hiking, such as wearing appropriate footwear, using trekking poles, and staying on marked trails.\n"
          ]
        }
      ],
      "source": [
        "print(response(\"What are the necessary precautions and treatment steps for a person who has fractured their leg during a hiking trip, and what should be considered for their care and recovery?\", max_tokens=1024))"
      ]
    },
    {
      "cell_type": "markdown",
      "source": [
        "* Query 5's response is also generic. Increasing max_tokens size helps to capture the entire response."
      ],
      "metadata": {
        "id": "43sLGGKC8Ie-"
      }
    },
    {
      "cell_type": "markdown",
      "source": [
        "### Observation\n",
        "\n",
        "* All queries to llm without prompt are generic with additional information.\n",
        "* Prompt engineering tune this queries and extracts specific information\n"
      ],
      "metadata": {
        "id": "3yo1Op-kQIoP"
      }
    },
    {
      "cell_type": "markdown",
      "source": [
        "#### QUerying with Prompt Engineering\n",
        "\n",
        "* System Prompt - System prompt guids AI its behavior and responses thoughout its interaction.\n",
        "\n",
        "* In this project, we definied a system prompt and instruct AI to help medical professional to find comprehensive, accurate medical information and treatment plan."
      ],
      "metadata": {
        "id": "WfLBu2_7RhrT"
      }
    },
    {
      "cell_type": "code",
      "source": [
        "system_prompt = \"\"\"\n",
        "You are a highly knowledgeable and reliable medical assistant, designed to support healthcare professionals by providing comprehensive, evidence-based, and up-to-date medical information and treatment recommendations.\n",
        "\n",
        "Your responses must reflect current clinical guidelines, medical best practices, and trustworthy sources. Always prioritize accuracy, patient safety, and clarity in your answers.\n",
        "\n",
        "Response Requirements:\n",
        "\n",
        "As an expert, address the following areas as needed, with precision, clinical relevance, and clear structure:\n",
        "\n",
        "1. Diagnostic Assistance\n",
        "Summarize the common symptoms, risk factors, diagnostic criteria, treatments, and potential complications for various diseases and conditions.\n",
        "\n",
        "2. Drug Information\n",
        "Provide a list of relevant medications, including their trade names, mechanisms of action, therapeutic uses, and notable side effects.\n",
        "\n",
        "3. Treatment Planning\n",
        "Outline first-line treatments and alternative options, highlighting clinical considerations such as comorbidities, age, or contraindications that may influence treatment choice.\n",
        "\n",
        "4. Specialty Knowledge\n",
        "Describe diagnostic pathways for evaluating specific disorders, including necessary laboratory tests, imaging studies, and clinical assessments.\n",
        "\n",
        "5. Critical Care Protocols\n",
        "Detail protocols for managing acute and life-threatening conditions (e.g., sepsis), covering key aspects like initial stabilization, pharmacologic interventions, monitoring, and escalation of care.\n",
        "\n",
        "6. Clarity and Communication\n",
        "Use clear, professional language suitable for clinicians. Avoid unnecessary medical jargon that may obscure understanding.\n",
        "\n",
        "7. Limitations and Clinical Judgment\n",
        "Acknowledge limitations in available evidence where applicable. Provide recommendations for when specialist referral or further investigation is warranted.\n",
        "\n",
        "Important Guidelines:\n",
        "\n",
        "1. Base your responses on authoritative sources such as WHO, CDC, NICE, UpToDate, or peer-reviewed medical literature.\n",
        "\n",
        "2. Clearly cite or reference evidence-based guidelines when appropriate.\n",
        "\n",
        "3. Do not make personal diagnoses or suggest treatments that could be unsafe.\n",
        "\n",
        "4. If no reliable information is available, respond with: “I don’t know.”\n",
        "\n",
        "Your goal is to assist healthcare professionals in making informed clinical decisions with clarity, safety, and confidence.\n",
        "\"\"\""
      ],
      "metadata": {
        "id": "9L6bPG3S-uAm"
      },
      "execution_count": 16,
      "outputs": []
    },
    {
      "cell_type": "code",
      "execution_count": 17,
      "metadata": {
        "id": "X9al0Pf4_ILU"
      },
      "outputs": [],
      "source": [
        "def response_with_prompt(query,max_tokens=128,temperature=0,top_p=0.95,top_k=40):\n",
        "    query = system_prompt + '\\n' + query\n",
        "    return response(query=query,max_tokens=max_tokens,temperature=temperature,top_p=top_p,top_k=top_k)"
      ]
    },
    {
      "cell_type": "markdown",
      "metadata": {
        "id": "9Jg3r_LWOeff"
      },
      "source": [
        "### Query 1: What is the protocol for managing sepsis in a critical care unit?"
      ]
    },
    {
      "cell_type": "code",
      "execution_count": 18,
      "metadata": {
        "id": "YqM4VMw5ROhX",
        "colab": {
          "base_uri": "https://localhost:8080/"
        },
        "outputId": "8d8eef24-b363-41f0-a475-fa17062e0b93"
      },
      "outputs": [
        {
          "output_type": "stream",
          "name": "stderr",
          "text": [
            "Llama.generate: prefix-match hit\n"
          ]
        },
        {
          "output_type": "stream",
          "name": "stdout",
          "text": [
            "Sepsis is a life-threatening condition caused by a dysregulated host response to infection. Early recognition and prompt management are crucial to improve outcomes. Here's an outline of the sepsis management protocol in a critical care unit:\n",
            "\n",
            "1. Initial stabilization:\n",
            "   - Secure airway, provide oxygen support, and initiate mechanical ventilation if necessary.\n",
            "   - Establish intravenous access and administer fluids to maintain adequate blood pressure and organ perfusion.\n",
            "   - Monitor vital signs, electrolytes, glucose levels, lactate, urine output, and arterial blood gases.\n",
            "   - Administer broad-spectrum antibiotics based on suspected infection site and microbiological culture results.\n",
            "\n",
            "2. Pharmacologic interventions:\n",
            "   - Administer vasopressors to maintain mean arterial pressure (MAP) ≥65 mmHg if needed.\n",
            "   - Initiate corticosteroids in cases of septic shock or refractory hypotension.\n",
            "   - Consider administering intravenous immunoglobulin (IVIG) for severe sepsis or septic shock, especially in specific patient populations like neonates, elderly adults, and those with compromised immune systems.\n",
            "\n",
            "3. Monitoring:\n",
            "   - Continuously monitor cardiac output, stroke volume index, and systemic vascular resistance index using a pulmonary artery catheter or other advanced hemodynamic monitoring techniques if available.\n",
            "   - Regularly assess mental status, urine output, and peripheral perfusion.\n",
            "   - Monitor electrolytes, glucose levels, coagulation parameters, and lactate levels.\n",
            "\n",
            "4. Escalation of care:\n",
            "   - If the patient's condition does not improve despite initial interventions, consider transferring them to a specialized intensive care unit or consulting with a sepsis specialist.\n",
            "   - In cases of refractory septic shock, consider extracorporeal membrane oxygenation (ECMO) or other advanced therapies like renally replaced therapy or immunomodulation.\n",
            "\n",
            "5. Prevention and infection control:\n",
            "   - Implement strict infection control measures to prevent the spread of sepsis within the healthcare facility.\n",
            "   - Ensure all healthcare professionals involved in the patient's care are aware of their role in sepsis recognition and management.\n",
            "   - Encourage early recognition and prompt reporting of suspected sepsis cases.\n",
            "\n",
            "References:\n",
            "- Surviving Sepsis Campaign: International Guidelines for Management of Critically Ill Adults with Coronavirus Disease 2019 (COVID-19). JAMA. 2020;324(8):762-773. doi:10.1001/jama.2020.15802\n",
            "- Rhodes A, Evans L, Alhazzani W, et al. Surviving Sepsis Campaign: Guidelines for the Management of Critically Ill Adults 2016. Intensive Care Med. 2017;43(3):304-385. doi:10.1007/s00134-016-4391-6\n"
          ]
        }
      ],
      "source": [
        "print(response_with_prompt(\"What is the protocol for managing sepsis in a critical care unit?\", max_tokens=1024))"
      ]
    },
    {
      "cell_type": "markdown",
      "source": [
        "* Query respond is more focused than before and guided by system prompt.\n",
        "* Generic and not domain specific."
      ],
      "metadata": {
        "id": "muVPcdUUXBrK"
      }
    },
    {
      "cell_type": "markdown",
      "metadata": {
        "id": "iYpyw4HjOeff"
      },
      "source": [
        "### Query 2: What are the common symptoms for appendicitis, and can it be cured via medicine? If not, what surgical procedure should be followed to treat it?"
      ]
    },
    {
      "cell_type": "code",
      "execution_count": 19,
      "metadata": {
        "id": "GXl09pFfRPBr",
        "colab": {
          "base_uri": "https://localhost:8080/"
        },
        "outputId": "6e1b87a7-d51e-4f5a-a1d1-f02c53ef681c"
      },
      "outputs": [
        {
          "output_type": "stream",
          "name": "stderr",
          "text": [
            "Llama.generate: prefix-match hit\n"
          ]
        },
        {
          "output_type": "stream",
          "name": "stdout",
          "text": [
            "Appendicitis is a common inflammatory condition characterized by the swelling and eventual rupture of the appendix, a small pouch located in the lower right abdomen. The following are common symptoms associated with appendicitis:\n",
            "\n",
            "1. Abdominal pain, typically starting around the navel area but migrating to the right lower quadrant over several hours.\n",
            "2. Loss of appetite and/or anorexia.\n",
            "3. Nausea and vomiting.\n",
            "4. Fever (often low-grade initially, but can rise significantly if appendicitis progresses).\n",
            "5. Constipation or diarrhea.\n",
            "6. Rebound tenderness when the abdomen is palpated.\n",
            "7. Guarding (involuntary contraction of abdominal muscles) and rigidity in response to pressure on the affected area.\n",
            "8. Inability to pass gas or have a bowel movement.\n",
            "\n",
            "Appendicitis cannot be cured via medicine alone, as the condition involves inflammation and eventual rupture of the appendix. Once the appendix has ruptured, peritonitis (inflammation of the peritoneum) can occur, leading to a potentially life-threatening infection. Therefore, surgical intervention is necessary for effective treatment.\n",
            "\n",
            "The standard surgical procedure for treating appendicitis is an appendectomy, which involves removing the inflamed appendix. This procedure can be performed either laparoscopically (using small incisions and a camera) or open (through a larger incision). The choice between these two methods depends on factors such as the patient's age, overall health, and the severity of the condition.\n",
            "\n",
            "References:\n",
            "1. UpToDate - Appendicitis in adults: Clinical manifestations and diagnosis\n",
            "2. Mayo Clinic - Appendicitis: Symptoms & causes\n",
            "3. NHS UK - Appendicitis: Treatment\n",
            "4. American College of Surgeons - Appendectomy: Surgical procedure for appendicitis\n"
          ]
        }
      ],
      "source": [
        "print(response_with_prompt(\"What are the common symptoms for appendicitis, and can it be cured via medicine? If not, what surgical procedure should be followed to treat it?\", max_tokens=1024))"
      ]
    },
    {
      "cell_type": "markdown",
      "source": [
        "* Query respond is more focused than before and guided by system prompt.\n",
        "* Generic and not domain specific."
      ],
      "metadata": {
        "id": "iGCBGyqzX3O6"
      }
    },
    {
      "cell_type": "markdown",
      "metadata": {
        "id": "dRp92JQZOeff"
      },
      "source": [
        "### Query 3: What are the effective treatments or solutions for addressing sudden patchy hair loss, commonly seen as localized bald spots on the scalp, and what could be the possible causes behind it?"
      ]
    },
    {
      "cell_type": "code",
      "execution_count": 20,
      "metadata": {
        "id": "JOgATEpMRPve",
        "colab": {
          "base_uri": "https://localhost:8080/"
        },
        "outputId": "ca99ae52-7b55-4059-e777-d6e0cd09cf07"
      },
      "outputs": [
        {
          "output_type": "stream",
          "name": "stderr",
          "text": [
            "Llama.generate: prefix-match hit\n"
          ]
        },
        {
          "output_type": "stream",
          "name": "stdout",
          "text": [
            "Answer:\n",
            "\n",
            "Sudden patchy hair loss, also known as alopecia areata, is an autoimmune disorder that results in hair loss from some or all areas of the scalp. The exact cause of alopecia areata is unknown, but it's believed to be related to a problem with the immune system.\n",
            "\n",
            "Symptoms:\n",
            "- Round or oval bald patches on the scalp, beard, or other areas of the body\n",
            "- Hair loss may occur suddenly and can affect one or more areas of the body\n",
            "- In some cases, hair regrowth may occur within several months to a year\n",
            "\n",
            "Risk factors:\n",
            "- Family history of alopecia areata or other autoimmune diseases\n",
            "- Stress, anxiety, or emotional trauma\n",
            "- Viral infections\n",
            "- Certain medications (e.g., antithyroid drugs, retinoids)\n",
            "\n",
            "Diagnostic criteria:\n",
            "A definitive diagnosis is typically made based on the appearance of the hair loss and ruling out other causes such as fungal infections, nutritional deficiencies, or hormonal imbalances. A scalp biopsy may be performed to confirm the diagnosis.\n",
            "\n",
            "Treatments:\n",
            "1. Topical corticosteroids: These are applied directly to the affected area to reduce inflammation and promote hair regrowth.\n",
            "2. Intralesional corticosteroid injections: Corticosteroids are injected into the bald patches to help stimulate hair growth.\n",
            "3. Systemic corticosteroids: Oral corticosteroids may be prescribed for extensive hair loss or when other treatments have been unsuccessful.\n",
            "4. Immunomodulatory agents: These drugs, such as minoxidil and anthralin, can help suppress the immune response that causes hair loss.\n",
            "5. Phototherapy: Exposure to ultraviolet A (UVA) or ultraviolet B (UVB) light may stimulate hair regrowth.\n",
            "6. Hair transplantation: In severe cases where there is extensive hair loss, a hair transplant may be considered as a last resort.\n",
            "\n",
            "Complications:\n",
            "- Scarring alopecia: Prolonged use of corticosteroids can lead to thinning or scarring of the skin, making it difficult for new hairs to grow.\n",
            "- Psychological effects: Hair loss can cause significant emotional distress and impact self-confidence.\n",
            "\n",
            "It's important to note that there is no definitive cure for alopecia areata, and treatment outcomes vary from person to person. If you suspect a patient has alopecia areata or if they present with sudden patchy hair loss, consider referring them to a dermatologist for further evaluation and appropriate treatment.\n"
          ]
        }
      ],
      "source": [
        "print(response_with_prompt(\"What are the effective treatments or solutions for addressing sudden patchy hair loss, commonly seen as localized bald spots on the scalp, and what could be the possible causes behind it?\", max_tokens=1024))"
      ]
    },
    {
      "cell_type": "markdown",
      "source": [
        "* Query respond is more focused than before and guided by system prompt.\n",
        "* Generic and not domain specific."
      ],
      "metadata": {
        "id": "ckIUg-U0X4mg"
      }
    },
    {
      "cell_type": "markdown",
      "metadata": {
        "id": "AA45zwyUOefg"
      },
      "source": [
        "### Query 4:  What treatments are recommended for a person who has sustained a physical injury to brain tissue, resulting in temporary or permanent impairment of brain function?"
      ]
    },
    {
      "cell_type": "code",
      "execution_count": 21,
      "metadata": {
        "id": "VA7G8FOnRQZY",
        "colab": {
          "base_uri": "https://localhost:8080/"
        },
        "outputId": "c955d7ee-7b67-42c2-9a9f-c423239d5c6f"
      },
      "outputs": [
        {
          "output_type": "stream",
          "name": "stderr",
          "text": [
            "Llama.generate: prefix-match hit\n"
          ]
        },
        {
          "output_type": "stream",
          "name": "stdout",
          "text": [
            "1. Diagnostic Assistance:\n",
            "Brain injuries can be classified as traumatic (resulting from external force) or non-traumatic (caused by internal factors like stroke or infection). Common symptoms include headache, confusion, memory loss, difficulty speaking or understanding speech, seizures, and paralysis. Diagnostic criteria involve a thorough neurological examination, imaging studies (CT or MRI), and possibly cognitive assessments to determine the extent of damage.\n",
            "\n",
            "2. Drug Information:\n",
            "Medications used in brain injury treatment include analgesics for pain relief (acetaminophen, opioids), anti-inflammatory drugs (nonsteroidal anti-inflammatory drugs or corticosteroids), anticonvulsants to prevent seizures (valproate, levetiracetam), and medications to manage symptoms like depression or anxiety.\n",
            "\n",
            "3. Treatment Planning:\n",
            "First-line treatments include restoring blood flow to the brain if there is a vascular cause, controlling intracranial pressure, preventing infection, and managing symptoms. Rehabilitation therapies such as physical therapy, occupational therapy, speech therapy, and cognitive rehabilitation are crucial for improving function and independence. Surgical interventions may be necessary in some cases to remove hematomas or repair skull fractures.\n",
            "\n",
            "4. Specialty Knowledge:\n",
            "Diagnostic pathways for brain injuries involve a multidisciplinary approach, including neurologists, neurosurgeons, radiologists, and rehabilitation specialists. Imaging studies like CT scans and MRIs are essential for identifying the location and extent of damage. Laboratory tests may be ordered to rule out other conditions that could mimic brain injury symptoms.\n",
            "\n",
            "5. Critical Care Protocols:\n",
            "Initial stabilization involves maintaining adequate oxygenation, ventilation, and circulation. Intracranial pressure monitoring is crucial in severe cases. Pharmacologic interventions include administering osmotic agents to reduce edema, corticosteroids for inflammation reduction, and anticonvulsants to prevent seizures. Monitoring includes frequent neurological assessments, vital signs, and laboratory tests. Escalation of care may involve intubation, mechanical ventilation, or surgical intervention if the patient's condition deteriorates.\n",
            "\n",
            "6. Clarity and Communication:\n",
            "Healthcare professionals should communicate clearly with patients and their families about the diagnosis, treatment options, and expected outcomes. Using clear, professional language is essential to ensure understanding.\n",
            "\n",
            "7. Limitations and Clinical Judgment:\n",
            "The effectiveness of treatments for brain injuries depends on the severity and location of the damage. In some cases, recovery may be incomplete or limited. Specialist referral and further investigation are warranted if there is uncertainty about the diagnosis or if the patient's condition does not improve as expected.\n"
          ]
        }
      ],
      "source": [
        "print(response_with_prompt(\"What treatments are recommended for a person who has sustained a physical injury to brain tissue, resulting in temporary or permanent impairment of brain function?\", max_tokens=1024))"
      ]
    },
    {
      "cell_type": "markdown",
      "source": [
        "* Query respond is more focused than before and guided by system prompt.\n",
        "* Generic and not domain specific."
      ],
      "metadata": {
        "id": "gZsEcaHDX6Ch"
      }
    },
    {
      "cell_type": "markdown",
      "metadata": {
        "id": "TYXxiSuBOefg"
      },
      "source": [
        "### Query 5: What are the necessary precautions and treatment steps for a person who has fractured their leg during a hiking trip, and what should be considered for their care and recovery?"
      ]
    },
    {
      "cell_type": "code",
      "execution_count": 22,
      "metadata": {
        "id": "mE2GMQk8RQ_p",
        "colab": {
          "base_uri": "https://localhost:8080/"
        },
        "outputId": "099f866b-823a-44eb-852c-10ede15a0d1f"
      },
      "outputs": [
        {
          "output_type": "stream",
          "name": "stderr",
          "text": [
            "Llama.generate: prefix-match hit\n"
          ]
        },
        {
          "output_type": "stream",
          "name": "stdout",
          "text": [
            "1. Diagnostic Assistance:\n",
            "A suspected leg fracture is typically characterized by intense pain, swelling, deformity, inability to bear weight, and possibly an audible snap or crunching sound at the time of injury. Risk factors include hiking on uneven terrain, tripping over rocks or roots, and falling from a height. Diagnostic criteria involve physical examination, including palpation for deformities and tenderness, as well as imaging studies like X-rays to confirm the fracture location and severity.\n",
            "\n",
            "2. Drug Information:\n",
            "Pain management is crucial in the initial stages of leg fracture care. Commonly used medications include acetaminophen, nonsteroidal anti-inflammatory drugs (NSAIDs), or opioids for severe pain. Tetanus prophylaxis may be necessary if the injury occurred due to a puncture wound or contamination with dirt.\n",
            "\n",
            "3. Treatment Planning:\n",
            "Initial treatment involves immobilizing the affected limb using a splint, sling, or cast to prevent further damage and promote healing. Depending on the fracture location and severity, surgical intervention may be required for complex fractures or those that do not respond to conservative management. Rehabilitation typically includes physical therapy to restore strength, flexibility, and range of motion.\n",
            "\n",
            "4. Specialty Knowledge:\n",
            "If a leg fracture is suspected, seek medical attention promptly. In the interim, try to keep the injured person as comfortable as possible by providing warmth, elevating the limb, and administering pain relief if available. Avoid moving the leg excessively to prevent worsening damage or dislocation.\n",
            "\n",
            "5. Critical Care Protocols:\n",
            "For severe fractures that compromise circulation or cause significant bleeding, initial stabilization may involve applying a tourniquet temporarily to control hemorrhage. Monitor vital signs closely and provide oxygen therapy if necessary. Administer tetanus prophylaxis as needed.\n",
            "\n",
            "6. Clarity and Communication:\n",
            "Clearly explain the suspected diagnosis and treatment plan to the person with the leg fracture, as well as their companions or caregivers. Encourage them to ask questions and provide reassurance that proper care will be provided.\n",
            "\n",
            "7. Limitations and Clinical Judgment:\n",
            "The specific treatment for a leg fracture depends on various factors such as the location, severity, and complexity of the injury. Always consult with a healthcare professional for an accurate diagnosis and personalized treatment plan.\n"
          ]
        }
      ],
      "source": [
        "print(response_with_prompt  (\"What are the necessary precautions and treatment steps for a person who has fractured their leg during a hiking trip, and what should be considered for their care and recovery?\", max_tokens=1024))"
      ]
    },
    {
      "cell_type": "markdown",
      "source": [
        "* Query respond is more focused than before and guided by system prompt.\n",
        "* Generic and not domain specific."
      ],
      "metadata": {
        "id": "y8uVE8NVX7l1"
      }
    },
    {
      "cell_type": "markdown",
      "metadata": {
        "id": "t_O1PGdNO2M9"
      },
      "source": [
        "## Data Preparation for RAG"
      ]
    },
    {
      "cell_type": "markdown",
      "source": [
        "### Observation\n",
        "* So far, we observed that LLM retures generic response with prompt.\n",
        "* RAG embeds domain knowledge into LLM.\n",
        "* The steps to build a RAG are as follows:\n",
        "    * A domain specific reference document has been feed to model. First, we chunk the documents into small pieces, converted to a vector by Transformer embedding, and stored it to a vector database.\n",
        "    * When a user query, it is encoded with the same transformer and applied with the same embedding to convert it to vector. Later, top k similar chunk/document have been extracted as context from vector database using similarity metric (cosine similarity) and add them into the prompt along with the system prompt and submitted to llm.\n",
        "    * llm responds queries relevant to the sysmtem prompts and user context accordingly."
      ],
      "metadata": {
        "id": "qXT4WR2yi9fb"
      }
    },
    {
      "cell_type": "code",
      "execution_count": 23,
      "metadata": {
        "id": "aWdDS5M36DbA"
      },
      "outputs": [],
      "source": [
        "#Libraries for processing dataframes,text\n",
        "import json,os\n",
        "import tiktoken\n",
        "import pandas as pd\n",
        "\n",
        "#Libraries for Loading Data, Chunking, Embedding, and Vector Databases\n",
        "from langchain.text_splitter import RecursiveCharacterTextSplitter\n",
        "from langchain_community.document_loaders import PyMuPDFLoader\n",
        "from langchain_community.embeddings.sentence_transformer import SentenceTransformerEmbeddings\n",
        "from langchain_community.vectorstores import Chroma"
      ]
    },
    {
      "cell_type": "markdown",
      "metadata": {
        "id": "uTpWESc53dL9"
      },
      "source": [
        "### Loading the Data"
      ]
    },
    {
      "cell_type": "code",
      "execution_count": 25,
      "metadata": {
        "id": "ybj2cEnzRSXq",
        "colab": {
          "base_uri": "https://localhost:8080/"
        },
        "outputId": "ea77c625-ac77-4767-960c-77b600cea2c6"
      },
      "outputs": [
        {
          "output_type": "stream",
          "name": "stdout",
          "text": [
            "Mounted at /content/drive\n"
          ]
        }
      ],
      "source": [
        "from google.colab import drive\n",
        "drive.mount('/content/drive')\n",
        "file_name = \"/content/drive/MyDrive/Colab Notebooks/medical_diagnosis_manual.pdf\"\n",
        "pdf_loader = PyMuPDFLoader(file_name)\n",
        "manual = pdf_loader.load()\n"
      ]
    },
    {
      "cell_type": "code",
      "execution_count": 26,
      "metadata": {
        "id": "x9Huk7Kh4IAP",
        "colab": {
          "base_uri": "https://localhost:8080/"
        },
        "outputId": "c71eb58a-db3a-4bf0-c7c0-8b664cb4e977"
      },
      "outputs": [
        {
          "output_type": "execute_result",
          "data": {
            "text/plain": [
              "{'source': '/content/drive/MyDrive/Colab Notebooks/medical_diagnosis_manual.pdf',\n",
              " 'file_path': '/content/drive/MyDrive/Colab Notebooks/medical_diagnosis_manual.pdf',\n",
              " 'page': 0,\n",
              " 'total_pages': 4114,\n",
              " 'format': 'PDF 1.7',\n",
              " 'title': 'The Merck Manual of Diagnosis & Therapy, 19th Edition',\n",
              " 'author': '',\n",
              " 'subject': '',\n",
              " 'keywords': '',\n",
              " 'creator': 'Atop CHM to PDF Converter',\n",
              " 'producer': 'pdf-lib (https://github.com/Hopding/pdf-lib)',\n",
              " 'creationDate': 'D:20120615054440Z',\n",
              " 'modDate': 'D:20250603172640Z',\n",
              " 'trapped': ''}"
            ]
          },
          "metadata": {},
          "execution_count": 26
        }
      ],
      "source": [
        "manual[0].metadata"
      ]
    },
    {
      "cell_type": "markdown",
      "source": [
        "### Observation\n",
        "* Loading pdf using PyMuPDFLoader.\n",
        "* sample metadata is observed for the first page with pdf infomation."
      ],
      "metadata": {
        "id": "vE7oNEHcYEFF"
      }
    },
    {
      "cell_type": "markdown",
      "metadata": {
        "id": "ffj0ca3eZT4u"
      },
      "source": [
        "### Data Overview"
      ]
    },
    {
      "cell_type": "markdown",
      "metadata": {
        "id": "f9weTDzMxRRS"
      },
      "source": [
        "#### Checking the first 5 pages"
      ]
    },
    {
      "cell_type": "code",
      "execution_count": 27,
      "metadata": {
        "id": "MSEiL--bRTZT",
        "colab": {
          "base_uri": "https://localhost:8080/"
        },
        "outputId": "784e2f18-869d-4f0c-dad7-cf1b461516fc"
      },
      "outputs": [
        {
          "output_type": "stream",
          "name": "stdout",
          "text": [
            "Page Number : 1\n",
            "rakib114@gmail.com\n",
            "ERQ18432WM\n",
            "meant for personal use by rakib114@gma\n",
            "shing the contents in part or full is liable \n",
            "\n",
            "Page Number : 2\n",
            "rakib114@gmail.com\n",
            "ERQ18432WM\n",
            "This file is meant for personal use by rakib114@gmail.com only.\n",
            "Sharing or publishing the contents in part or full is liable for legal action.\n",
            "\n",
            "Page Number : 3\n",
            "Table of Contents\n",
            "1\n",
            "Front    ................................................................................................................................................................................................................\n",
            "1\n",
            "Cover    .......................................................................................................................................................................................................\n",
            "2\n",
            "Front Matter    ...........................................................................................................................................................................................\n",
            "53\n",
            "1 - Nutritional Disorders    ...............................................................................................................................................................\n",
            "53\n",
            "Chapter 1. Nutrition: General Considerations    .....................................................................................................................\n",
            "59\n",
            "Chapter 2. Undernutrition    .............................................................................................................................................................\n",
            "69\n",
            "Chapter 3. Nutritional Support    ...................................................................................................................................................\n",
            "76\n",
            "Chapter 4. Vitamin Deficiency, Dependency & Toxicity    ..................................................................................................\n",
            "99\n",
            "Chapter 5. Mineral Deficiency & Toxicity    ..............................................................................................................................\n",
            "108\n",
            "Chapter 6. Obesity & the Metabolic Syndrome    ...............................................................................................................\n",
            "120\n",
            "2 - Gastrointestinal Disorders    ..............................................................................................................................................\n",
            "120\n",
            "Chapter 7. Approach to the Patient With Upper GI Complaints    ...............................................................................\n",
            "132\n",
            "Chapter 8. Approach to the Patient With Lower GI Complaints    ...............................................................................\n",
            "143\n",
            "Chapter 9. Diagnostic & Therapeutic GI Procedures    ....................................................................................................\n",
            "150\n",
            "Chapter 10. GI Bleeding    ............................................................................................................................................................\n",
            "158\n",
            "Chapter 11. Acute Abdomen & Surgical Gastroenterology    .........................................................................................\n",
            "172\n",
            "Chapter 12. Esophageal & Swallowing Disorders    ..........................................................................................................\n",
            "183\n",
            "Chapter 13. Gastritis & Peptic Ulcer Disease    ..................................................................................................................\n",
            "196\n",
            "Chapter 14. Bezoars & Foreign Bodies    ..............................................................................................................................\n",
            "199\n",
            "Chapter 15. Pancreatitis    ............................................................................................................................................................\n",
            "206\n",
            "Chapter 16. Gastroenteritis    ......................................................................................................................................................\n",
            "213\n",
            "Chapter 17. Malabsorption Syndromes    ..............................................................................................................................\n",
            "225\n",
            "Chapter 18. Irritable Bowel Syndrome    ................................................................................................................................\n",
            "229\n",
            "Chapter 19. Inflammatory Bowel Disease    .........................................................................................................................\n",
            "241\n",
            "Chapter 20. Diverticular Disease    ...........................................................................................................................................\n",
            "246\n",
            "Chapter 21. Anorectal Disorders    ............................................................................................................................................\n",
            "254\n",
            "Chapter 22. Tumors of the GI Tract    ......................................................................................................................................\n",
            "275\n",
            "3 - Hepatic & Biliary Disorders    ............................................................................................................................................\n",
            "275\n",
            "Chapter 23. Approach to the Patient With Liver Disease    ...........................................................................................\n",
            "294\n",
            "Chapter 24. Testing for Hepatic & Biliary Disorders    ......................................................................................................\n",
            "305\n",
            "Chapter 25. Drugs & the Liver    ................................................................................................................................................\n",
            "308\n",
            "Chapter 26. Alcoholic Liver Disease    ....................................................................................................................................\n",
            "314\n",
            "Chapter 27. Fibrosis & Cirrhosis    ............................................................................................................................................\n",
            "322\n",
            "Chapter 28. Hepatitis    ..................................................................................................................................................................\n",
            "333\n",
            "Chapter 29. Vascular Disorders of the Liver    .....................................................................................................................\n",
            "341\n",
            "Chapter 30. Liver Masses & Granulomas    ..........................................................................................................................\n",
            "348\n",
            "Chapter 31. Gallbladder & Bile Duct Disorders    ...............................................................................................................\n",
            "362\n",
            "4 - Musculoskeletal & Connective Tissue Disorders    .........................................................................................\n",
            "362\n",
            "Chapter 32. Approach to the Patient With Joint Disease    ............................................................................................\n",
            "373\n",
            "Chapter 33. Autoimmune Rheumatic Disorders    ..............................................................................................................\n",
            "391\n",
            "Chapter 34. Vasculitis    .................................................................................................................................................................\n",
            "416\n",
            "Chapter 35. Joint Disorders    .....................................................................................................................................................\n",
            "435\n",
            "Chapter 36. Crystal-Induced Arthritides    ..............................................................................................................................\n",
            "443\n",
            "Chapter 37. Osteoporosis    .........................................................................................................................................................\n",
            "448\n",
            "Chapter 38. Paget's Disease of Bone    ..................................................................................................................................\n",
            "451\n",
            "Chapter 39. Osteonecrosis    .......................................................................................................................................................\n",
            "455\n",
            "Chapter 40. Infections of Joints & Bones    ...........................................................................................................................\n",
            "463\n",
            "Chapter 41. Bursa, Muscle & Tendon Disorders    .............................................................................................................\n",
            "470\n",
            "Chapter 42. Neck & Back Pain    ...............................................................................................................................................\n",
            "481\n",
            "Chapter 43. Hand Disorders    ....................................................................................................................................................\n",
            "rakib114@gmail.com\n",
            "ERQ18432WM\n",
            "This file is meant for personal use by rakib114@gmail.com only.\n",
            "Sharing or publishing the contents in part or full is liable for legal action.\n",
            "\n",
            "Page Number : 4\n",
            "491\n",
            "Chapter 44. Foot & Ankle Disorders    .....................................................................................................................................\n",
            "502\n",
            "Chapter 45. Tumors of Bones & Joints    ...............................................................................................................................\n",
            "510\n",
            "5 - Ear, Nose, Throat & Dental Disorders    ..................................................................................................................\n",
            "510\n",
            "Chapter 46. Approach to the Patient With Ear Problems    ...........................................................................................\n",
            "523\n",
            "Chapter 47. Hearing Loss    .........................................................................................................................................................\n",
            "535\n",
            "Chapter 48. Inner Ear Disorders    ............................................................................................................................................\n",
            "542\n",
            "Chapter 49. Middle Ear & Tympanic Membrane Disorders    ........................................................................................\n",
            "550\n",
            "Chapter 50. External Ear Disorders    .....................................................................................................................................\n",
            "554\n",
            "Chapter 51. Approach to the Patient With Nasal & Pharyngeal Symptoms    .......................................................\n",
            "567\n",
            "Chapter 52. Oral & Pharyngeal Disorders    .........................................................................................................................\n",
            "578\n",
            "Chapter 53. Nose & Paranasal Sinus Disorders    .............................................................................................................\n",
            "584\n",
            "Chapter 54. Laryngeal Disorders    ...........................................................................................................................................\n",
            "590\n",
            "Chapter 55. Tumors of the Head & Neck    ...........................................................................................................................\n",
            "600\n",
            "Chapter 56. Approach to Dental & Oral Symptoms    .......................................................................................................\n",
            "619\n",
            "Chapter 57. Common Dental Disorders    .............................................................................................................................\n",
            "629\n",
            "Chapter 58. Dental Emergencies    ..........................................................................................................................................\n",
            "635\n",
            "Chapter 59. Temporomandibular Disorders    ......................................................................................................................\n",
            "641\n",
            "6 - Eye Disorders    ............................................................................................................................................................................\n",
            "641\n",
            "Chapter 60. Approach to the Ophthalmologic Patient    ..................................................................................................\n",
            "669\n",
            "Chapter 61. Refractive Error    ...................................................................................................................................................\n",
            "674\n",
            "Chapter 62. Eyelid & Lacrimal Disorders    ...........................................................................................................................\n",
            "680\n",
            "Chapter 63. Conjunctival & Scleral Disorders    .................................................................................................................\n",
            "690\n",
            "Chapter 64. Corneal Disorders    ...............................................................................................................................................\n",
            "703\n",
            "Chapter 65. Glaucoma    ...............................................................................................................................................................\n",
            "710\n",
            "Chapter 66. Cataract    ...................................................................................................................................................................\n",
            "713\n",
            "Chapter 67. Uveitis    ......................................................................................................................................................................\n",
            "719\n",
            "Chapter 68. Retinal Disorders    .................................................................................................................................................\n",
            "731\n",
            "Chapter 69. Optic Nerve Disorders    ......................................................................................................................................\n",
            "737\n",
            "Chapter 70. Orbital Diseases    ..................................................................................................................................................\n",
            "742\n",
            "7 - Dermatologic Disorders    ....................................................................................................................................................\n",
            "742\n",
            "Chapter 71. Approach to the Dermatologic Patient    .......................................................................................................\n",
            "755\n",
            "Chapter 72. Principles of Topical Dermatologic Therapy    ............................................................................................\n",
            "760\n",
            "Chapter 73. Acne & Related Disorders    ...............................................................................................................................\n",
            "766\n",
            "Chapter 74. Bullous Diseases    .................................................................................................................................................\n",
            "771\n",
            "Chapter 75. Cornification Disorders    .....................................................................................................................................\n",
            "775\n",
            "Chapter 76. Dermatitis    ...............................................................................................................................................................\n",
            "786\n",
            "Chapter 77. Reactions to Sunlight    ........................................................................................................................................\n",
            "791\n",
            "Chapter 78. Psoriasis & Scaling Diseases    ........................................................................................................................\n",
            "799\n",
            "Chapter 79. Hypersensitivity & Inflammatory Disorders    .............................................................................................\n",
            "808\n",
            "Chapter 80. Sweating Disorders    ............................................................................................................................................\n",
            "811\n",
            "Chapter 81. Bacterial Skin Infections    ...................................................................................................................................\n",
            "822\n",
            "Chapter 82. Fungal Skin Infections    ......................................................................................................................................\n",
            "831\n",
            "Chapter 83. Parasitic Skin Infections    ...................................................................................................................................\n",
            "836\n",
            "Chapter 84. Viral Skin Diseases    ............................................................................................................................................\n",
            "841\n",
            "Chapter 85. Pigmentation Disorders    ....................................................................................................................................\n",
            "846\n",
            "Chapter 86. Hair Disorders    .......................................................................................................................................................\n",
            "855\n",
            "Chapter 87. Nail Disorders    .......................................................................................................................................................\n",
            "861\n",
            "Chapter 88. Pressure Ulcers    ...................................................................................................................................................\n",
            "867\n",
            "Chapter 89. Benign Tumors    .....................................................................................................................................................\n",
            "874\n",
            "Chapter 90. Cancers of the Skin    ............................................................................................................................................\n",
            "882\n",
            "8 - Endocrine & Metabolic Disorders    .............................................................................................................................\n",
            "882\n",
            "Chapter 91. Principles of Endocrinology    ............................................................................................................................\n",
            "887\n",
            "Chapter 92. Pituitary Disorders    ..............................................................................................................................................\n",
            "901\n",
            "Chapter 93. Thyroid Disorders    ................................................................................................................................................\n",
            "rakib114@gmail.com\n",
            "ERQ18432WM\n",
            "This file is meant for personal use by rakib114@gmail.com only.\n",
            "Sharing or publishing the contents in part or full is liable for legal action.\n",
            "\n",
            "Page Number : 5\n",
            "921\n",
            "Chapter 94. Adrenal Disorders    ................................................................................................................................................\n",
            "936\n",
            "Chapter 95. Polyglandular Deficiency Syndromes    ........................................................................................................\n",
            "939\n",
            "Chapter 96. Porphyrias    ..............................................................................................................................................................\n",
            "949\n",
            "Chapter 97. Fluid & Electrolyte Metabolism    .....................................................................................................................\n",
            "987\n",
            "Chapter 98. Acid-Base Regulation & Disorders    ..............................................................................................................\n",
            "1001\n",
            "Chapter 99. Diabetes Mellitus & Disorders of Carbohydrate Metabolism    ........................................................\n",
            "1024\n",
            "Chapter 100. Lipid Disorders    ................................................................................................................................................\n",
            "1034\n",
            "Chapter 101. Amyloidosis    ......................................................................................................................................................\n",
            "1037\n",
            "Chapter 102. Carcinoid Tumors    ..........................................................................................................................................\n",
            "1040\n",
            "Chapter 103. Multiple Endocrine Neoplasia Syndromes    .........................................................................................\n",
            "1046\n",
            "9 - Hematology & Oncology    ...............................................................................................................................................\n",
            "1046\n",
            "Chapter 104. Approach to the Patient With Anemia    ..................................................................................................\n",
            "1050\n",
            "Chapter 105. Anemias Caused by Deficient Erythropoiesis    ...................................................................................\n",
            "1061\n",
            "Chapter 106. Anemias Caused by Hemolysis    ...............................................................................................................\n",
            "1078\n",
            "Chapter 107. Neutropenia & Lymphocytopenia    ...........................................................................................................\n",
            "1086\n",
            "Chapter 108. Thrombocytopenia & Platelet Dysfunction    .........................................................................................\n",
            "1097\n",
            "Chapter 109. Hemostasis    ......................................................................................................................................................\n",
            "1104\n",
            "Chapter 110. Thrombotic Disorders    ...................................................................................................................................\n",
            "1107\n",
            "Chapter 111. Coagulation Disorders    ..................................................................................................................................\n",
            "1113\n",
            "Chapter 112. Bleeding Due to Abnormal Blood Vessels    ...........................................................................................\n",
            "1116\n",
            "Chapter 113. Spleen Disorders    ............................................................................................................................................\n",
            "1120\n",
            "Chapter 114. Eosinophilic Disorders    .................................................................................................................................\n",
            "1126\n",
            "Chapter 115. Histiocytic Syndromes    .................................................................................................................................\n",
            "1131\n",
            "Chapter 116. Myeloproliferative Disorders    .....................................................................................................................\n",
            "1141\n",
            "Chapter 117. Leukemias    .........................................................................................................................................................\n",
            "1154\n",
            "Chapter 118. Lymphomas    ......................................................................................................................................................\n",
            "1164\n",
            "Chapter 119. Plasma Cell Disorders    .................................................................................................................................\n",
            "1172\n",
            "Chapter 120. Iron Overload    ...................................................................................................................................................\n",
            "1177\n",
            "Chapter 121. Transfusion Medicine    ...................................................................................................................................\n",
            "1186\n",
            "Chapter 122. Overview of Cancer    ......................................................................................................................................\n",
            "1198\n",
            "Chapter 123. Tumor Immunology    .......................................................................................................................................\n",
            "1204\n",
            "Chapter 124. Principles of Cancer Therapy    ...................................................................................................................\n",
            "1215\n",
            "10 - Immunology; Allergic Disorders    ...........................................................................................................................\n",
            "1215\n",
            "Chapter 125. Biology of the Immune System    ...............................................................................................................\n",
            "1227\n",
            "Chapter 126. Immunodeficiency Disorders    ....................................................................................................................\n",
            "1243\n",
            "Chapter 127. Allergic & Other Hypersensitivity Disorders    .......................................................................................\n",
            "1263\n",
            "Chapter 128. Transplantation    ...............................................................................................................................................\n",
            "1281\n",
            "11 - Infectious Diseases    ........................................................................................................................................................\n",
            "1281\n",
            "Chapter 129. Biology of Infectious Disease    ...................................................................................................................\n",
            "1300\n",
            "Chapter 130. Laboratory Diagnosis of Infectious Disease    ......................................................................................\n",
            "1306\n",
            "Chapter 131. Immunization    ...................................................................................................................................................\n",
            "1313\n",
            "Chapter 132. Bacteria & Antibacterial Drugs    .................................................................................................................\n",
            "1353\n",
            "Chapter 133. Gram-Positive Cocci    ....................................................................................................................................\n",
            "1366\n",
            "Chapter 134. Gram-Positive Bacilli    ...................................................................................................................................\n",
            "1376\n",
            "Chapter 135. Gram-Negative Bacilli    .................................................................................................................................\n",
            "1405\n",
            "Chapter 136. Spirochetes    ......................................................................................................................................................\n",
            "1413\n",
            "Chapter 137. Neisseriaceae    .................................................................................................................................................\n",
            "1419\n",
            "Chapter 138. Chlamydia & Mycoplasmas    ......................................................................................................................\n",
            "1421\n",
            "Chapter 139. Rickettsiae & Related Organisms    ..........................................................................................................\n",
            "1431\n",
            "Chapter 140. Anaerobic Bacteria    ........................................................................................................................................\n",
            "1450\n",
            "Chapter 141. Mycobacteria    ...................................................................................................................................................\n",
            "1470\n",
            "Chapter 142. Fungi    ...................................................................................................................................................................\n",
            "1493\n",
            "Chapter 143. Approach to Parasitic Infections    .............................................................................................................\n",
            "1496\n",
            "Chapter 144. Nematodes (Roundworms)    .......................................................................................................................\n",
            "rakib114@gmail.com\n",
            "ERQ18432WM\n",
            "This file is meant for personal use by rakib114@gmail.com only.\n",
            "Sharing or publishing the contents in part or full is liable for legal action.\n",
            "\n"
          ]
        }
      ],
      "source": [
        "for i in range(5):\n",
        "    print(f\"Page Number : {i+1}\",end=\"\\n\")\n",
        "    print(manual[i].page_content,end=\"\\n\")\n"
      ]
    },
    {
      "cell_type": "markdown",
      "metadata": {
        "id": "7-wNNalNxPKT"
      },
      "source": [
        "#### Checking the number of pages"
      ]
    },
    {
      "cell_type": "code",
      "execution_count": 28,
      "metadata": {
        "id": "-NuC-6SNRT7K",
        "colab": {
          "base_uri": "https://localhost:8080/"
        },
        "outputId": "f8c54a9d-d936-4008-d420-fba0d35dda22"
      },
      "outputs": [
        {
          "output_type": "execute_result",
          "data": {
            "text/plain": [
              "4114"
            ]
          },
          "metadata": {},
          "execution_count": 28
        }
      ],
      "source": [
        "len(manual)"
      ]
    },
    {
      "cell_type": "markdown",
      "metadata": {
        "id": "LECMxTH-zB-R"
      },
      "source": [
        "### Data Chunking"
      ]
    },
    {
      "cell_type": "code",
      "execution_count": 29,
      "metadata": {
        "id": "ir9Zi8rKRUmG"
      },
      "outputs": [],
      "source": [
        "text_splitter = RecursiveCharacterTextSplitter.from_tiktoken_encoder(\n",
        "    encoding_name='cl100k_base',\n",
        "    chunk_size=512,\n",
        "    chunk_overlap=16\n",
        ")"
      ]
    },
    {
      "cell_type": "code",
      "execution_count": 30,
      "metadata": {
        "id": "ufajwazjFZRY"
      },
      "outputs": [],
      "source": [
        "document_chunks = pdf_loader.load_and_split(text_splitter)"
      ]
    },
    {
      "cell_type": "code",
      "execution_count": 31,
      "metadata": {
        "id": "nfSghIGEFaRf",
        "colab": {
          "base_uri": "https://localhost:8080/"
        },
        "outputId": "4c3ff99b-2be6-453a-8dd0-07cf820e6489"
      },
      "outputs": [
        {
          "output_type": "execute_result",
          "data": {
            "text/plain": [
              "8423"
            ]
          },
          "metadata": {},
          "execution_count": 31
        }
      ],
      "source": [
        "len(document_chunks)"
      ]
    },
    {
      "cell_type": "code",
      "execution_count": 32,
      "metadata": {
        "id": "bEi5_DU9FbkI",
        "colab": {
          "base_uri": "https://localhost:8080/",
          "height": 36
        },
        "outputId": "4b4898af-ad77-4939-d8fc-a5d90ef6fe71"
      },
      "outputs": [
        {
          "output_type": "execute_result",
          "data": {
            "text/plain": [
              "'rakib114@gmail.com\\nERQ18432WM\\nmeant for personal use by rakib114@gma\\nshing the contents in part or full is liable'"
            ],
            "application/vnd.google.colaboratory.intrinsic+json": {
              "type": "string"
            }
          },
          "metadata": {},
          "execution_count": 32
        }
      ],
      "source": [
        "document_chunks[0].page_content"
      ]
    },
    {
      "cell_type": "code",
      "execution_count": 33,
      "metadata": {
        "id": "3ATlVhdwFybS",
        "colab": {
          "base_uri": "https://localhost:8080/",
          "height": 36
        },
        "outputId": "787e7daf-4429-4e02-c3cb-ac03f4e243dd"
      },
      "outputs": [
        {
          "output_type": "execute_result",
          "data": {
            "text/plain": [
              "'rakib114@gmail.com\\nERQ18432WM\\nThis file is meant for personal use by rakib114@gmail.com only.\\nSharing or publishing the contents in part or full is liable for legal action.'"
            ],
            "application/vnd.google.colaboratory.intrinsic+json": {
              "type": "string"
            }
          },
          "metadata": {},
          "execution_count": 33
        }
      ],
      "source": [
        "document_chunks[1].page_content"
      ]
    },
    {
      "cell_type": "code",
      "execution_count": 34,
      "metadata": {
        "id": "0s7qRwsxF6_y",
        "colab": {
          "base_uri": "https://localhost:8080/",
          "height": 201
        },
        "outputId": "cab7abec-16a2-46e3-bd99-dd431654e56f"
      },
      "outputs": [
        {
          "output_type": "execute_result",
          "data": {
            "text/plain": [
              "'Table of Contents\\n1\\nFront    ................................................................................................................................................................................................................\\n1\\nCover    .......................................................................................................................................................................................................\\n2\\nFront Matter    ...........................................................................................................................................................................................\\n53\\n1 - Nutritional Disorders    ...............................................................................................................................................................\\n53\\nChapter 1. Nutrition: General Considerations    .....................................................................................................................\\n59\\nChapter 2. Undernutrition    .............................................................................................................................................................\\n69\\nChapter 3. Nutritional Support    ...................................................................................................................................................\\n76\\nChapter 4. Vitamin Deficiency, Dependency & Toxicity    ..................................................................................................\\n99\\nChapter 5. Mineral Deficiency & Toxicity    ..............................................................................................................................\\n108\\nChapter 6. Obesity & the Metabolic Syndrome    ...............................................................................................................\\n120\\n2 - Gastrointestinal Disorders    ..............................................................................................................................................\\n120\\nChapter 7. Approach to the Patient With Upper GI Complaints    ...............................................................................\\n132\\nChapter 8. Approach to the Patient With Lower GI Complaints    ...............................................................................\\n143\\nChapter 9. Diagnostic & Therapeutic GI Procedures    ....................................................................................................\\n150\\nChapter 10. GI Bleeding    ............................................................................................................................................................\\n158\\nChapter 11. Acute Abdomen & Surgical Gastroenterology    .........................................................................................\\n172\\nChapter 12. Esophageal & Swallowing Disorders    ..........................................................................................................\\n183\\nChapter 13. Gastritis & Peptic Ulcer Disease    ..................................................................................................................\\n196\\nChapter 14. Bezoars & Foreign Bodies    ..............................................................................................................................\\n199\\nChapter 15. Pancreatitis    ............................................................................................................................................................\\n206\\nChapter 16. Gastroenteritis    ......................................................................................................................................................\\n213\\nChapter 17. Malabsorption Syndromes    ..............................................................................................................................\\n225\\nChapter 18. Irritable Bowel Syndrome    ................................................................................................................................\\n229\\nChapter 19. Inflammatory Bowel Disease    .........................................................................................................................\\n241\\nChapter 20. Diverticular Disease    ...........................................................................................................................................\\n246\\nChapter 21. Anorectal Disorders    ............................................................................................................................................\\n254\\nChapter 22. Tumors of the GI Tract    ......................................................................................................................................\\n275\\n3 - Hepatic & Biliary Disorders    ............................................................................................................................................\\n275\\nChapter 23. Approach to the Patient With Liver Disease    ...........................................................................................\\n294\\nChapter 24. Testing for Hepatic & Biliary Disorders    ......................................................................................................\\n305'"
            ],
            "application/vnd.google.colaboratory.intrinsic+json": {
              "type": "string"
            }
          },
          "metadata": {},
          "execution_count": 34
        }
      ],
      "source": [
        "document_chunks[2].page_content"
      ]
    },
    {
      "cell_type": "code",
      "source": [
        "document_chunks[3].page_content"
      ],
      "metadata": {
        "id": "s9TFurWQpom1",
        "colab": {
          "base_uri": "https://localhost:8080/",
          "height": 145
        },
        "outputId": "f0eda47a-9be3-4c9f-8174-fecc1189f379"
      },
      "execution_count": 35,
      "outputs": [
        {
          "output_type": "execute_result",
          "data": {
            "text/plain": [
              "\"305\\nChapter 25. Drugs & the Liver    ................................................................................................................................................\\n308\\nChapter 26. Alcoholic Liver Disease    ....................................................................................................................................\\n314\\nChapter 27. Fibrosis & Cirrhosis    ............................................................................................................................................\\n322\\nChapter 28. Hepatitis    ..................................................................................................................................................................\\n333\\nChapter 29. Vascular Disorders of the Liver    .....................................................................................................................\\n341\\nChapter 30. Liver Masses & Granulomas    ..........................................................................................................................\\n348\\nChapter 31. Gallbladder & Bile Duct Disorders    ...............................................................................................................\\n362\\n4 - Musculoskeletal & Connective Tissue Disorders    .........................................................................................\\n362\\nChapter 32. Approach to the Patient With Joint Disease    ............................................................................................\\n373\\nChapter 33. Autoimmune Rheumatic Disorders    ..............................................................................................................\\n391\\nChapter 34. Vasculitis    .................................................................................................................................................................\\n416\\nChapter 35. Joint Disorders    .....................................................................................................................................................\\n435\\nChapter 36. Crystal-Induced Arthritides    ..............................................................................................................................\\n443\\nChapter 37. Osteoporosis    .........................................................................................................................................................\\n448\\nChapter 38. Paget's Disease of Bone    ..................................................................................................................................\\n451\\nChapter 39. Osteonecrosis    .......................................................................................................................................................\\n455\\nChapter 40. Infections of Joints & Bones    ...........................................................................................................................\\n463\\nChapter 41. Bursa, Muscle & Tendon Disorders    .............................................................................................................\\n470\\nChapter 42. Neck & Back Pain    ...............................................................................................................................................\\n481\\nChapter 43. Hand Disorders    ....................................................................................................................................................\\nrakib114@gmail.com\\nERQ18432WM\\nThis file is meant for personal use by rakib114@gmail.com only.\\nSharing or publishing the contents in part or full is liable for legal action.\""
            ],
            "application/vnd.google.colaboratory.intrinsic+json": {
              "type": "string"
            }
          },
          "metadata": {},
          "execution_count": 35
        }
      ]
    },
    {
      "cell_type": "code",
      "source": [
        "document_chunks[4].page_content"
      ],
      "metadata": {
        "id": "WIZZOfTVqvqa",
        "colab": {
          "base_uri": "https://localhost:8080/",
          "height": 127
        },
        "outputId": "787e56c6-8c70-41e6-e526-8e0fd0e37d0c"
      },
      "execution_count": 36,
      "outputs": [
        {
          "output_type": "execute_result",
          "data": {
            "text/plain": [
              "'491\\nChapter 44. Foot & Ankle Disorders    .....................................................................................................................................\\n502\\nChapter 45. Tumors of Bones & Joints    ...............................................................................................................................\\n510\\n5 - Ear, Nose, Throat & Dental Disorders    ..................................................................................................................\\n510\\nChapter 46. Approach to the Patient With Ear Problems    ...........................................................................................\\n523\\nChapter 47. Hearing Loss    .........................................................................................................................................................\\n535\\nChapter 48. Inner Ear Disorders    ............................................................................................................................................\\n542\\nChapter 49. Middle Ear & Tympanic Membrane Disorders    ........................................................................................\\n550\\nChapter 50. External Ear Disorders    .....................................................................................................................................\\n554\\nChapter 51. Approach to the Patient With Nasal & Pharyngeal Symptoms    .......................................................\\n567\\nChapter 52. Oral & Pharyngeal Disorders    .........................................................................................................................\\n578\\nChapter 53. Nose & Paranasal Sinus Disorders    .............................................................................................................\\n584\\nChapter 54. Laryngeal Disorders    ...........................................................................................................................................\\n590\\nChapter 55. Tumors of the Head & Neck    ...........................................................................................................................\\n600\\nChapter 56. Approach to Dental & Oral Symptoms    .......................................................................................................\\n619\\nChapter 57. Common Dental Disorders    .............................................................................................................................\\n629\\nChapter 58. Dental Emergencies    ..........................................................................................................................................\\n635\\nChapter 59. Temporomandibular Disorders    ......................................................................................................................\\n641\\n6 - Eye Disorders    ............................................................................................................................................................................\\n641\\nChapter 60. Approach to the Ophthalmologic Patient    ..................................................................................................\\n669\\nChapter 61. Refractive Error    ...................................................................................................................................................\\n674\\nChapter 62. Eyelid & Lacrimal Disorders    ...........................................................................................................................\\n680\\nChapter 63. Conjunctival & Scleral Disorders    .................................................................................................................\\n690\\nChapter 64. Corneal Disorders    ...............................................................................................................................................\\n703\\nChapter 65. Glaucoma    ...............................................................................................................................................................\\n710\\nChapter 66. Cataract    ...................................................................................................................................................................\\n713\\nChapter 67. Uveitis    ......................................................................................................................................................................\\n719\\nChapter 68. Retinal Disorders    .................................................................................................................................................\\n731\\nChapter 69. Optic Nerve Disorders    ......................................................................................................................................\\n737\\nChapter 70. Orbital Diseases    ..................................................................................................................................................\\n742\\n7 - Dermatologic Disorders    ....................................................................................................................................................\\n742'"
            ],
            "application/vnd.google.colaboratory.intrinsic+json": {
              "type": "string"
            }
          },
          "metadata": {},
          "execution_count": 36
        }
      ]
    },
    {
      "cell_type": "code",
      "source": [
        "document_chunks[5].page_content"
      ],
      "metadata": {
        "id": "c671MuRgq96S",
        "colab": {
          "base_uri": "https://localhost:8080/",
          "height": 145
        },
        "outputId": "7a0ea190-cef4-46ec-f137-0aca21654cb1"
      },
      "execution_count": 37,
      "outputs": [
        {
          "output_type": "execute_result",
          "data": {
            "text/plain": [
              "'742\\n7 - Dermatologic Disorders    ....................................................................................................................................................\\n742\\nChapter 71. Approach to the Dermatologic Patient    .......................................................................................................\\n755\\nChapter 72. Principles of Topical Dermatologic Therapy    ............................................................................................\\n760\\nChapter 73. Acne & Related Disorders    ...............................................................................................................................\\n766\\nChapter 74. Bullous Diseases    .................................................................................................................................................\\n771\\nChapter 75. Cornification Disorders    .....................................................................................................................................\\n775\\nChapter 76. Dermatitis    ...............................................................................................................................................................\\n786\\nChapter 77. Reactions to Sunlight    ........................................................................................................................................\\n791\\nChapter 78. Psoriasis & Scaling Diseases    ........................................................................................................................\\n799\\nChapter 79. Hypersensitivity & Inflammatory Disorders    .............................................................................................\\n808\\nChapter 80. Sweating Disorders    ............................................................................................................................................\\n811\\nChapter 81. Bacterial Skin Infections    ...................................................................................................................................\\n822\\nChapter 82. Fungal Skin Infections    ......................................................................................................................................\\n831\\nChapter 83. Parasitic Skin Infections    ...................................................................................................................................\\n836\\nChapter 84. Viral Skin Diseases    ............................................................................................................................................\\n841\\nChapter 85. Pigmentation Disorders    ....................................................................................................................................\\n846\\nChapter 86. Hair Disorders    .......................................................................................................................................................\\n855\\nChapter 87. Nail Disorders    .......................................................................................................................................................\\n861\\nChapter 88. Pressure Ulcers    ...................................................................................................................................................\\n867\\nChapter 89. Benign Tumors    .....................................................................................................................................................\\n874\\nChapter 90. Cancers of the Skin    ............................................................................................................................................\\n882\\n8 - Endocrine & Metabolic Disorders    .............................................................................................................................\\n882\\nChapter 91. Principles of Endocrinology    ............................................................................................................................\\n887\\nChapter 92. Pituitary Disorders    ..............................................................................................................................................\\n901\\nChapter 93. Thyroid Disorders    ................................................................................................................................................\\nrakib114@gmail.com\\nERQ18432WM\\nThis file is meant for personal use by rakib114@gmail.com only.\\nSharing or publishing the contents in part or full is liable for legal action.'"
            ],
            "application/vnd.google.colaboratory.intrinsic+json": {
              "type": "string"
            }
          },
          "metadata": {},
          "execution_count": 37
        }
      ]
    },
    {
      "cell_type": "code",
      "source": [
        "document_chunks[-3].page_content"
      ],
      "metadata": {
        "colab": {
          "base_uri": "https://localhost:8080/",
          "height": 127
        },
        "id": "759m5S7_Ei0w",
        "outputId": "c411c2de-5f38-44fe-e193-173fec50ffe1"
      },
      "execution_count": 38,
      "outputs": [
        {
          "output_type": "execute_result",
          "data": {
            "text/plain": [
              "\"X\\nXanthelasma 579\\nXanthine oxidase deficiency 3026\\nXanthines 2064\\nXanthochromia 1595\\nXanthogranulomatous pyelonephritis 2379\\nXanthomas 634, 645, 895\\nXanthomatosis, cerebrotendinous 894\\nX chromosome 2599, 3373 (see also Genetic)\\nabnormalities of 3002-3005, 3376-3377, 3377\\ninactivation of 3002, 3378\\n47,XXX syndrome 3005\\n48,XXXX syndrome 3005\\n49,XXXXX syndrome 3005\\n47,XYY syndrome 3005\\nXenograft 1126 (see also Transplantation)\\nXeroderma (xerosis) 661\\nXerophthalmia 594\\nvitamin A deficiency and 34\\nXerosis 636\\nXerostomia 501, 513-516\\nradiation-induced 488, 505\\nin Sjogren's syndrome 304\\nX-linked adrenoleukodystrophy 3024\\nX-linked agammaglobulinemia 1092, 1097, 1107-1108\\nX-linked lymphoproliferative syndrome 1092, 1097, 1108\\nX-rays 3252 (see also Radiation; Radiation therapy; Radiography)\\nXylene poisoning 3348\\nXylitol 518\\nXylose absorption test 155, 3494, 3500\\nXylose breath test 156, 157\\nThe Merck Manual of Diagnosis & Therapy, 19th Edition\\nX\\n4102\\nrakib114@gmail.com\\nERQ18432WM\\nThis file is meant for personal use by rakib114@gmail.com only.\\nSharing or publishing the contents in part or full is liable for legal action.\""
            ],
            "application/vnd.google.colaboratory.intrinsic+json": {
              "type": "string"
            }
          },
          "metadata": {},
          "execution_count": 38
        }
      ]
    },
    {
      "cell_type": "code",
      "source": [
        "document_chunks[-2].page_content"
      ],
      "metadata": {
        "colab": {
          "base_uri": "https://localhost:8080/",
          "height": 108
        },
        "id": "R960RXp2EjCq",
        "outputId": "58eed5f0-306c-49eb-af4a-cad795021434"
      },
      "execution_count": 39,
      "outputs": [
        {
          "output_type": "execute_result",
          "data": {
            "text/plain": [
              "'Y\\nYaws 1266-1267\\nforest 1379\\nY chromosome 3373 (see also Genetic)\\nabnormalities of 3005\\nYeast infection (see also Fungal infection)\\nvaginal 2542, 2544, 2545\\nYellow fever 1400, 1429, 1437\\nhepatic inflammation in 248\\nvaccine against 1172, 1437, 3441\\nYellow nail syndrome 732, 1995\\npleural effusion in 1997\\nYellow skin (see Jaundice)\\nYersinia infection 1167, 1256-1257\\nY. enterocolitica infection 147\\nY. pestis infection 1924\\nYew poisoning 3338\\nYips 1762\\nYo, antibodies to 1056\\nYolk sac tumor 2476\\nThe Merck Manual of Diagnosis & Therapy, 19th Edition\\nY\\n4103\\nrakib114@gmail.com\\nERQ18432WM\\nThis file is meant for personal use by rakib114@gmail.com only.\\nSharing or publishing the contents in part or full is liable for legal action.'"
            ],
            "application/vnd.google.colaboratory.intrinsic+json": {
              "type": "string"
            }
          },
          "metadata": {},
          "execution_count": 39
        }
      ]
    },
    {
      "cell_type": "markdown",
      "source": [
        "### Observation\n",
        "* Chunking break downs pdf into multiple small pieces that will be stored into vector database for context extraction.\n",
        "* RecursiveCharacterTextSplitter has been used for chunking pdf.\n",
        "* cl100k_base encoded has been used during chunking with chunk size 512.\n",
        "* To extract context with continuty, 16 tokens overlap has been used.\n",
        "* The length of the pdf is 4114\n",
        "* Total chunk is 8423.\n",
        "* The length of each chunk is not fixed as pdf has text with index, text, tables, figure, etc.\n",
        "* Some sample chunk with contents have been observed and overlap has been found. For example, thrid pages ends with \\n305 and fourth page starts with this.\n"
      ],
      "metadata": {
        "id": "CIXmOUW7Y363"
      }
    },
    {
      "cell_type": "markdown",
      "metadata": {
        "id": "BvHVejcWz0Bl"
      },
      "source": [
        "### Embedding"
      ]
    },
    {
      "cell_type": "code",
      "execution_count": 40,
      "metadata": {
        "id": "R3CAgoUeRVLa",
        "colab": {
          "base_uri": "https://localhost:8080/",
          "height": 439,
          "referenced_widgets": [
            "15e362b5755f482aa01417c7b5aa9d09",
            "8bebd8f0ae8847a8b6181a80280df7b0",
            "63fecee3ac684d4ba07d8dae039927b5",
            "7e1eec5d6ff64a32a4d74c6707c20081",
            "6925e3b05a794226bc1c873558cba7d4",
            "43fed7dfc71043b3b51243e346fb053e",
            "5b06c0281d4a49e8a7f9bf38a5a25d23",
            "22967668d5b441d0a92adf7980796eb1",
            "1a02f840b85341ddb99ff1bdce454532",
            "43ce070ed80445288f6a17cdf39f5496",
            "5e20c469740849ddaf945b2e6ad6f04e",
            "312598150e5b4a9bafca52ff10c40750",
            "56fae558925541589d2632cb61d902d7",
            "0b21a01b95b84790af5862ac8d2b045a",
            "f433ced900d24aee97e35eb6808bd918",
            "d2b3b5a1cc8041029bf061a6b6d8eb99",
            "8585c64a3d0f46ce821e1dfb964d0ced",
            "c1470b7d11844b5d96a1363806493c99",
            "9e6fba177e304f30a22de56410044e5b",
            "92aa3368ecc6497e9d9f8f6a7801df8e",
            "22fce52fbdb74e8abf431ed5a3326a5e",
            "719930b91f0540c19ad89de9c3489bf9",
            "2112f2196d014ce79350fab734dbfda3",
            "206c62c26e6f4855bba83338d85fc464",
            "24a1dc983fb44c458a5c0cc6f3756250",
            "790f5e5b15ce48b8bd07f6697191f8a3",
            "c6c8e7ea053b45038879e0ada22e1996",
            "e85d488b552f43aa848627d776fa0300",
            "411b21bf60964a6e9290f0aac10fc724",
            "2af84a76771f41689354037c8295288a",
            "da4de6a9f9964c4597fa27fce737dd04",
            "cf5558e4b98b4eddbfe71c05d2528bb3",
            "f12a5f2944c74b4a86b65ccb789bed2d",
            "44b12d76bcb04fc080e6d0bf20bb9452",
            "77914736b4c44cd8ac378a2b34911bc6",
            "ef0fac4a5e0641208a645ada5b77e40a",
            "1819d4a03a104308a76492e994cb6603",
            "2c3a88adc0ec46d8a8dc75b6cdb04ad1",
            "021e78e1938443e3ab0b59af60184f4f",
            "96d86253442a4c90a6ba011fe624aa0d",
            "1aa27f86c28b4995b88f7e09ff8417bb",
            "0a8fe5d11524469a92d06e745016150b",
            "bfe52d138d9b40a9906d546b5c5e4413",
            "1f2cafecb54a4412ae0d851d30fd8e4d",
            "d2cbf94b97bd4ee399560a015c849d0f",
            "ad7d7c0e2c7547debcd8c1c2815969c9",
            "6bf01828a389483eb787a080f95737ff",
            "02f84e56b2ac4e299360cc1b5c0969db",
            "de4db01549f845639e40fbc7145ca2d0",
            "32aed98635e24276809c3c052a2b9638",
            "ae248e055a1c4f7dbade020f7f9d57b0",
            "f7926b11e34a4222afcbebcb0b140021",
            "bd0432599fff4383857b0d44a4edb09d",
            "446117948d904693bcb3d4327c2d6de5",
            "03223ee2de5e45cbae14e705866193b4",
            "aba41eb4f88445b988bc4c0a68985911",
            "46273749bbb84f86ae9722203851a1bb",
            "e1bdd4f27a27480dbe48c62d69e016c6",
            "737ecb8e24194069b05410d3e6d3ea98",
            "0c12bd82f53d4ec2a412c8683e61b6bf",
            "f20fa2e2a95542ef872b7392b51fa7ba",
            "8fbd2eecb06f49a9bdb46da86e37a443",
            "b4e1812d5aa2478dae8f2aca1eef11dc",
            "a82ba235c42a435ebf80e0a53853ca8c",
            "37ddcfac401e47b79d8d750b7e077915",
            "c669678b3ea84185910a9a7a7af9ca6e",
            "e8a5509fc8a347368f9b96d39eeac0df",
            "51470741e6794d71997d7cd714031a3a",
            "c8b8a0d09b714d689a559808427652fd",
            "ce93a48767d5466f888f61fbfb23fe51",
            "e98795483eed4c1089feecabb51a1051",
            "36363edd9396467cbd4baab104ea2af7",
            "30fc91f6d2e5498383849c4797eddf42",
            "aa1c476136114c46b88951715900c8d7",
            "1be8cef7a2bc41a2b5b9a80a9bfebd96",
            "9add06f8242248afb895b63aedcfbfab",
            "82d229d0e99a41a9a0b0c76721539e75",
            "a185dcaf3df7455bb8a451101beba8e9",
            "c328e0758a714ac7a43306357bc4c15d",
            "aa394d02fa314fa68d8b6d4a8f240211",
            "aa8a8aa3c7c4408aac9ff835ef6c749e",
            "c5bd18aecd5f459e898597fd82dc89df",
            "8726f65c609b4963aa07f9dd2c64a206",
            "e1fb12e0fdf542e3ab6ab2dfe52d75bb",
            "89d6b7a1fabf4a149d614a59cd3e970c",
            "27fd4b458be44ce0aa0d4b5874b23135",
            "e7987f1a47784b879d35828010de2ad4",
            "79c6dc3dcc054bf099faa17b033a9f8f",
            "14b2309a970543739c6a722418a0b6f2",
            "ae174dfa3385457d8425f277203f6b29",
            "d92ec2dc391740e485435726069ee44c",
            "ac05d1fc7cb3456dbca3de63df12ccde",
            "3f983d8fe12d47b3a44af0b8bec00e72",
            "1a310f2e906e4fa286c7e11018d0c4ba",
            "789e16e8a0824bbbadf4165323135be5",
            "bf33f300337049dbaeb63b4a46f37d16",
            "a6b065bd87814a6988d319094a005b6d",
            "5f7fa15d75c44785b089a29e364d2adc",
            "0cf688b16eec415480e35facac773b41",
            "f26df2f105704496a19fb3ede4838e8a",
            "2613ec55c1314cb5a21c34ba8a5232d3",
            "928255acf060467bbd07b25361f22c4a",
            "476448f6530f42e1a4da0b3c13407bb2",
            "bca88ef190554174b18d522395e1e716",
            "d7405f22ca674ea683cb27de7eb95601",
            "e99bc9f7886244b0845c0f21813c201f",
            "079aa76f70264b398257adc05ec4b3ef",
            "11e7b4b2485d45b2afc9ef63e8186513",
            "a953423e932a40b68b4760fead5ab996",
            "7761b797c2314a4c8c63e31c03c694dc",
            "999c6f93c178417b8184a26a07901cca",
            "26240d04c67d4022971be504a8f06a90",
            "2f8c1a7db70c4a2bbfde6dc8470668b7",
            "b90941ffbfbc4ce68799dfe0283fd172",
            "8125501244ea43a8aa73265c0b659517",
            "a8edafac0f86414ba3744d07995fa78f",
            "44aa676309fa4f8480254961006934be",
            "3fec2eb0546a4e9295db4f46b460f8c6",
            "ab1c33054a514f42b20e245a7bcd8450",
            "160bc52be49a4219b77d23a5802975c9",
            "12b538be48564c2ca2af65b5fd6e65d7",
            "50536a7982974146a9c07afbd32dd0fe",
            "1d31ad9d8fee4dcf982a878c3e034b64",
            "024b2820a2944f94b4893943f32ad4e3",
            "eacceff624b843d2b95a1d6f7a67a870",
            "c090184a0dd54364bd41535a8eed849d",
            "ad801c0f64ba41e48e1a2446b4a89299",
            "378b12b2eb3945899bf221e00b9e565a",
            "dfa46cd6b3f94fbabcb52ceaf40db905",
            "cecb5d8cd94f4e65964df57a64bb2a14",
            "f03ee0e7c1354bf1b55d0fdb695120d2",
            "304e34b05205456cb0c560470a5ab72b"
          ]
        },
        "outputId": "463095e5-36c0-4dba-a090-e45f8e2cfb6a"
      },
      "outputs": [
        {
          "output_type": "stream",
          "name": "stderr",
          "text": [
            "The cache for model files in Transformers v4.22.0 has been updated. Migrating your old cache. This is a one-time only operation. You can interrupt this and resume the migration later on by calling `transformers.utils.move_cache()`.\n"
          ]
        },
        {
          "output_type": "display_data",
          "data": {
            "text/plain": [
              "0it [00:00, ?it/s]"
            ],
            "application/vnd.jupyter.widget-view+json": {
              "version_major": 2,
              "version_minor": 0,
              "model_id": "15e362b5755f482aa01417c7b5aa9d09"
            }
          },
          "metadata": {}
        },
        {
          "output_type": "display_data",
          "data": {
            "text/plain": [
              "modules.json:   0%|          | 0.00/349 [00:00<?, ?B/s]"
            ],
            "application/vnd.jupyter.widget-view+json": {
              "version_major": 2,
              "version_minor": 0,
              "model_id": "312598150e5b4a9bafca52ff10c40750"
            }
          },
          "metadata": {}
        },
        {
          "output_type": "display_data",
          "data": {
            "text/plain": [
              "config_sentence_transformers.json:   0%|          | 0.00/116 [00:00<?, ?B/s]"
            ],
            "application/vnd.jupyter.widget-view+json": {
              "version_major": 2,
              "version_minor": 0,
              "model_id": "2112f2196d014ce79350fab734dbfda3"
            }
          },
          "metadata": {}
        },
        {
          "output_type": "display_data",
          "data": {
            "text/plain": [
              "README.md: 0.00B [00:00, ?B/s]"
            ],
            "application/vnd.jupyter.widget-view+json": {
              "version_major": 2,
              "version_minor": 0,
              "model_id": "44b12d76bcb04fc080e6d0bf20bb9452"
            }
          },
          "metadata": {}
        },
        {
          "output_type": "display_data",
          "data": {
            "text/plain": [
              "sentence_bert_config.json:   0%|          | 0.00/53.0 [00:00<?, ?B/s]"
            ],
            "application/vnd.jupyter.widget-view+json": {
              "version_major": 2,
              "version_minor": 0,
              "model_id": "d2cbf94b97bd4ee399560a015c849d0f"
            }
          },
          "metadata": {}
        },
        {
          "output_type": "display_data",
          "data": {
            "text/plain": [
              "config.json:   0%|          | 0.00/612 [00:00<?, ?B/s]"
            ],
            "application/vnd.jupyter.widget-view+json": {
              "version_major": 2,
              "version_minor": 0,
              "model_id": "aba41eb4f88445b988bc4c0a68985911"
            }
          },
          "metadata": {}
        },
        {
          "output_type": "display_data",
          "data": {
            "text/plain": [
              "model.safetensors:   0%|          | 0.00/90.9M [00:00<?, ?B/s]"
            ],
            "application/vnd.jupyter.widget-view+json": {
              "version_major": 2,
              "version_minor": 0,
              "model_id": "e8a5509fc8a347368f9b96d39eeac0df"
            }
          },
          "metadata": {}
        },
        {
          "output_type": "display_data",
          "data": {
            "text/plain": [
              "tokenizer_config.json:   0%|          | 0.00/350 [00:00<?, ?B/s]"
            ],
            "application/vnd.jupyter.widget-view+json": {
              "version_major": 2,
              "version_minor": 0,
              "model_id": "a185dcaf3df7455bb8a451101beba8e9"
            }
          },
          "metadata": {}
        },
        {
          "output_type": "display_data",
          "data": {
            "text/plain": [
              "vocab.txt: 0.00B [00:00, ?B/s]"
            ],
            "application/vnd.jupyter.widget-view+json": {
              "version_major": 2,
              "version_minor": 0,
              "model_id": "14b2309a970543739c6a722418a0b6f2"
            }
          },
          "metadata": {}
        },
        {
          "output_type": "display_data",
          "data": {
            "text/plain": [
              "tokenizer.json: 0.00B [00:00, ?B/s]"
            ],
            "application/vnd.jupyter.widget-view+json": {
              "version_major": 2,
              "version_minor": 0,
              "model_id": "f26df2f105704496a19fb3ede4838e8a"
            }
          },
          "metadata": {}
        },
        {
          "output_type": "display_data",
          "data": {
            "text/plain": [
              "special_tokens_map.json:   0%|          | 0.00/112 [00:00<?, ?B/s]"
            ],
            "application/vnd.jupyter.widget-view+json": {
              "version_major": 2,
              "version_minor": 0,
              "model_id": "999c6f93c178417b8184a26a07901cca"
            }
          },
          "metadata": {}
        },
        {
          "output_type": "display_data",
          "data": {
            "text/plain": [
              "config.json:   0%|          | 0.00/190 [00:00<?, ?B/s]"
            ],
            "application/vnd.jupyter.widget-view+json": {
              "version_major": 2,
              "version_minor": 0,
              "model_id": "50536a7982974146a9c07afbd32dd0fe"
            }
          },
          "metadata": {}
        }
      ],
      "source": [
        "embedding_model = SentenceTransformerEmbeddings(model_name=\"all-MiniLM-L6-v2\")"
      ]
    },
    {
      "cell_type": "code",
      "execution_count": 41,
      "metadata": {
        "id": "v0WIyLv5IS3s",
        "colab": {
          "base_uri": "https://localhost:8080/"
        },
        "outputId": "2a6f72f6-c445-4b52-a6f8-0cb5556258f2"
      },
      "outputs": [
        {
          "output_type": "stream",
          "name": "stdout",
          "text": [
            "Dimension of the embedding vector  384\n"
          ]
        },
        {
          "output_type": "execute_result",
          "data": {
            "text/plain": [
              "True"
            ]
          },
          "metadata": {},
          "execution_count": 41
        }
      ],
      "source": [
        "embedding_1 = embedding_model.embed_query(document_chunks[0].page_content)\n",
        "embedding_2 = embedding_model.embed_query(document_chunks[1].page_content)\n",
        "print(\"Dimension of the embedding vector \",len(embedding_1))\n",
        "len(embedding_1)==len(embedding_2)"
      ]
    },
    {
      "cell_type": "code",
      "execution_count": 42,
      "metadata": {
        "id": "tIwyIXRlIaLj",
        "colab": {
          "base_uri": "https://localhost:8080/"
        },
        "outputId": "78a6e6a3-9e3a-4e1b-aea9-09d4bf704741"
      },
      "outputs": [
        {
          "output_type": "stream",
          "name": "stdout",
          "text": [
            "Embedding for chunks[0]\n",
            "[-0.09146303683519363, 0.05849295109510422, 0.029007835313677788, -0.022360781207680702, 0.09978065639734268, -0.03650221601128578, 0.08245579153299332, 0.04067248851060867, 0.017448972910642624, -0.021561605855822563, 0.07259844988584518, 0.01681794598698616, 0.057213980704545975, -0.06978625059127808, -0.04927937313914299, -0.013840477913618088, -0.02740032598376274, -0.04260037839412689, -0.10983483493328094, 0.008797114714980125, -0.04679570719599724, -0.022740844637155533, -0.030446060001850128, -0.007289224769920111, -0.006617100443691015, -0.005346018821001053, 0.00032810421544127166, 0.06624624133110046, -0.015210751444101334, -0.06257704645395279, 0.06762471795082092, 0.01683788374066353, 0.0253400020301342, 0.006672594230622053, 0.033839933574199677, 0.038182806223630905, -0.05627843737602234, -0.05664138123393059, -0.031023193150758743, -0.07766245305538177, -0.012832779437303543, -0.05757516622543335, -0.03073018603026867, 0.06104166433215141, 0.022588925436139107, 0.10358229279518127, 0.030158651992678642, -0.05277027189731598, 0.003080724272876978, 0.0509866364300251, 0.02863733284175396, 0.001417970983311534, -0.008924867957830429, 0.07855437695980072, -0.060660917311906815, -0.0249641053378582, -0.03151805326342583, -0.017819920554757118, 0.01659485325217247, 0.023280825465917587, 0.03936071693897247, 0.028234334662556648, -0.06945464760065079, -0.013957558199763298, 0.04112677648663521, -0.021671375259757042, 0.05025019496679306, 0.015893621370196342, 0.010097444988787174, -0.04742846265435219, 0.020081713795661926, -0.04878454655408859, -0.0313471220433712, 0.08338475227355957, -0.019075030460953712, 0.03866548836231232, 0.005048135295510292, -0.028077470138669014, -0.02256515808403492, 0.00045209607924334705, -0.03663432225584984, 0.02862984873354435, 0.08873230963945389, -0.072709821164608, 0.0028193036559969187, 0.047051142901182175, 0.012012341991066933, 0.012602061964571476, 0.02232986129820347, 0.04583270102739334, 0.049849025905132294, 0.017668358981609344, 0.13890409469604492, -0.00725026149302721, -0.053560469299554825, 0.02764141745865345, -0.06380902975797653, -0.03560808300971985, 0.0011113915825262666, 0.07871341705322266, -0.0031108700204640627, 0.04934859648346901, 0.01391145121306181, -0.052013739943504333, -0.00890294648706913, -0.05229264497756958, -0.029810529202222824, 0.04567328467965126, 0.009409447200596333, -0.0003321735421195626, 0.046471670269966125, -0.008240058086812496, 0.0038325812201946974, -0.014942045323550701, 0.11150229722261429, -0.001005456200800836, -0.1020788624882698, 0.024585306644439697, 0.12114927172660828, -0.08632177859544754, 0.020184103399515152, 0.006240650545805693, -0.015764757990837097, -0.06329971551895142, -0.1359572857618332, -0.12866003811359406, 0.05914699286222458, 1.0191300188075099e-32, -0.01926030032336712, 0.0565170980989933, -0.001989810960367322, -0.03244180977344513, -0.008532285690307617, 0.03574901819229126, 0.01810661517083645, 0.042132411152124405, -0.08381879329681396, -0.008910211734473705, -0.017879633232951164, 0.07925954461097717, -0.012181732803583145, -0.020931744948029518, -0.0785335823893547, 0.04294368997216225, 0.04781991243362427, 0.09919452667236328, 0.06011510640382767, 0.017533978447318077, -0.010019389912486076, -0.052084390074014664, 0.019274916499853134, -0.011187631636857986, -0.018478307873010635, 0.050964079797267914, 0.057086605578660965, -0.07104507833719254, 0.04599824920296669, 0.019273586571216583, 0.020996058359742165, -0.023663343861699104, 0.021386299282312393, 0.06808017939329147, 0.03628218546509743, 0.05582781881093979, -0.10168717056512833, -0.008104964159429073, -0.05787273868918419, -0.022029515355825424, 0.03892146050930023, -0.034588273614645004, 0.02630241960287094, 0.018924377858638763, -0.08462954312562943, -0.043128009885549545, 0.037516139447689056, 0.02079286240041256, 0.03756933659315109, 0.029360933229327202, -0.06383264064788818, -0.016707856208086014, -0.02668638713657856, -0.04327571392059326, -0.029348915442824364, 0.001191803254187107, 0.026972535997629166, -0.004924647975713015, 0.0252222940325737, -0.03073304519057274, 0.013179722242057323, 0.058164678514003754, -0.05408539995551109, 0.020189886912703514, 0.026284124702215195, -0.07917892187833786, -0.02731187269091606, -0.11947031319141388, -0.011995024979114532, -0.10537698864936829, -0.019005808979272842, -0.057673826813697815, 0.07054707407951355, 0.08314676582813263, -0.09242906421422958, -0.04294036701321602, 0.022153198719024658, 0.040440067648887634, -0.042603716254234314, 0.05264722555875778, -0.05384237319231033, -0.05512208119034767, 0.029986603185534477, 0.011875278316438198, -0.10839331895112991, 0.08720961213111877, 0.04283113032579422, -0.03631872683763504, -0.021184735000133514, 0.09792996942996979, -0.012589868158102036, -0.017459511756896973, -0.05387554690241814, 0.05270558223128319, 0.02739211916923523, -1.009607853350277e-32, -0.0458361841738224, -0.04768744111061096, -0.09708363562822342, -0.021886292845010757, 0.01677245832979679, 0.06663224846124649, 0.03300757706165314, 0.05194228142499924, 0.04478126019239426, 0.03603212535381317, -0.051531627774238586, 0.00032050456502474844, 0.00019799060828518122, -0.04475760832428932, 0.0312028881162405, -0.035101599991321564, 0.05980740487575531, -0.007860680110752583, -0.07798276096582413, -0.02907019667327404, -0.026397643610835075, 0.1587325483560562, 0.061052609235048294, 0.058958470821380615, -0.02593933418393135, -0.006753608584403992, 0.03336638957262039, 0.022001268342137337, -0.049971919506788254, 0.09537412226200104, 0.059348441660404205, -0.02641499601304531, -0.12806692719459534, 0.045159198343753815, -0.06765878200531006, -0.17684638500213623, 0.08740846067667007, 0.07236949354410172, 0.02577105350792408, -0.036611273884773254, 0.04502011090517044, 0.0814964696764946, -0.01937616616487503, 0.0461588017642498, -0.03537829965353012, -0.08647873997688293, 0.010167944245040417, -0.05737558752298355, 0.04455089941620827, -0.0006065006600692868, 0.025853106752038002, -0.09627173840999603, 0.10520849376916885, -0.028101405128836632, -0.009640092961490154, 0.05120175704360008, 0.043924249708652496, -0.00968681089580059, 0.04312123730778694, -0.11392498761415482, 0.009891475550830364, 0.02299095317721367, 0.0437479205429554, -0.010264372453093529, 0.02051534317433834, 0.03420506417751312, 0.03055102378129959, -0.014452246949076653, 0.049696654081344604, -0.026489855721592903, -0.004396365489810705, -0.038440775126218796, 0.013605983927845955, -0.09426190704107285, 0.0715429037809372, 0.018851373344659805, 0.013210685923695564, 0.05149975046515465, -0.05765493959188461, -0.02336914837360382, 0.09896370768547058, -0.014177698642015457, -0.05176766961812973, 0.0016668852185830474, 0.05440085381269455, -0.17556637525558472, 0.04161467403173447, 0.01314599346369505, -0.0035014464519917965, 0.008344205096364021, -0.03840296342968941, 0.026298100128769875, -0.07873283326625824, 0.0653943419456482, -0.01719547249376774, -3.765953593415361e-08, 0.008963699452579021, 0.014517320320010185, -0.0023518609814345837, 0.07417865842580795, 0.05512760579586029, 0.003016501199454069, 0.025810150429606438, 0.010670860297977924, -0.010938589461147785, 0.0819893404841423, -0.014417894184589386, -0.06266418099403381, -0.04286864399909973, -0.038656409829854965, -0.0880982056260109, -0.023125912994146347, -0.0329800546169281, -0.010823880322277546, -0.060331471264362335, 0.0031135405879467726, -0.0008548539481125772, 0.009105619043111801, 0.02002182975411415, -0.04996570199728012, 0.02435823529958725, 0.02740255743265152, 0.0633176937699318, 0.06656202673912048, -0.0390859916806221, -0.03267226740717888, -0.036477282643318176, 0.022559965029358864, -0.021820107474923134, -0.03315456211566925, -0.058123063296079636, -0.033707305788993835, -0.016915904358029366, -0.038423288613557816, -0.038038451224565506, -0.022984616458415985, -0.024712014943361282, -0.004637250676751137, 0.09996712952852249, 0.03997242450714111, -0.023867936804890633, -0.05448785424232483, -0.041849710047245026, -0.06409145146608353, 0.0187480840831995, 0.010575633496046066, -0.04758917912840843, -0.06999789923429489, 0.04592232033610344, 0.05912213772535324, -0.07102850824594498, -0.017731161788105965, 0.08070693165063858, 0.02120976336300373, 0.021675558760762215, 0.020787382498383522, 0.031209224835038185, -0.016846144571900368, 0.02121356688439846, -0.04324335977435112]\n",
            "Embedding for chunks[1]\n",
            "[-0.08298570662736893, 0.05792801082134247, -0.009716956876218319, -0.036253318190574646, 0.10751541703939438, -0.048751670867204666, -0.0030835988000035286, 0.017497627064585686, 0.0004941599327139556, 0.015354067087173462, 0.056577570736408234, 0.09240210056304932, 0.05320528522133827, -0.08951637148857117, -0.04848019778728485, 0.027227044105529785, -0.06611786782741547, -0.027971990406513214, -0.0999533161520958, 0.004656133707612753, -0.012946134433150291, 0.017162712290883064, -0.00570856686681509, -0.01772492378950119, 0.022648366168141365, -0.036546941846609116, 0.011192531324923038, 0.03536895290017128, -0.07492326945066452, -0.07950155436992645, 0.06395932286977768, 0.017853913828730583, 0.038226839154958725, 0.030551882460713387, 0.04536391422152519, 0.013038568198680878, 0.002420881763100624, -0.0463847890496254, -0.005860261153429747, -0.04744943231344223, -0.001031682826578617, -0.07035835087299347, -0.021429257467389107, 0.03266248106956482, 0.022484812885522842, 0.1026928573846817, 0.021766850724816322, -0.04174165055155754, 0.011203176341950893, -0.00528990663588047, -0.04136417806148529, 0.008931638672947884, 0.0035952564794570208, 0.0075227017514407635, -0.008192995563149452, -0.01605837233364582, -0.10932117700576782, 0.007086340803653002, 0.029957611113786697, 0.026224203407764435, 0.02141285128891468, 0.05112770199775696, -0.07228484749794006, -0.03980196639895439, 0.054751306772232056, 0.019119733944535255, 0.0308002270758152, 0.047631897032260895, 0.00925941951572895, -0.07818739861249924, -0.014778333716094494, 0.004317417740821838, -0.0147248525172472, 0.06924852728843689, -0.013660422526299953, -0.019096296280622482, -0.018193257972598076, 0.020163625478744507, 0.0009030154906213284, -0.0201093889772892, -0.015060578472912312, -0.02842721901834011, 0.12065819650888443, -0.08084996789693832, -0.03151872009038925, 0.010526537895202637, 0.06388737261295319, -0.008604267612099648, 0.037679947912693024, 0.024160679429769516, 0.0018447110196575522, 0.03563613444566727, 0.11657695472240448, -0.013972542248666286, -0.029370451346039772, 0.026659054681658745, -0.058226507157087326, -0.008770694956183434, 0.005210248287767172, 0.0724586695432663, 0.017594562843441963, 0.05034922435879707, 0.03956298157572746, -0.026696957647800446, -0.005624833982437849, -0.0764695554971695, 0.0391048863530159, 0.021444501355290413, 0.03340368717908859, -0.014345861040055752, 0.06017205864191055, -0.03660455718636513, -0.051257938146591187, -0.12056984007358551, 0.11257253587245941, -0.038774069398641586, -0.09032095968723297, 0.035674333572387695, 0.09890419244766235, -0.02972964383661747, 0.016732465475797653, -0.00655897194519639, -0.0327494777739048, -0.017357351258397102, -0.08623386919498444, -0.17570480704307556, 0.07654325664043427, 9.025558032260821e-33, -0.018175417557358742, 0.02875003032386303, -0.01077958382666111, 0.018481558188796043, 0.03148164972662926, -0.011593501083552837, -0.004250227473676205, -0.006781539414077997, -0.16795668005943298, -0.03659837320446968, 0.0020419282373040915, 0.04645709693431854, 0.02018572762608528, 0.014281030744314194, -0.0795900896191597, 0.06790117919445038, 0.013060910627245903, 0.054032254964113235, 0.03670508787035942, 0.005686558783054352, -0.02743716351687908, -0.025280024856328964, -0.002376325661316514, 0.019075624644756317, -0.07028667628765106, 0.055741164833307266, 0.06011909991502762, -0.09572803229093552, 0.09148303419351578, 0.011067400686442852, 0.02691858634352684, -0.03639403358101845, 0.030383145436644554, 0.02806243672966957, 0.01919649727642536, 0.0631779357790947, -0.05596396327018738, -0.011810890398919582, -0.031187450513243675, 0.0017921717371791601, 0.05759888514876366, -0.012309400364756584, 0.0016852032858878374, 0.020978474989533424, -0.049654971808195114, 0.016364630311727524, 0.03943862393498421, -0.01723654568195343, 0.044676654040813446, -0.010343050584197044, -0.016737286001443863, 0.015937482938170433, 0.018080951645970345, -0.031080380082130432, 0.05207455903291702, 0.0020100404508411884, 0.0009126226068474352, -0.031833186745643616, 0.010167812928557396, 0.008096883073449135, 0.029672328382730484, 0.04907572269439697, -0.03805447742342949, 0.023853598162531853, 0.024770569056272507, -0.09493087977170944, -0.06589237600564957, -0.07945868372917175, 0.04935770854353905, -0.07229109853506088, -0.026763325557112694, -0.07211781293153763, 0.0612502358853817, 0.025444289669394493, -0.07537075132131577, -0.04817730560898781, 0.0245689507573843, 0.030072348192334175, -0.019035907462239265, 0.02126231975853443, -0.040034521371126175, -0.033656045794487, 0.019663654267787933, -0.039778564125299454, -0.08015640079975128, 0.06320332735776901, -0.011662116274237633, -0.039973385632038116, -0.004624378867447376, 0.08803486824035645, -0.011414715088903904, -0.0029167020693421364, -0.07056109607219696, 0.05940660461783409, 0.03347846493124962, -8.993214305197946e-33, -0.04345879331231117, -0.026133811101317406, -0.11840490251779556, -0.01667211204767227, -0.011089871637523174, 0.0964578166604042, 0.057945191860198975, 0.03235144168138504, 0.05082002282142639, 0.045012444257736206, -0.04210903123021126, -0.022497380152344704, 0.02269098162651062, -0.07202587276697159, 0.05041712149977684, -0.04102165997028351, 0.053351834416389465, -0.01967163383960724, -0.12208031862974167, -0.0038539706729352474, -0.09872545301914215, 0.11394872516393661, 0.09827526658773422, 0.10074414312839508, 0.03838609158992767, -0.009978908114135265, 0.06666215509176254, 0.027547622099518776, -0.03308424726128578, 0.03635469824075699, 0.011215235106647015, -0.015578965656459332, -0.12086581438779831, -0.005749470088630915, -0.05881877988576889, -0.17291989922523499, 0.056565117090940475, 0.07471142709255219, 0.05045730993151665, -0.025767968967556953, 0.01376554649323225, 0.10850601643323898, -0.057010143995285034, -0.027747616171836853, -2.0464221961447038e-05, -0.015037494711577892, -0.0005825557163916528, -0.0005834844196215272, 0.0026379371993243694, -0.03942985460162163, 0.07827898859977722, -0.10185781866312027, 0.10650107264518738, -0.09595678001642227, 0.03431907296180725, 0.043024808168411255, 0.017035478726029396, 0.026645328849554062, 0.02838915027678013, -0.04961444064974785, -0.023144105449318886, -0.029122376814484596, 0.0035382797941565514, -0.022480878978967667, 0.018131358548998833, 0.05921967700123787, -0.011613273993134499, 0.010656323283910751, 0.02586863562464714, -0.004560984671115875, -0.022531509399414062, -0.05694460868835449, -0.02737211063504219, -0.06296655535697937, 0.04487690329551697, 0.06079475209116936, 0.04136756435036659, 0.0712004154920578, -0.07892022281885147, 0.018081942573189735, 0.08394008129835129, 0.014083083719015121, -0.0277483481913805, 0.026480376720428467, 0.03989240527153015, -0.1402161419391632, 0.01683596894145012, 0.020546089857816696, 0.007183321285992861, -0.005965189542621374, -0.03176445886492729, 0.0719868615269661, -0.05804891884326935, 0.03023119829595089, -0.00035803255741484463, -4.096987993307266e-08, -0.022073477506637573, -0.0064049274660646915, -0.03811892494559288, 0.0480647012591362, 0.04041304439306259, 0.10066535323858261, 0.03007158823311329, -0.04300384223461151, 0.00882924534380436, 0.07591478526592255, -0.0011412674793973565, -0.07382558286190033, -0.045227810740470886, -0.01777045987546444, -0.09728416055440903, -0.012560957111418247, 0.049786098301410675, -0.04572559893131256, -0.00473964586853981, 0.01113241259008646, 0.03692694753408432, 0.04593940079212189, 0.05156158283352852, -0.07568411529064178, 0.03906868025660515, 0.04850931465625763, 0.060799550265073776, 0.021436739712953568, -0.08811216801404953, -0.0669775903224945, -0.015727579593658447, 0.019543519243597984, -0.015087541192770004, -0.015697499737143517, -0.04921413213014603, 0.0034272868651896715, 0.005307611543685198, -0.0188901349902153, -0.07730327546596527, -0.029419297352433205, 0.035002950578927994, 0.06009085103869438, 0.06771045923233032, 0.007278513163328171, -0.05570356547832489, -0.0807635635137558, 0.017909616231918335, -0.1001901775598526, 0.011536347679793835, 0.010979567654430866, -0.055350229144096375, -0.03617969527840614, 0.06694710999727249, 0.09014526754617691, -0.04395007714629173, -0.033113814890384674, 0.07497018575668335, -0.020676808431744576, 0.012814229354262352, 0.020951811224222183, 0.07822342216968536, 0.024445217102766037, -0.010957283899188042, 0.011467804200947285]\n"
          ]
        }
      ],
      "source": [
        "print(\"Embedding for chunks[0]\")\n",
        "print(embedding_1)\n",
        "print(\"Embedding for chunks[1]\")\n",
        "print(embedding_2)"
      ]
    },
    {
      "cell_type": "markdown",
      "source": [
        "### Observation\n",
        "* Sentence Transformer with all-MiniLM-L6-v2 model has been used for vector embedding.\n",
        "* The length of each vector is 384.\n",
        "* The same embedding will be used for context extraction during user query."
      ],
      "metadata": {
        "id": "E5KzP3UMgzfJ"
      }
    },
    {
      "cell_type": "markdown",
      "metadata": {
        "id": "qiKCOv4X0d7B"
      },
      "source": [
        "### Vector Database"
      ]
    },
    {
      "cell_type": "code",
      "execution_count": 43,
      "metadata": {
        "id": "vHHt1MQQRVzs",
        "colab": {
          "base_uri": "https://localhost:8080/"
        },
        "outputId": "7f235719-a0e0-49ac-f7ba-b975ebd8d11c"
      },
      "outputs": [
        {
          "output_type": "stream",
          "name": "stderr",
          "text": [
            "ERROR:chromadb.telemetry.product.posthog:Failed to send telemetry event ClientStartEvent: capture() takes 1 positional argument but 3 were given\n",
            "ERROR:chromadb.telemetry.product.posthog:Failed to send telemetry event ClientCreateCollectionEvent: capture() takes 1 positional argument but 3 were given\n",
            "ERROR:chromadb.telemetry.product.posthog:Failed to send telemetry event ClientStartEvent: capture() takes 1 positional argument but 3 were given\n",
            "ERROR:chromadb.telemetry.product.posthog:Failed to send telemetry event ClientCreateCollectionEvent: capture() takes 1 positional argument but 3 were given\n",
            "ERROR:chromadb.telemetry.product.posthog:Failed to send telemetry event CollectionQueryEvent: capture() takes 1 positional argument but 3 were given\n"
          ]
        },
        {
          "output_type": "stream",
          "name": "stdout",
          "text": [
            "client=SentenceTransformer(\n",
            "  (0): Transformer({'max_seq_length': 256, 'do_lower_case': False}) with Transformer model: BertModel \n",
            "  (1): Pooling({'word_embedding_dimension': 384, 'pooling_mode_cls_token': False, 'pooling_mode_mean_tokens': True, 'pooling_mode_max_tokens': False, 'pooling_mode_mean_sqrt_len_tokens': False, 'pooling_mode_weightedmean_tokens': False, 'pooling_mode_lasttoken': False})\n",
            "  (2): Normalize()\n",
            ") model_name='all-MiniLM-L6-v2' cache_folder=None model_kwargs={} encode_kwargs={} multi_process=False\n",
            "[Document(page_content='chloride, including glutaraldehyde, formaldehyde, and tannic acid, are effective but can cause contact\\ndermatitis and skin discoloration. A solution of methenamine also may help.\\nTap water iontophoresis, in which salt ions are introduced into the skin using electric current, is an option\\nfor patients unresponsive to topical treatments. The affected areas (typically palms or soles) are placed in\\n2 tap water basins each containing an electrode across which a 15- to 25-mA current is applied for 10 to\\n20 min. This routine is done daily for 1 wk and then repeated weekly or bimonthly. Treatments may be\\nThe Merck Manual of Diagnosis & Therapy, 19th Edition\\nChapter 80. Sweating Disorders\\n809\\nrakib114@gmail.com\\nERQ18432WM\\nThis file is meant for personal use by rakib114@gmail.com only.\\nSharing or publishing the contents in part or full is liable for legal action.', metadata={'author': '', 'creationDate': 'D:20120615054440Z', 'creator': 'Atop CHM to PDF Converter', 'file_path': '/content/drive/MyDrive/Colab Notebooks/medical_diagnosis_manual.pdf', 'format': 'PDF 1.7', 'keywords': '', 'modDate': 'D:20250603172640Z', 'page': 818, 'producer': 'pdf-lib (https://github.com/Hopding/pdf-lib)', 'source': '/content/drive/MyDrive/Colab Notebooks/medical_diagnosis_manual.pdf', 'subject': '', 'title': 'The Merck Manual of Diagnosis & Therapy, 19th Edition', 'total_pages': 4114, 'trapped': ''}), Document(page_content='may be used synergistically with a diuretic. However, significant hypoglycemia may result from\\nchlorpropamide.\\nProstaglandin inhibitors (such as indomethacin 0.5 to 1.0 mg/kg po tid, although most NSAIDs are\\neffective) may reduce urine volume, but generally by no more than 10 to 25%, perhaps by decreasing\\nrenal blood flow and GFR. Together with indomethacin, restriction of Na intake and a thiazide diuretic\\nhelp further reduce urine volume in NDI.\\nThe Merck Manual of Diagnosis & Therapy, 19th Edition\\nChapter 92. Pituitary Disorders\\n900\\nrakib114@gmail.com\\nERQ18432WM\\nThis file is meant for personal use by rakib114@gmail.com only.\\nSharing or publishing the contents in part or full is liable for legal action.', metadata={'author': '', 'creationDate': 'D:20120615054440Z', 'creator': 'Atop CHM to PDF Converter', 'file_path': '/content/drive/MyDrive/Colab Notebooks/medical_diagnosis_manual.pdf', 'format': 'PDF 1.7', 'keywords': '', 'modDate': 'D:20250603172640Z', 'page': 909, 'producer': 'pdf-lib (https://github.com/Hopding/pdf-lib)', 'source': '/content/drive/MyDrive/Colab Notebooks/medical_diagnosis_manual.pdf', 'subject': '', 'title': 'The Merck Manual of Diagnosis & Therapy, 19th Edition', 'total_pages': 4114, 'trapped': ''}), Document(page_content='• PO4 restriction and binders and sometimes calcitriol for secondary hyperparathyroidism\\nThere are 4 main strategies for lowering serum Ca: • Decrease intestinal Ca absorption\\n• Increase urinary Ca excretion\\n• Decrease bone resorption\\n• Remove excess Ca through dialysis\\nThe treatment used depends on both the degree and the cause of hypercalcemia.\\nMild hypercalcemia: In mild hypercalcemia (serum Ca < 11.5 mg/dL [< 2.88 mmol/L]), in which\\nsymptoms are mild, treatment is deferred pending definitive diagnosis. After diagnosis, the underlying\\ndisorder is treated. When symptoms are significant, treatment aimed at lowering serum Ca is necessary.\\nOral PO4 can be used. When taken with meals, it binds some Ca, preventing its absorption. A starting\\ndose is 250 mg of elemental PO4 (as Na or K salt) qid. The dose can be increased to 500 mg qid prn\\nunless diarrhea develops. Another treatment is increasing urinary Ca excretion by giving isotonic saline\\nplus a loop diuretic. Initially, 1 to 2 L of saline is given over 2 to 4 h unless significant heart failure is\\npresent, because nearly all patients with significant hypercalcemia are hypovolemic. Furosemide 20 to 40\\nmg IV q 2 to 4 h is given as needed to maintain a urine output of roughly 250 mL/h (monitored hourly).\\nCare must be taken to avoid volume depletion. K and Mg are monitored as often as every 4 h during\\ntreatment and replaced IV as needed to avoid hypokalemia and hypomagnesemia. Serum Ca begins to\\ndecrease in 2 to 4 h and falls to nearnormal within 24 h.\\nModerate hypercalcemia: Moderate hypercalcemia (serum Ca > 11.5 mg/dL [< 2.88 mmol/L] and < 18\\nmg/dL [< 4.51 mmol/L]) can be treated with isotonic saline and a loop diuretic as is done for mild\\nhypercalcemia or, depending on its cause, agents that decrease bone resorption (usually\\nbisphosphonates, calcitonin, or infrequently plicamycin or gallium nitrate), corticosteroids, or chloroquine.', metadata={'author': '', 'creationDate': 'D:20120615054440Z', 'creator': 'Atop CHM to PDF Converter', 'file_path': '/content/drive/MyDrive/Colab Notebooks/medical_diagnosis_manual.pdf', 'format': 'PDF 1.7', 'keywords': '', 'modDate': 'D:20250603172640Z', 'page': 987, 'producer': 'pdf-lib (https://github.com/Hopding/pdf-lib)', 'source': '/content/drive/MyDrive/Colab Notebooks/medical_diagnosis_manual.pdf', 'subject': '', 'title': 'The Merck Manual of Diagnosis & Therapy, 19th Edition', 'total_pages': 4114, 'trapped': ''}), Document(page_content='hyperhomocysteinemia and 975\\nisoniazid-associated 1308\\nThe Merck Manual of Diagnosis & Therapy, 19th Edition\\nV\\n4094\\nrakib114@gmail.com\\nERQ18432WM\\nThis file is meant for personal use by rakib114@gmail.com only.\\nSharing or publishing the contents in part or full is liable for legal action.', metadata={'author': '', 'creationDate': 'D:20120615054440Z', 'creator': 'Atop CHM to PDF Converter', 'file_path': '/content/drive/MyDrive/Colab Notebooks/medical_diagnosis_manual.pdf', 'format': 'PDF 1.7', 'keywords': '', 'modDate': 'D:20250603172640Z', 'page': 4103, 'producer': 'pdf-lib (https://github.com/Hopding/pdf-lib)', 'source': '/content/drive/MyDrive/Colab Notebooks/medical_diagnosis_manual.pdf', 'subject': '', 'title': 'The Merck Manual of Diagnosis & Therapy, 19th Edition', 'total_pages': 4114, 'trapped': ''}), Document(page_content='mercaptopropionylglycine or penicillamine) should reduce the urinary cystine concentration.\\nThe Merck Manual of Diagnosis & Therapy, 19th Edition\\nChapter 232. Urinary Calculi\\n2513\\nrakib114@gmail.com\\nERQ18432WM\\nThis file is meant for personal use by rakib114@gmail.com only.\\nSharing or publishing the contents in part or full is liable for legal action.', metadata={'author': '', 'creationDate': 'D:20120615054440Z', 'creator': 'Atop CHM to PDF Converter', 'file_path': '/content/drive/MyDrive/Colab Notebooks/medical_diagnosis_manual.pdf', 'format': 'PDF 1.7', 'keywords': '', 'modDate': 'D:20250603172640Z', 'page': 2522, 'producer': 'pdf-lib (https://github.com/Hopding/pdf-lib)', 'source': '/content/drive/MyDrive/Colab Notebooks/medical_diagnosis_manual.pdf', 'subject': '', 'title': 'The Merck Manual of Diagnosis & Therapy, 19th Edition', 'total_pages': 4114, 'trapped': ''})]\n"
          ]
        }
      ],
      "source": [
        "out_dir = 'medical_db3'\n",
        "\n",
        "if not os.path.exists(out_dir):\n",
        "  os.makedirs(out_dir)\n",
        "\n",
        "vectorstore = Chroma.from_documents(\n",
        "    documents=document_chunks[2:], # First two pages hold nothing\n",
        "    embedding=embedding_model,\n",
        "    persist_directory=out_dir\n",
        ")\n",
        "\n",
        "vectorstore = Chroma(persist_directory=out_dir,embedding_function=embedding_model)\n",
        "print(vectorstore.embeddings)\n",
        "print(vectorstore.similarity_search(\"what is the treatment of hypertention?\",k=5))"
      ]
    },
    {
      "cell_type": "markdown",
      "source": [
        "### Observation\n",
        "* Vector database Chroma has been used to storing vector embedding of chunks."
      ],
      "metadata": {
        "id": "8Vu7z1ZShbgl"
      }
    },
    {
      "cell_type": "markdown",
      "metadata": {
        "id": "uEa5sKc41T1z"
      },
      "source": [
        "### Retriever"
      ]
    },
    {
      "cell_type": "code",
      "execution_count": 44,
      "metadata": {
        "id": "wBlQUGx3RWUD",
        "colab": {
          "base_uri": "https://localhost:8080/"
        },
        "outputId": "f1820333-e905-4043-bb51-e743a8bece2c"
      },
      "outputs": [
        {
          "output_type": "stream",
          "name": "stdout",
          "text": [
            "\n",
            "Document 1 :\n",
            "\n",
            "Chapter 99. Diabetes Mellitus and Disorders of Carbohydrate Metabolism\n",
            "Introduction\n",
            "Diabetes mellitus and its complications (diabetic ketoacidosis, nonketotic hyperosmolar syndrome) are the\n",
            "most common disorders of carbohydrate metabolism, but alcoholic ketoacidosis and hypoglycemia are\n",
            "also important.\n",
            "Diabetes Mellitus\n",
            "Diabetes mellitus (DM) is impaired insulin secretion and variable degrees of peripheral insulin\n",
            "resistance leading to hyperglycemia. Early symptoms are related to hyperglycemia and include\n",
            "polydipsia, polyphagia, and polyuria. Later complications include vascular disease, peripheral\n",
            "neuropathy, and predisposition to infection. Diagnosis is by measuring plasma glucose.\n",
            "Treatment is diet, exercise, and drugs that reduce glucose levels, including insulin and oral\n",
            "antihyperglycemic drugs. Prognosis varies with degree of glucose control.\n",
            "There are 2 main categories of DM—type 1 and type 2, which can be distinguished by a combination of\n",
            "features (see\n",
            "Table 99-1). Terms that describe the age of onset (juvenile or adult) or type of treatment (insulin- or non-\n",
            "insulin-dependent) are no longer accurate because of overlap in age groups and treatments between\n",
            "disease types.\n",
            "Impaired glucose regulation (impaired glucose tolerance, or impaired fasting glucose—see\n",
            "Table 99-2) is an intermediate, possibly transitional, state between normal glucose metabolism and DM\n",
            "that becomes common with age. It is a significant risk factor for DM and may be present for many years\n",
            "before onset of DM. It is associated with an increased\n",
            "[Table 99-1. General Characteristics of Types 1 and 2 Diabetes Mellitus]\n",
            "[Table 99-2. Diagnostic Criteria for Diabetes Mellitus and Impaired Glucose Regulation]\n",
            "risk of cardiovascular disease, but typical diabetic microvascular complications generally do not develop.\n",
            "Etiology\n",
            "Type 1: In Type 1 DM (previously called juvenile-onset or insulin-dependent), insulin production is absent\n",
            "because of autoimmune pancreatic β-cell destruction possibly triggered by an environmental exposure in\n",
            "genetically susceptible people. Destruction progresses subclinically over months or years until β-cell\n",
            "mass decreases to the point that insulin concentrations are no longer adequate to control plasma glucose\n",
            "levels. Type 1 DM generally develops in childhood or adolescence and until recently was the most\n",
            "\n",
            "Document 2 :\n",
            "\n",
            "or continuous insulin infusion, is more effective than conventional treatment (1 to 2 insulin injections daily\n",
            "with or without monitoring) for preventing diabetic retinopathy, nephropathy, and neuropathy. However,\n",
            "intensive therapy may result in more frequent episodes of hypoglycemia and weight gain and is generally\n",
            "effective only in patients who are able and willing to take an active role in their self-care.\n",
            "In general, most patients with type 1 DM can start with a total dose of 0.2 to 0.8 units of insulin/kg/day.\n",
            "Obese patients may require higher doses. Physiologic replacement involves giving 40 to 60% of the daily\n",
            "insulin dose as an intermediate- or long-acting preparation to cover basal needs, with the remainder given\n",
            "as a rapid- or short-acting preparation to cover postprandial increases. This approach is most effective\n",
            "when the dose of rapid- or short-acting insulin is determined by a sliding scale that takes into account\n",
            "preprandial blood glucose and anticipated meal content. Dose can be adjusted 1 to 2 units for each 50\n",
            "mg/dL (2.7 mmol/L) above or below target glucose level. This physiologic regimen allows greater freedom\n",
            "of lifestyle because patients can skip or time-shift meals and maintain normoglycemia. However, no\n",
            "specific insulin regimen has proved more effective than others, and these recommendations are for\n",
            "initiation of therapy; thereafter, choice of regimens generally rests on physiologic response and patient\n",
            "and physician preferences.\n",
            "Insulin regimens for type 2 DM: Regimens for type 2 DM also vary. In many patients, glucose levels\n",
            "are adequately controlled with lifestyle changes or oral drugs, but insulin should be added when glucose\n",
            "remains inadequately controlled by ≥ 2 oral drugs. Although uncommon, adult-onset type 1 DM may be\n",
            "the cause. Insulin should replace oral drugs in women who become pregnant. The rationale for\n",
            "combination therapy is strongest for use of insulin with oral biguanides and insulin sensitizers. Regimens\n",
            "vary from a single daily injection of long- or intermediate-acting insulin (usually at bedtime) to the multiple-\n",
            "injection regimen used by patients with type 1 DM. In general, the simplest effective regimen is preferred.\n",
            "Because of insulin resistance, some patients with type 2 DM require very large doses (> 2 units/kg/day).\n",
            "\n",
            "Document 3 :\n",
            "\n",
            "A common complication is weight gain, which is mostly attributable to reduction in loss of glucose in urine\n",
            "and improved metabolic efficiency.\n",
            "Oral antihyperglycemic drugs: Oral anti-hyperglycemic drugs (see\n",
            "The Merck Manual of Diagnosis & Therapy, 19th Edition\n",
            "Chapter 99. Diabetes Mellitus & Disorders of Carbohydrate Metabolism\n",
            "1011\n",
            "rakib114@gmail.com\n",
            "ERQ18432WM\n",
            "This file is meant for personal use by rakib114@gmail.com only.\n",
            "Sharing or publishing the contents in part or full is liable for legal action.\n",
            "\n",
            "Document 4 :\n",
            "\n",
            "change (eg, via counseling). In secondary prevention, disease is detected and treated at an early stage,\n",
            "before symptoms or functional losses occur, thereby minimizing morbidity and mortality.\n",
            "Screening can be a primary or secondary preventive measure; it can be used to detect risk factors, which\n",
            "may be altered to prevent disease, or to detect disease in asymptomatic people, who can then be treated\n",
            "early.\n",
            "[Table 309-1. Screening Recommendations for Elderly Patients]\n",
            "Tertiary Prevention\n",
            "In tertiary prevention, an existing symptomatic, usually chronic disease is appropriately managed to\n",
            "prevent further functional loss. Disease management is enhanced by using disease-specific practice\n",
            "guidelines and protocols. Several disease management programs have been developed:\n",
            "• Disease-specific care management: A specially trained nurse, working with a primary care physician or\n",
            "geriatrician, coordinates protocol-driven care, arranges support services, and teaches patients.\n",
            "• Chronic care clinics: Patients with the same chronic disease are taught in groups and are visited by a\n",
            "health care practitioner; this approach can help patients with diabetes achieve better glucose control.\n",
            "• Specialists: Patients with a chronic disease that is difficult to stabilize can be referred to a specialist.\n",
            "This approach works best when the specialist and primary care physician work collaboratively.\n",
            "Patients with the following chronic disorders, which are common among the elderly, can potentially benefit\n",
            "from tertiary prevention.\n",
            "Arthritis: Arthritis (primarily osteoarthritis; much less commonly, RA) affects about half of people ≥ 65. It\n",
            "leads to impaired mobility and increases risk of osteoporosis, aerobic and muscular deconditioning, falls,\n",
            "and pressure ulcers.\n",
            "Osteoporosis: Tests to measure bone density can detect osteoporosis before it leads to a fracture. Ca\n",
            "and vitamin D supplementation, exercise, and, if needed, cessation of cigarette smoking can help prevent\n",
            "osteoporosis from progressing, and treatment can prevent new fractures.\n",
            "Diabetes: Hyperglycemia, especially when the glycosylated hemoglobin (Hb A1c) concentration is >\n",
            "7.9%, increases the risk of retinopathy, neuropathy, nephropathy, and coronary artery disease. The goal\n",
            "of treatment is an Hb A1c concentration of < 8% for frail diabetic patients and an even lower\n",
            "[Table 309-2. Cancer Screening Recommendations for Elderly Patients]\n",
            "\n",
            "Document 5 :\n",
            "\n",
            "Surgery: The physiologic stress of surgery can increase plasma glucose in patients with DM and induce\n",
            "DKA in those with type 1 DM. For type 1 patients, one half to two thirds of the usual morning dose of\n",
            "intermediate-acting insulin or 70 to 80% of the dose of long-acting insulin (glargine or detemir) can be\n",
            "given the morning before surgery with an IV infusion of a 5% dextrose solution at a rate of 100 to 150\n",
            "mL/h. During and after surgery, plasma glucose (and ketones if hyperglycemia suggests the need) should\n",
            "be measured at least every 2 h. Glucose infusion is continued (monitoring is done at 2- to 4-h intervals),\n",
            "and regular or short-acting insulin is given sc q 4 to 6 h as needed to maintain the plasma glucose level\n",
            "between 100 and 200 mg/dL (5.55 and 11.01 mmol/L) until the patient can be switched to oral feedings\n",
            "and resume the usual insulin regimen. Additional doses of intermediate- or long-acting insulin should be\n",
            "given if there is a substantial delay (> 24 h) in resuming the usual regimen. This approach may also be\n",
            "used for insulin-treated patients with type 2 DM, but frequent measurement of ketones may be omitted.\n",
            "Some physicians prefer to withhold sc insulin on the day of surgery and to give insulin by IV infusion. One\n",
            "approach is to add 6 to 10 units of regular insulin to 1 L of 5% dextrose in 0.9% saline solution or water\n",
            "infused initially at 100 to 150 mL/h on the morning of surgery based on the plasma glucose level.\n",
            "Alternatively, separate insulin (1 to 2 units/h) and dextrose (75 to 125 mL/h of 5% dextrose) infusions may\n",
            "be used and allow for easier titration. Insulin adsorption onto IV tubing can lead to inconsistent effects,\n",
            "which can be minimized by preflushing the IV tubing with insulin solution. Insulin infusion is continued\n",
            "through recovery, with insulin adjusted based on the plasma glucose levels obtained in the recovery room\n",
            "and at 1- to 2-h intervals thereafter.\n",
            "Most patients with type 2 DM who are treated with oral antihyperglycemic drugs maintain acceptable\n"
          ]
        }
      ],
      "source": [
        "retriever = vectorstore.as_retriever(\n",
        "    search_type='similarity',\n",
        "    search_kwargs={'k': 5}\n",
        ")\n",
        "\n",
        "rel_docs = retriever.get_relevant_documents(\"what is the treatment of diabetic?\")\n",
        "doc_count = 1\n",
        "for doc in rel_docs:\n",
        "    print(f\"\\nDocument {doc_count} :\\n\")\n",
        "    doc_count += 1\n",
        "    print(doc.page_content)\n"
      ]
    },
    {
      "cell_type": "markdown",
      "source": [
        "### Observation\n",
        "* Retriever retrieves context from the user query.\n",
        "* Same transformer model has been used to embeded user query to embedding.\n",
        "* Top k contexts has been retrieved based on the similary metric.\n",
        "* We observed that, top 5 context has been extracted from vector databases for the query \"\"what is the treatment of diabetic?\"\"."
      ],
      "metadata": {
        "id": "Y6vP50WXhvrB"
      }
    },
    {
      "cell_type": "code",
      "source": [
        "model_output = llm(\n",
        "      \"what is the treatment of diabetic?\",\n",
        "      max_tokens=512,\n",
        "      temperature=0,\n",
        "    )\n",
        "\n",
        "print(model_output['choices'][0]['text'])"
      ],
      "metadata": {
        "id": "Xdz18UZdPwH4",
        "colab": {
          "base_uri": "https://localhost:8080/"
        },
        "outputId": "ce3fccfb-20cb-4a6e-be9a-e2a9455d3842"
      },
      "execution_count": 45,
      "outputs": [
        {
          "output_type": "stream",
          "name": "stderr",
          "text": [
            "Llama.generate: prefix-match hit\n"
          ]
        },
        {
          "output_type": "stream",
          "name": "stdout",
          "text": [
            "\n",
            "\n",
            "Diabetes is a chronic condition that requires ongoing management to keep blood sugar levels within a healthy range. The primary treatments for diabetes include:\n",
            "\n",
            "1. Diet and exercise: Eating a healthy diet and getting regular physical activity can help manage blood sugar levels and improve overall health. A healthcare provider or registered dietitian can provide guidance on creating a meal plan that meets individual nutritional needs.\n",
            "2. Medications: Depending on the type and severity of diabetes, medications may be necessary to help manage blood sugar levels. There are several types of diabetes medications, including insulin, oral medications, and injectable medications.\n",
            "3. Insulin therapy: For people with type 1 diabetes or certain types of type 2 diabetes, insulin therapy may be necessary to provide the body with the insulin it needs to function properly. This can be administered through injections or an insulin pump.\n",
            "4. Blood sugar monitoring: Regular blood sugar monitoring is important for people with diabetes to help them manage their condition and prevent complications. This can be done using a home glucose meter or continuous glucose monitor.\n",
            "5. Lifestyle modifications: Making lifestyle modifications, such as quitting smoking, reducing stress, and getting enough sleep, can help improve blood sugar control and overall health in people with diabetes.\n",
            "6. Regular check-ups: Regular check-ups with a healthcare provider are important for people with diabetes to monitor their condition and manage any potential complications. This may include regular eye exams, foot exams, and kidney function tests.\n"
          ]
        }
      ]
    },
    {
      "cell_type": "markdown",
      "metadata": {
        "id": "vw8qcwq66B0C"
      },
      "source": [
        "### System and User Prompt Template"
      ]
    },
    {
      "cell_type": "code",
      "execution_count": 46,
      "metadata": {
        "id": "GF_4399TRW5D"
      },
      "outputs": [],
      "source": [
        "qna_system_message = system_prompt\n",
        "qna_user_message_template = \"\"\"Answer the question based on the following context:\n",
        "\n",
        "{context}\n",
        "\n",
        "Question: {question}\n",
        "\"\"\"\n"
      ]
    },
    {
      "cell_type": "markdown",
      "metadata": {
        "id": "TkIteX4m6mny"
      },
      "source": [
        "### Response Function"
      ]
    },
    {
      "cell_type": "code",
      "execution_count": 47,
      "metadata": {
        "id": "5jFvGnOJRXZx"
      },
      "outputs": [],
      "source": [
        "def generate_rag_response(user_input,k=3,max_tokens=128,temperature=0,top_p=0.95,top_k=40):\n",
        "    global qna_system_message, qna_user_message_template\n",
        "    # Retrieve relevant document chunks\n",
        "    relevant_document_chunks = retriever.get_relevant_documents(query=user_input,k=k)\n",
        "    context_list = [d.page_content for d in relevant_document_chunks]\n",
        "\n",
        "    # Combine document chunks into a single context\n",
        "    context_for_query = \". \".join(context_list)\n",
        "\n",
        "    user_message = qna_user_message_template.replace('{context}', context_for_query)\n",
        "    user_message = user_message.replace('{question}', user_input)\n",
        "\n",
        "    prompt = qna_system_message + '\\n' + user_message\n",
        "\n",
        "    # Generate the response\n",
        "    try:\n",
        "        response = llm(\n",
        "                  prompt=prompt,\n",
        "                  max_tokens=max_tokens,\n",
        "                  temperature=temperature,\n",
        "                  top_p=top_p,\n",
        "                  top_k=top_k\n",
        "                  )\n",
        "\n",
        "        # Extract and print the model's response\n",
        "        response = response['choices'][0]['text'].strip()\n",
        "    except Exception as e:\n",
        "        response = f'Sorry, I encountered the following error: \\n {e}'\n",
        "\n",
        "    return response"
      ]
    },
    {
      "cell_type": "markdown",
      "metadata": {
        "id": "ffP1SRYbPQHN"
      },
      "source": [
        "## Question Answering using RAG"
      ]
    },
    {
      "cell_type": "markdown",
      "metadata": {
        "id": "JjajBEj06B0E"
      },
      "source": [
        "### Query 1: What is the protocol for managing sepsis in a critical care unit?"
      ]
    },
    {
      "cell_type": "code",
      "execution_count": 48,
      "metadata": {
        "id": "Nlo9sMpPRbTP",
        "colab": {
          "base_uri": "https://localhost:8080/"
        },
        "outputId": "2b259e80-115e-44d1-9b94-32bbe70a0556"
      },
      "outputs": [
        {
          "output_type": "stream",
          "name": "stderr",
          "text": [
            "Llama.generate: prefix-match hit\n"
          ]
        },
        {
          "output_type": "stream",
          "name": "stdout",
          "text": [
            "Answer: Sepsis is a life-threatening condition characterized by a dysregulated host response to infection. In a critical care unit, managing sepsis involves prompt recognition, immediate intervention, and ongoing supportive care.\n",
            "\n",
            "1. Recognition:\n",
            "   - Suspect sepsis in patients with fever (≥ 38°C or ≥ 100.4°F), tachycardia (heart rate ≥ 125 beats/min), respiratory rate > 30 breaths per minute, altered mental status, and low blood pressure un\n"
          ]
        }
      ],
      "source": [
        "print(generate_rag_response(\"What is the protocol for managing sepsis in a critical care unit?\"))"
      ]
    },
    {
      "cell_type": "markdown",
      "source": [
        "* Query response is domain specific (e.g., specific temperature, heart rate, respiratory rate, etc.) and reflect information from Merck Manual that is provided to RAG.\n",
        "* RAG works as per its design."
      ],
      "metadata": {
        "id": "IYNr8fp3lIJa"
      }
    },
    {
      "cell_type": "markdown",
      "metadata": {
        "id": "QDw8zXuq6B0F"
      },
      "source": [
        "### Query 2: What are the common symptoms for appendicitis, and can it be cured via medicine? If not, what surgical procedure should be followed to treat it?"
      ]
    },
    {
      "cell_type": "code",
      "execution_count": 49,
      "metadata": {
        "id": "PVReF4G8RbzR",
        "colab": {
          "base_uri": "https://localhost:8080/"
        },
        "outputId": "41538a2e-86d4-4d57-e68b-2f525468074f"
      },
      "outputs": [
        {
          "output_type": "stream",
          "name": "stderr",
          "text": [
            "Llama.generate: prefix-match hit\n"
          ]
        },
        {
          "output_type": "stream",
          "name": "stdout",
          "text": [
            "Answer: Appendicitis is characterized by epigastric or periumbilical pain that shifts to the right lower quadrant, anorexia, nausea, vomiting, and abdominal tenderness. The classic symptoms include right lower quadrant direct and rebound tenderness at McBurney's point, Rovsing sign, psoas sign, or obturator sign. However, these signs are present in less than 50% of patients, especially in children, the elderly, and pregnant women. The diagnosis is primarily clinical, but imaging studies like CT or ul\n"
          ]
        }
      ],
      "source": [
        "print(generate_rag_response(\"What are the common symptoms for appendicitis, and can it be cured via medicine? If not, what surgical procedure should be followed to treat it?\"))"
      ]
    },
    {
      "cell_type": "markdown",
      "source": [
        "* Query response is domain specific and reflect information from Merck Manual that is provided to RAG as mentioned in the Sources.\n",
        "* RAG works as per its design."
      ],
      "metadata": {
        "id": "fIG0l4dklcRW"
      }
    },
    {
      "cell_type": "markdown",
      "metadata": {
        "id": "TggYyQPL6B0G"
      },
      "source": [
        "### Query 3: What are the effective treatments or solutions for addressing sudden patchy hair loss, commonly seen as localized bald spots on the scalp, and what could be the possible causes behind it?"
      ]
    },
    {
      "cell_type": "code",
      "execution_count": 50,
      "metadata": {
        "id": "0aRbadGtRcX0",
        "colab": {
          "base_uri": "https://localhost:8080/"
        },
        "outputId": "4857e21d-e86b-44b7-e0dc-df510fc80677"
      },
      "outputs": [
        {
          "output_type": "stream",
          "name": "stderr",
          "text": [
            "Llama.generate: prefix-match hit\n"
          ]
        },
        {
          "output_type": "stream",
          "name": "stdout",
          "text": [
            "Answer: The condition you're referring to is called alopecia areata. It presents with sudden, patchy hair loss in people without any obvious skin or systemic disorders. The most frequently affected areas are the scalp and beard. In severe cases, all body hair may be involved (alopecia universalis). Alopecia areata is believed to be an autoimmune disorder affecting genetically susceptible individuals exposed to unclear environmental triggers.\n",
            "\n",
            "The diagnosis of alopecia areata is typically made based on the clinical presentation. However, microscopic hair examination or scal\n"
          ]
        }
      ],
      "source": [
        "print(generate_rag_response(\"What are the effective treatments or solutions for addressing sudden patchy hair loss, commonly seen as localized bald spots on the scalp, and what could be the possible causes behind it?\"))"
      ]
    },
    {
      "cell_type": "markdown",
      "source": [
        "* Query response is domain specific and reflect information from Merck Manual that is provided to RAG.\n",
        "* We observed in the previous query without rag, returns extra information but RAG provides specific response like, it is a auto immune disease and specific treatment plan, e.g., Minoxidil with 2% or 5% solution.\n",
        "* RAG works as per its design."
      ],
      "metadata": {
        "id": "VFFO8Mw1leVu"
      }
    },
    {
      "cell_type": "markdown",
      "metadata": {
        "id": "1TgxdI-_6B0G"
      },
      "source": [
        "### Query 4:  What treatments are recommended for a person who has sustained a physical injury to brain tissue, resulting in temporary or permanent impairment of brain function?"
      ]
    },
    {
      "cell_type": "code",
      "execution_count": 51,
      "metadata": {
        "id": "0vzRX1TcRc29",
        "colab": {
          "base_uri": "https://localhost:8080/"
        },
        "outputId": "3efc35a6-493c-4964-b632-2ffa34fc9626"
      },
      "outputs": [
        {
          "output_type": "stream",
          "name": "stderr",
          "text": [
            "Llama.generate: prefix-match hit\n"
          ]
        },
        {
          "output_type": "stream",
          "name": "stdout",
          "text": [
            "Answer: For a person with a brain injury leading to temporary or permanent impairment of brain function, the primary focus is on supportive care. This includes preventing systemic complications such as pneumonia, urinary tract infections (UTIs), and thromboembolic disease; providing good nutrition; and preventing pressure ulcers. Additionally, physical therapy may be necessary to prevent limb contractures.\n",
            "\n",
            "In cases of traumatic brain injury, posttraumatic seizures may occur, and drugs are given to prevent seizures during the first week if there is significant structural injury or a Glasgow Com\n"
          ]
        }
      ],
      "source": [
        "print(generate_rag_response(\"What treatments are recommended for a person who has sustained a physical injury to brain tissue, resulting in temporary or permanent impairment of brain function?\"))"
      ]
    },
    {
      "cell_type": "markdown",
      "source": [
        "* Query response is domain specific and reflect information from Merck Manual that is provided to RAG.\n",
        "* Response is very succint and specific\n",
        "* RAG works as per its design."
      ],
      "metadata": {
        "id": "LltI6wxblfjw"
      }
    },
    {
      "cell_type": "markdown",
      "metadata": {
        "id": "FlHXYCkm6B0H"
      },
      "source": [
        "### Query 5: What are the necessary precautions and treatment steps for a person who has fractured their leg during a hiking trip, and what should be considered for their care and recovery?"
      ]
    },
    {
      "cell_type": "code",
      "execution_count": 52,
      "metadata": {
        "id": "sarpUibcRdhq",
        "colab": {
          "base_uri": "https://localhost:8080/"
        },
        "outputId": "f6d88569-9841-4516-b002-fe3c915c85be"
      },
      "outputs": [
        {
          "output_type": "stream",
          "name": "stderr",
          "text": [
            "Llama.generate: prefix-match hit\n"
          ]
        },
        {
          "output_type": "stream",
          "name": "stdout",
          "text": [
            "Answer: A fractured leg is a serious injury that requires prompt medical attention. In the initial assessment, evaluate the patient for signs of hemorrhagic shock due to potential blood loss. If there are symptoms or signs of ischemia (absent pulses, marked pallor, coolness distal to the injury, severe pain), immediate evaluation and treatment for arterial injuries may be necessary.\n",
            "\n",
            "For most fractures, the first steps include immobilizing the affected limb with a splint to prevent further injury and decrease pain. Pain is typically treated with opioids. Definitive\n"
          ]
        }
      ],
      "source": [
        "print(generate_rag_response(\"What are the necessary precautions and treatment steps for a person who has fractured their leg during a hiking trip, and what should be considered for their care and recovery?\"))"
      ]
    },
    {
      "cell_type": "markdown",
      "source": [
        "* Query response is domain specific and reflect information from Merck Manual that is provided to RAG.\n",
        "* Previous query with prompt only a lot of information whereas RAG returns specific, e.g., \"treatment plan: treated with opioids\", etc.\n",
        "* RAG works as per its design."
      ],
      "metadata": {
        "id": "QFBlqta6li21"
      }
    },
    {
      "cell_type": "markdown",
      "metadata": {
        "id": "K7TYrqycEITB"
      },
      "source": [
        "### Fine-tuning"
      ]
    },
    {
      "cell_type": "markdown",
      "source": [
        "generate_rag_response(user_input,k=3,max_tokens=128,temperature=0,top_p=0.95,top_k=40)\n",
        "\n",
        "Fine Tuning parameter.\n",
        "\n",
        "1. max_tokens\n",
        "  * Sets a limit on the number of tokens (words or characters) the model can generate in a single response.\n",
        "  default value: 128\n",
        "  * Increasing max_tokens is costly as it requires llm to more time to process with more price.\n",
        "\n",
        "2. k refers to the number of top-ranked items (documents, chunks, or passages) that are retrieved from a knowledge base in response to a user's query. Higher value will be increase the accuracy but lower the precision.\n",
        "default value: 3\n",
        "\n",
        "3. temperature\n",
        "  * influences the overall randomness of token selection.\n",
        "  * Lower temperatures lead to more deterministic outputs and higher temperature gives more deterministic output. Its range is 0-1 in llama model.  \n",
        "  default value: 0 (focused/specific)\n",
        "  * We will vary this parameter here to observed query response.\n",
        "  \n",
        "4. top_k\n",
        "  * Limits the model's choices to the top k most probable tokens at each step of text generation.\n",
        "  * Lower value leads to more predictable and focused outputs, reducing the likelihood of irrelevant tokens. Higher value allows for greater diversity and creativity. In llama, the value of top_k 1-10 is consider low and 20-50+ is consider high.\n",
        "  default value: 40.\n",
        "\n",
        "5. top_p\n",
        "  * Selects tokens from a probability distribution, considering tokens whose cumulative probability is above a specified threshold p. lower value of it, restrict the model with focus and deterministic and higher value gives more flexibilty. Its range is 0 - 1.\n",
        "  default value: .95 (95% probablity)\n",
        "\n"
      ],
      "metadata": {
        "id": "kBVjfPUJqM-G"
      }
    },
    {
      "cell_type": "markdown",
      "metadata": {
        "id": "OwapdrUg_oZF"
      },
      "source": [
        "Query 1: What is the protocol for managing sepsis in a critical care unit?"
      ]
    },
    {
      "cell_type": "code",
      "source": [
        "query = \"What is the protocol for managing sepsis in a critical care unit?\""
      ],
      "metadata": {
        "id": "Gbag8qHDDeGN"
      },
      "execution_count": 53,
      "outputs": []
    },
    {
      "cell_type": "code",
      "source": [
        "print(generate_rag_response(query))"
      ],
      "metadata": {
        "colab": {
          "base_uri": "https://localhost:8080/"
        },
        "id": "tH0evBqhMIVt",
        "outputId": "d42c6f85-514d-4451-b564-1f4c72b78dd9"
      },
      "execution_count": 54,
      "outputs": [
        {
          "output_type": "stream",
          "name": "stderr",
          "text": [
            "Llama.generate: prefix-match hit\n"
          ]
        },
        {
          "output_type": "stream",
          "name": "stdout",
          "text": [
            "Answer: Sepsis is a life-threatening condition characterized by a dysregulated host response to infection. In a critical care unit, managing sepsis involves prompt recognition, immediate intervention, and ongoing supportive care. Here's an outline of the protocol for managing sepsis in a critical care unit based on the provided context:\n",
            "\n",
            "1. Recognition: Suspect sepsis if the patient has signs of infection (fever, chills, or leukocytosis) and systemic inflammatory response syndrome (SIRS), which includes a heart rate ≥ 1\n"
          ]
        }
      ]
    },
    {
      "cell_type": "code",
      "execution_count": 55,
      "metadata": {
        "id": "DyWoIf53_qRQ",
        "colab": {
          "base_uri": "https://localhost:8080/"
        },
        "outputId": "0dd107c5-778f-4b15-cddd-41a54cc89463"
      },
      "outputs": [
        {
          "output_type": "stream",
          "name": "stderr",
          "text": [
            "Llama.generate: prefix-match hit\n"
          ]
        },
        {
          "output_type": "stream",
          "name": "stdout",
          "text": [
            "Answer: Sepsis is a life-threatening condition characterized by a dysregulated host response to infection. In a critical care unit, managing sepsis involves prompt recognition, immediate intervention, and ongoing supportive care. Here's an outline of the protocol for managing sepsis in a critical care unit based on the provided context:\n",
            "\n",
            "1. Recognition: Suspect sepsis if the patient has signs of infection (fever, chills, or known source) along with systemic inflammatory response syndrome (SIRS) criteria: temperature >38°C or <36°C, heart rate >90 beats per minute, respiratory rate >20 breaths per minute, or mean arterial pressure <70 mmHg.\n",
            "\n",
            "2. Diagnostic testing: Obtain blood cultures and other appropriate specimens for culture and sensitivity testing. Consider point-of-care testing for lactate levels, which can help identify sepsis earlier.\n",
            "\n",
            "3. Initial stabilization: Provide supplemental oxygen, establish intravenous access, and administer fluids to maintain adequate circulating volume.\n",
            "\n",
            "4. Antibiotic therapy: Administer broad-spectrum antibiotics as soon as possible based on suspected pathogens and local susceptibility patterns. Empiric regimens may include ampicillin or penicillin G plus an aminoglycoside, cefotaxime, or vancomycin depending on the patient's clinical presentation and risk factors.\n",
            "\n",
            "5. Supportive care: Provide respiratory support with mechanical ventilation if necessary, maintain adequate fluid balance, and monitor hemodynamic status closely. Administer vasopressors as needed to maintain mean arterial pressure >65 mmHg.\n",
            "\n",
            "6. Source control: Identify and address the source of infection, such as removing an infected catheter or draining an abscess.\n",
            "\n",
            "7. Monitoring: Continuously monitor the patient's vital signs, laboratory values, and clinical status. Adjust antibiotic therapy based on culture results and susceptibility testing.\n",
            "\n",
            "8. Fluid resuscitation: Administer crystalloid solutions to maintain adequate circulating volume. The initial fluid bolus is typically 1 L or 20 mL/kg in children\n"
          ]
        }
      ],
      "source": [
        "print(generate_rag_response(query,max_tokens=500))\n"
      ]
    },
    {
      "cell_type": "code",
      "source": [
        "print(generate_rag_response(query,k=10, max_tokens=500))"
      ],
      "metadata": {
        "id": "6t_JXYPR-bwR",
        "colab": {
          "base_uri": "https://localhost:8080/"
        },
        "outputId": "39fbf5f2-aa32-474d-b330-5601bdf5f073"
      },
      "execution_count": 56,
      "outputs": [
        {
          "output_type": "stream",
          "name": "stderr",
          "text": [
            "Llama.generate: prefix-match hit\n"
          ]
        },
        {
          "output_type": "stream",
          "name": "stdout",
          "text": [
            "Answer: Sepsis is a life-threatening condition characterized by a dysregulated host response to infection. In a critical care unit, managing sepsis involves prompt recognition, immediate intervention, and ongoing supportive care. Here's an outline of the protocol for managing sepsis in a critical care unit based on the provided context:\n",
            "\n",
            "1. Recognition: Suspect sepsis if the patient has signs of infection (fever, chills, or known source) along with systemic inflammatory response syndrome (SIRS) criteria: temperature >38°C or <36°C, heart rate >90 beats per minute, respiratory rate >20 breaths per minute, or mean arterial pressure <70 mmHg.\n",
            "\n",
            "2. Diagnostic testing: Obtain blood cultures and other appropriate specimens for culture and sensitivity testing. Consider point-of-care testing for lactate levels, which can help identify sepsis earlier.\n",
            "\n",
            "3. Initial stabilization: Provide supplemental oxygen, establish intravenous access, and administer fluids to maintain adequate circulating volume.\n",
            "\n",
            "4. Antibiotic therapy: Administer broad-spectrum antibiotics as soon as possible based on suspected pathogens and local susceptibility patterns. Empiric regimens may include ampicillin or penicillin G plus an aminoglycoside, cefotaxime, or vancomycin depending on the patient's clinical presentation and risk factors.\n",
            "\n",
            "5. Supportive care: Provide respiratory support with mechanical ventilation if necessary, maintain adequate fluid balance, and monitor hemodynamic status closely. Administer vasopressors as needed to maintain mean arterial pressure >65 mmHg.\n",
            "\n",
            "6. Source control: Identify and address the source of infection, such as removing an infected catheter or draining an abscess.\n",
            "\n",
            "7. Monitoring: Continuously monitor the patient's vital signs, laboratory values, and clinical status. Adjust antibiotic therapy based on culture results and susceptibility testing.\n",
            "\n",
            "8. Fluid resuscitation: Administer crystalloid solutions to maintain adequate circulating volume. The initial fluid bolus is typically 1 L or 20 mL/kg in children\n"
          ]
        }
      ]
    },
    {
      "cell_type": "code",
      "source": [
        "print(generate_rag_response(query,temperature=.5, max_tokens=500))"
      ],
      "metadata": {
        "id": "cEntNhs-CtBT",
        "colab": {
          "base_uri": "https://localhost:8080/"
        },
        "outputId": "6d120f3a-cff5-4956-e94d-bcf09d40adb1"
      },
      "execution_count": 57,
      "outputs": [
        {
          "output_type": "stream",
          "name": "stderr",
          "text": [
            "Llama.generate: prefix-match hit\n"
          ]
        },
        {
          "output_type": "stream",
          "name": "stdout",
          "text": [
            "Answer: Sepsis is a life-threatening condition characterized by a dysregulated host response to infection. In a critical care unit, managing sepsis involves immediate supportive measures and antimicrobial therapy. Here's an outline of the protocol:\n",
            "\n",
            "1. Initial assessment: Check vital signs, including temperature, blood pressure, pulse rate, respiratory rate, and oxygen saturation. Evaluate consciousness level using tools like the Glasgow Coma Scale. Look for signs of infection such as shaking chills, persistent fever, altered sensorium, hypotension, and GI symptoms (abdominal pain, nausea, vomiting, diarrhea).\n",
            "\n",
            "2. Diagnostic tests: If sepsis or septic shock is suspected, obtain cultures from blood and any other appropriate specimens. Rapid diagnostic tests like procalcitonin or lactate levels can help confirm the diagnosis.\n",
            "\n",
            "3. Fluid resuscitation: Administer crystalloids (0.9% saline or Ringer's lactate) to maintain adequate circulating volume and vital signs. The initial bolus is typically 1 L (or 20 mL/kg in children), but smaller volumes may be used for patients with signs of high right-sided pressure or acute MI.\n",
            "\n",
            "4. Antimicrobial therapy: Empiric antibiotics should be initiated as soon as possible, ideally within 1 hour of suspected infection. The choice of antibiotics depends on the likely pathogens and severity of illness. Consensus guidelines recommend a combination of beta-lactams (e.g., ampicillin or penicillin G) and an aminoglycoside, with modifications based on local susceptibility patterns and individual patient circumstances.\n",
            "\n",
            "5. Supportive care: Provide oxygen supplementation, antipyretics, analgesics, and intravenous fluids as needed to maintain hemodynamic stability and organ function. Monitor electrolytes, glucose levels, and coagulation parameters closely.\n",
            "\n",
            "6. Source control: Identify and address the source of infection, such as removing an infected catheter or draining an abscess.\n",
            "\n",
            "7. Adjusting antibiotics: Once culture results are available, adjust antibiotic therapy based on\n"
          ]
        }
      ]
    },
    {
      "cell_type": "code",
      "source": [
        "print(generate_rag_response(query,top_p=0.80, max_tokens=500))"
      ],
      "metadata": {
        "id": "ZHr3xcvfCtZe",
        "colab": {
          "base_uri": "https://localhost:8080/"
        },
        "outputId": "2ad2c657-227d-4846-f77a-449d30743b72"
      },
      "execution_count": 58,
      "outputs": [
        {
          "output_type": "stream",
          "name": "stderr",
          "text": [
            "Llama.generate: prefix-match hit\n"
          ]
        },
        {
          "output_type": "stream",
          "name": "stdout",
          "text": [
            "Answer: Sepsis is a life-threatening condition characterized by a dysregulated host response to infection. In a critical care unit, managing sepsis involves prompt recognition, immediate intervention, and ongoing supportive care. Here's an outline of the protocol for managing sepsis in a critical care unit based on the provided context:\n",
            "\n",
            "1. Recognition: Suspect sepsis if the patient has signs of infection (fever, chills, or known source) along with systemic inflammatory response syndrome (SIRS) criteria: temperature >38°C or <36°C, heart rate >90 beats per minute, respiratory rate >20 breaths per minute, or mean arterial pressure <70 mmHg.\n",
            "\n",
            "2. Diagnostic testing: Obtain blood cultures and other appropriate specimens for culture and sensitivity testing. Consider point-of-care testing for lactate levels, which can help identify sepsis earlier.\n",
            "\n",
            "3. Initial stabilization: Provide supplemental oxygen, establish intravenous access, and administer fluids to maintain adequate circulating volume.\n",
            "\n",
            "4. Antibiotic therapy: Administer broad-spectrum antibiotics as soon as possible based on suspected pathogens and local susceptibility patterns. Empiric regimens may include ampicillin or penicillin G plus an aminoglycoside, cefotaxime, or vancomycin depending on the patient's clinical presentation and risk factors.\n",
            "\n",
            "5. Supportive care: Provide respiratory support with mechanical ventilation if necessary, maintain adequate fluid balance, and monitor hemodynamic status closely. Administer vasopressors as needed to maintain mean arterial pressure >65 mmHg.\n",
            "\n",
            "6. Source control: Identify and address the source of infection, such as removing an infected catheter or draining an abscess.\n",
            "\n",
            "7. Monitoring: Continuously monitor the patient's vital signs, laboratory values, and clinical status. Adjust antibiotic therapy based on culture results and susceptibility testing.\n",
            "\n",
            "8. Fluid resuscitation: Administer crystalloid solutions to maintain adequate circulating volume. The initial fluid bolus is typically 1 L or 20 mL/kg in children\n"
          ]
        }
      ]
    },
    {
      "cell_type": "code",
      "source": [
        "print(generate_rag_response(query,top_k=100, max_tokens=500))"
      ],
      "metadata": {
        "id": "4sKEJfFBCtm4",
        "colab": {
          "base_uri": "https://localhost:8080/"
        },
        "outputId": "6a168649-a138-49ba-98ea-45af8b6e52da"
      },
      "execution_count": 59,
      "outputs": [
        {
          "output_type": "stream",
          "name": "stderr",
          "text": [
            "Llama.generate: prefix-match hit\n"
          ]
        },
        {
          "output_type": "stream",
          "name": "stdout",
          "text": [
            "Answer: Sepsis is a life-threatening condition characterized by a dysregulated host response to infection. In a critical care unit, managing sepsis involves prompt recognition, immediate intervention, and ongoing supportive care. Here's an outline of the protocol for managing sepsis in a critical care unit based on the provided context:\n",
            "\n",
            "1. Recognition: Suspect sepsis if the patient has signs of infection (fever, chills, or known source) along with systemic inflammatory response syndrome (SIRS) criteria: temperature >38°C or <36°C, heart rate >90 beats per minute, respiratory rate >20 breaths per minute, or mean arterial pressure <70 mmHg.\n",
            "\n",
            "2. Diagnostic testing: Obtain blood cultures and other appropriate specimens for culture and sensitivity testing. Consider point-of-care testing for lactate levels, which can help identify sepsis earlier.\n",
            "\n",
            "3. Initial stabilization: Provide supplemental oxygen, establish intravenous access, and administer fluids to maintain adequate circulating volume.\n",
            "\n",
            "4. Antibiotic therapy: Administer broad-spectrum antibiotics as soon as possible based on suspected pathogens and local susceptibility patterns. Empiric regimens may include ampicillin or penicillin G plus an aminoglycoside, cefotaxime, or vancomycin depending on the patient's clinical presentation and risk factors.\n",
            "\n",
            "5. Supportive care: Provide respiratory support with mechanical ventilation if necessary, maintain adequate fluid balance, and monitor hemodynamic status closely. Administer vasopressors as needed to maintain mean arterial pressure >65 mmHg.\n",
            "\n",
            "6. Source control: Identify and address the source of infection, such as removing an infected catheter or draining an abscess.\n",
            "\n",
            "7. Monitoring: Continuously monitor the patient's vital signs, laboratory values, and clinical status. Adjust antibiotic therapy based on culture results and susceptibility testing.\n",
            "\n",
            "8. Fluid resuscitation: Administer crystalloid solutions to maintain adequate circulating volume. The initial fluid bolus is typically 1 L or 20 mL/kg in children\n"
          ]
        }
      ]
    },
    {
      "cell_type": "code",
      "source": [
        "print(generate_rag_response(query,k=10, max_tokens=500, temperature=.1, top_p=.5, top_k=50))"
      ],
      "metadata": {
        "colab": {
          "base_uri": "https://localhost:8080/"
        },
        "id": "-rComVDBQtWU",
        "outputId": "e46259e6-2d6e-436e-a3d6-46ed8b0370bc"
      },
      "execution_count": 60,
      "outputs": [
        {
          "output_type": "stream",
          "name": "stderr",
          "text": [
            "Llama.generate: prefix-match hit\n"
          ]
        },
        {
          "output_type": "stream",
          "name": "stdout",
          "text": [
            "Answer: Sepsis is a life-threatening condition characterized by a dysregulated host response to infection. In a critical care unit, managing sepsis involves prompt recognition, immediate intervention, and ongoing supportive care.\n",
            "\n",
            "1. Recognition:\n",
            "   - Suspect sepsis in patients with fever (≥ 38°C or ≥ 100.4°F), tachycardia (heart rate ≥ 125 beats/min), respiratory rate > 30 breaths per minute, altered mental status, and low blood pressure unresponsive to volume resuscitation.\n",
            "   - Consider sepsis if patients have signs of infection along with any of the above symptoms.\n",
            "   - Septic shock is a severe form of sepsis, characterized by hypotension (systolic BP < 90 mm Hg) that is unresponsive to volume resuscitation.\n",
            "\n",
            "2. Initial Management:\n",
            "   - Keep the patient warm and provide supplemental oxygen if needed.\n",
            "   - Begin antibiotics as soon as possible, ideally within 1 hour of recognition. Empiric antibiotic therapy should be based on likely pathogens and severity of illness.\n",
            "   - Administer fluids to maintain adequate blood pressure and organ perfusion. Crystalloids like Ringer's lactate or normal saline are commonly used.\n",
            "\n",
            "3. Monitoring:\n",
            "   - Continuously monitor vital signs, including heart rate, blood pressure, respiratory rate, temperature, and oxygen saturation.\n",
            "   - Assess urine output and perform daily weight checks.\n",
            "   - Monitor electrolytes, glucose, and lactate levels.\n",
            "   - Consider measuring central venous pressure (CVP) or pulmonary artery occlusive pressure (PAOP) to guide fluid therapy.\n",
            "\n",
            "4. Ongoing Supportive Care:\n",
            "   - Provide adequate nutrition and maintain hydration.\n",
            "   - Administer antipyretics for fever control.\n",
            "   - Manage pain with appropriate analgesics.\n",
            "   - Provide respiratory support if needed, including mechanical ventilation.\n",
            "   - Address any underlying sources of infection, such as infected catheters or wounds.\n",
            "\n",
            "5. Antibiotic Therapy:\n"
          ]
        }
      ]
    },
    {
      "cell_type": "markdown",
      "source": [
        "### Observation\n",
        "* Initial response of the query with default parameters clearly is truncated.\n",
        "* Increasing k, increases the accuracy as the response is more specific to the query.\n",
        "* Increasing max token = 500 covers the response\n",
        "* increasing temperature increases the creativity,\n",
        "* decreasing top_p gives more focused response, and increasing top_k have almost the same query.\n",
        "* Combining k=10, max_tokens=500, temperature=.1, top_p=.5, top_k=50 results creativity and incompete response.\n",
        "* As it is important to recommend to accurate, concise and human safe treatment plan and diagnosis, we choose max_token = 500, temperature = 0, k = 3, top_p = .95, and top_k =40."
      ],
      "metadata": {
        "id": "gSa3hdVJNU9n"
      }
    },
    {
      "cell_type": "markdown",
      "metadata": {
        "id": "y3pAUaN0_0Ly"
      },
      "source": [
        "Query 2: What are the common symptoms for appendicitis, and can it be cured via medicine? If not, what surgical procedure should be followed to treat it?"
      ]
    },
    {
      "cell_type": "code",
      "source": [
        "query = \"What are the common symptoms for appendicitis, and can it be cured via medicine? If not, what surgical procedure should be followed to treat it?\"\n",
        "print(generate_rag_response(query))"
      ],
      "metadata": {
        "id": "YYkQSii6D9Jk",
        "colab": {
          "base_uri": "https://localhost:8080/"
        },
        "outputId": "97a54995-c9b2-4a7f-ea52-6f9d935cc7bc"
      },
      "execution_count": 61,
      "outputs": [
        {
          "output_type": "stream",
          "name": "stderr",
          "text": [
            "Llama.generate: prefix-match hit\n"
          ]
        },
        {
          "output_type": "stream",
          "name": "stdout",
          "text": [
            "Answer: Appendicitis is characterized by epigastric or periumbilical pain that shifts to the right lower quadrant, anorexia, nausea, vomiting, and abdominal tenderness. The classic symptoms include right lower quadrant direct and rebound tenderness at McBurney's point, Rovsing sign, psoas sign, or obturator sign. However, these signs are present in less than 50% of patients, especially in children, the elderly, and pregnant women. The diagnosis is primarily clinical, but imaging studies like CT or ul\n"
          ]
        }
      ]
    },
    {
      "cell_type": "code",
      "execution_count": 62,
      "metadata": {
        "id": "6YuabgfVD9Jk",
        "colab": {
          "base_uri": "https://localhost:8080/"
        },
        "outputId": "0ebd83bd-1fa5-4a5f-f47f-38278617be78"
      },
      "outputs": [
        {
          "output_type": "stream",
          "name": "stderr",
          "text": [
            "Llama.generate: prefix-match hit\n"
          ]
        },
        {
          "output_type": "stream",
          "name": "stdout",
          "text": [
            "Answer: Appendicitis is characterized by epigastric or periumbilical pain that shifts to the right lower quadrant, anorexia, nausea, vomiting, and abdominal tenderness. The classic symptoms include right lower quadrant direct and rebound tenderness at McBurney's point, Rovsing sign, psoas sign, or obturator sign. However, these signs are present in less than 50% of patients, especially in children, the elderly, and pregnant women. The diagnosis is primarily clinical, but imaging studies like CT or ultrasound can be used when symptoms are atypical or equivocal.\n",
            "\n",
            "Appendicitis cannot be cured via medicine alone; surgical removal of the appendix (appendectomy) is the standard treatment. Antibiotics may be administered before surgery to prevent infection spread. If the appendix ruptures, an abscess or peritonitis may form, requiring drainage and subsequent appendectomy. In late cases with a pericolic abscess, the abscess is drained first, followed by appendectomy at a later date. A Meckel's diverticulum should be removed concomitantly with the appendectomy if the patient is under 40 years old.\n",
            "\n",
            "Sources:\n",
            "1. The Merck Manual of Diagnosis & Therapy, 19th Edition, Chapter 11. Acute Abdomen & Surgical Gastroenterology.\n",
            "2. UpToDate, Appendicitis in Adults, accessed on March 30, 2023.\n"
          ]
        }
      ],
      "source": [
        "print(generate_rag_response(query,max_tokens=500))\n"
      ]
    },
    {
      "cell_type": "code",
      "source": [
        "print(generate_rag_response(query,k=10, max_tokens=500))"
      ],
      "metadata": {
        "id": "ZMOOeh_ED9Jk",
        "colab": {
          "base_uri": "https://localhost:8080/"
        },
        "outputId": "01ca56a6-74e9-40e9-d028-a0ea16b7d958"
      },
      "execution_count": 63,
      "outputs": [
        {
          "output_type": "stream",
          "name": "stderr",
          "text": [
            "Llama.generate: prefix-match hit\n"
          ]
        },
        {
          "output_type": "stream",
          "name": "stdout",
          "text": [
            "Answer: Appendicitis is characterized by epigastric or periumbilical pain that shifts to the right lower quadrant, anorexia, nausea, vomiting, and abdominal tenderness. The classic symptoms include right lower quadrant direct and rebound tenderness at McBurney's point, Rovsing sign, psoas sign, or obturator sign. However, these signs are present in less than 50% of patients, especially in children, the elderly, and pregnant women. The diagnosis is primarily clinical, but imaging studies like CT or ultrasound can be used when symptoms are atypical or equivocal.\n",
            "\n",
            "Appendicitis cannot be cured via medicine alone; surgical removal of the appendix (appendectomy) is the standard treatment. Antibiotics may be administered before surgery to prevent infection spread. If the appendix ruptures, an abscess or peritonitis may form, requiring drainage and subsequent appendectomy. In late cases with a pericolic abscess, the abscess is drained first, followed by appendectomy at a later date. A Meckel's diverticulum should be removed concomitantly with the appendectomy if the patient is under 40 years old.\n",
            "\n",
            "Sources:\n",
            "1. The Merck Manual of Diagnosis & Therapy, 19th Edition, Chapter 11. Acute Abdomen & Surgical Gastroenterology.\n",
            "2. UpToDate, Appendicitis in Adults, accessed on March 30, 2023.\n"
          ]
        }
      ]
    },
    {
      "cell_type": "code",
      "source": [
        "print(generate_rag_response(query,temperature=.5, max_tokens=500))"
      ],
      "metadata": {
        "id": "3bhL92GzD9Jl",
        "colab": {
          "base_uri": "https://localhost:8080/"
        },
        "outputId": "8cec6a9e-d260-4537-f435-253f2ff99a38"
      },
      "execution_count": 64,
      "outputs": [
        {
          "output_type": "stream",
          "name": "stderr",
          "text": [
            "Llama.generate: prefix-match hit\n"
          ]
        },
        {
          "output_type": "stream",
          "name": "stdout",
          "text": [
            "Answer: Appendicitis is characterized by symptoms such as epigastric or periumbilical pain followed by brief nausea, vomiting, and anorexia. After a few hours, the pain shifts to the right lower quadrant, increasing with cough and motion. Classic signs include direct and rebound tenderness at McBurney's point, Rovsing sign, psoas sign, or obturator sign. Low-grade fever is common. However, these classic findings appear in less than 50% of patients, and variations in symptoms and signs occur, particularly among elderly patients and pregnant women.\n",
            "\n",
            "Appendicitis cannot be cured via medicine alone as it requires surgical intervention to remove the inflamed appendix. The standard treatment for appendicitis is open or laparoscopic appendectomy. Antibiotics are administered intravenously before surgery to prevent infection spread. In cases where the appendix is difficult to locate, antibiotics may be used as a temporary measure until surgery can be performed. If the appendix ruptures and forms an abscess or peritonitis, the abscess may be drained either by ultrasound-guided percutaneous catheter or open operation. A Meckel's diverticulum should also be removed concomitantly with the appendectomy if it is present and not extensively inflamed around the appendix.\n",
            "\n",
            "Regarding your second question, amebic colitis can cause symptoms such as abdominal pain, cramps, loose or very soft stools, mucus, flatulence, and weight loss. In chronic cases, tender, palpable masses or annular lesions (amebomas) in the cecum and ascending colon may be present. However, appendicitis and amebic colitis are distinct conditions, and their treatments differ significantly. Appendicitis requires surgical intervention to remove the inflamed appendix, whereas amebic colitis is treated with antibiotics and supportive care. Metronidazole or tinidazole are commonly used for treating amebic colitis. Surgery may be required in cases of perforation, abscess formation, or unresponsiveness to antibiotic therapy.\n"
          ]
        }
      ]
    },
    {
      "cell_type": "code",
      "source": [
        "print(generate_rag_response(query,top_p=0.80, max_tokens=500))"
      ],
      "metadata": {
        "id": "YB5XjvYqD9Jl",
        "colab": {
          "base_uri": "https://localhost:8080/"
        },
        "outputId": "8e54a72a-0c79-4594-d9dc-a63ed420d972"
      },
      "execution_count": 65,
      "outputs": [
        {
          "output_type": "stream",
          "name": "stderr",
          "text": [
            "Llama.generate: prefix-match hit\n"
          ]
        },
        {
          "output_type": "stream",
          "name": "stdout",
          "text": [
            "Answer: Appendicitis is characterized by epigastric or periumbilical pain that shifts to the right lower quadrant, anorexia, nausea, vomiting, and abdominal tenderness. The classic symptoms include right lower quadrant direct and rebound tenderness at McBurney's point, Rovsing sign, psoas sign, or obturator sign. However, these signs are present in less than 50% of patients, especially in children, the elderly, and pregnant women. The diagnosis is primarily clinical, but imaging studies like CT or ultrasound can be used when symptoms are atypical or equivocal.\n",
            "\n",
            "Appendicitis cannot be cured via medicine alone; surgical removal of the appendix (appendectomy) is the standard treatment. Antibiotics may be administered before surgery to prevent infection spread. If the appendix ruptures, an abscess or peritonitis may form, requiring drainage and subsequent appendectomy. In late cases with a pericolic abscess, the abscess is drained first, followed by appendectomy at a later date. A Meckel's diverticulum should be removed concomitantly with the appendectomy if the patient is under 40 years old.\n",
            "\n",
            "Sources:\n",
            "1. The Merck Manual of Diagnosis & Therapy, 19th Edition, Chapter 11. Acute Abdomen & Surgical Gastroenterology.\n",
            "2. UpToDate, Appendicitis in Adults, accessed on March 30, 2023.\n"
          ]
        }
      ]
    },
    {
      "cell_type": "code",
      "source": [
        "print(generate_rag_response(query,top_k=100, max_tokens=500))"
      ],
      "metadata": {
        "id": "LMxabxerD9Jl",
        "colab": {
          "base_uri": "https://localhost:8080/"
        },
        "outputId": "20c575ce-7d48-446c-df96-46d42699d2be"
      },
      "execution_count": 66,
      "outputs": [
        {
          "output_type": "stream",
          "name": "stderr",
          "text": [
            "Llama.generate: prefix-match hit\n"
          ]
        },
        {
          "output_type": "stream",
          "name": "stdout",
          "text": [
            "Answer: Appendicitis is characterized by epigastric or periumbilical pain that shifts to the right lower quadrant, anorexia, nausea, vomiting, and abdominal tenderness. The classic symptoms include right lower quadrant direct and rebound tenderness at McBurney's point, Rovsing sign, psoas sign, or obturator sign. However, these signs are present in less than 50% of patients, especially in children, the elderly, and pregnant women. The diagnosis is primarily clinical, but imaging studies like CT or ultrasound can be used when symptoms are atypical or equivocal.\n",
            "\n",
            "Appendicitis cannot be cured via medicine alone; surgical removal of the appendix (appendectomy) is the standard treatment. Antibiotics may be administered before surgery to prevent infection spread. If the appendix ruptures, an abscess or peritonitis may form, requiring drainage and subsequent appendectomy. In late cases with a pericolic abscess, the abscess is drained first, followed by appendectomy at a later date. A Meckel's diverticulum should be removed concomitantly with the appendectomy if the patient is under 40 years old.\n",
            "\n",
            "Sources:\n",
            "1. The Merck Manual of Diagnosis & Therapy, 19th Edition, Chapter 11. Acute Abdomen & Surgical Gastroenterology.\n",
            "2. UpToDate, Appendicitis in Adults, accessed on March 30, 2023.\n"
          ]
        }
      ]
    },
    {
      "cell_type": "code",
      "source": [
        "print(generate_rag_response(query,k=10, max_tokens=500, temperature=.1, top_p=.5, top_k=50))"
      ],
      "metadata": {
        "colab": {
          "base_uri": "https://localhost:8080/"
        },
        "id": "k4cYDh8_Scg6",
        "outputId": "89679283-a323-4585-f977-08569f52da1b"
      },
      "execution_count": 67,
      "outputs": [
        {
          "output_type": "stream",
          "name": "stderr",
          "text": [
            "Llama.generate: prefix-match hit\n"
          ]
        },
        {
          "output_type": "stream",
          "name": "stdout",
          "text": [
            "Answer: Appendicitis is characterized by symptoms such as epigastric or periumbilical pain followed by brief nausea, vomiting, and anorexia. After a few hours, the pain shifts to the right lower quadrant, which increases with cough and motion. Classic signs include direct and rebound tenderness at McBurney's point, Rovsing sign, psoas sign, or obturator sign. Low-grade fever is common. However, these classic findings appear in less than 50% of patients, and many variations of symptoms and signs occur. Pain may not be localized, particularly in infants and children, and tenderness may be diffuse or absent.\n",
            "\n",
            "Appendicitis cannot be cured via medicine alone; surgical removal is the treatment of choice. This can be done through open or laparoscopic appendectomy. The surgeon should precede the procedure with IV antibiotics, typically third-generation cephalosporins. If the appendix is perforated, antibiotics should be continued until the patient's temperature and WBC count have normalized. In cases where surgery is impossible, antibiotics can improve the survival rate but are not curative. When a large inflammatory mass is found involving the appendix, terminal ileum, and cecum, resection of the entire mass and ileocolostomy may be preferable. In late cases with a pericolic abscess, the abscess should be drained either by an ultrasound-guided percutaneous catheter or by open operation (with appendectomy to follow at a later date). A Meckel's diverticulum in a patient under the age of 40 should be removed concomitantly with the appendectomy unless extensive inflammation around the appendix prevents the procedure.\n"
          ]
        }
      ]
    },
    {
      "cell_type": "markdown",
      "source": [
        "### Observation\n",
        "* Initial response of the query with default parameters clearly is truncated.\n",
        "* Increasing max token = 500 covers the response\n",
        "* Increasing k/top_k/decreasing top_p gave the same response.\n",
        "* increasing temperature increases the creativity,\n",
        "* Combining k=10, max_tokens=500, temperature=.1, top_p=.5, top_k=50 results creativity and incompete response.\n",
        "* As it is important to recommend to accurate, concise and human safe treatment plan and diagnosis, we choose max_token = 500, temperature = 0, k = 3, top_p = .95, and top_k =40."
      ],
      "metadata": {
        "id": "ZDAdfndsTuMs"
      }
    },
    {
      "cell_type": "markdown",
      "metadata": {
        "id": "Cx5ItCwI_1o5"
      },
      "source": [
        "Query 3: What are the effective treatments or solutions for addressing sudden patchy hair loss, commonly seen as localized bald spots on the scalp, and what could be the possible causes behind it?"
      ]
    },
    {
      "cell_type": "code",
      "source": [
        "query = \"What are the effective treatments or solutions for addressing sudden patchy hair loss, commonly seen as localized bald spots on the scalp, and what could be the possible causes behind it?\"\n",
        "print(generate_rag_response(query))"
      ],
      "metadata": {
        "id": "ft0IwfZ5D_1i",
        "colab": {
          "base_uri": "https://localhost:8080/"
        },
        "outputId": "4640302d-a039-4cd2-af45-de2fa00a883a"
      },
      "execution_count": 68,
      "outputs": [
        {
          "output_type": "stream",
          "name": "stderr",
          "text": [
            "Llama.generate: prefix-match hit\n"
          ]
        },
        {
          "output_type": "stream",
          "name": "stdout",
          "text": [
            "Answer: The condition you're referring to is called alopecia areata. It presents with sudden, patchy hair loss in people without any obvious skin or systemic disorders. The most frequently affected areas are the scalp and beard. In severe cases, all body hair may be involved (alopecia universalis). Alopecia areata is believed to be an autoimmune disorder affecting genetically susceptible individuals exposed to unclear environmental triggers.\n",
            "\n",
            "The diagnosis of alopecia areata is typically made based on the clinical presentation. However, microscopic hair examination or scal\n"
          ]
        }
      ]
    },
    {
      "cell_type": "code",
      "execution_count": 69,
      "metadata": {
        "id": "cgXZfxMVD_1j",
        "colab": {
          "base_uri": "https://localhost:8080/"
        },
        "outputId": "21e81524-ae3d-43a6-ebc7-08265c786938"
      },
      "outputs": [
        {
          "output_type": "stream",
          "name": "stderr",
          "text": [
            "Llama.generate: prefix-match hit\n"
          ]
        },
        {
          "output_type": "stream",
          "name": "stdout",
          "text": [
            "Answer: The condition you're referring to is called alopecia areata. It presents with sudden, patchy hair loss in people without any obvious skin or systemic disorders. The most frequently affected areas are the scalp and beard. In severe cases, all body hair may be involved (alopecia universalis). Alopecia areata is believed to be an autoimmune disorder affecting genetically susceptible individuals exposed to unclear environmental triggers.\n",
            "\n",
            "The diagnosis of alopecia areata is typically made based on the clinical presentation. However, microscopic hair examination or scalp biopsy may be required for definitive diagnosis. Scalp biopsy can differentiate scarring from nonscarring forms and help identify underlying conditions like lupus erythematosus, lichen planopilaris, or systemic sclerosis.\n",
            "\n",
            "The treatment options for alopecia areata include:\n",
            "\n",
            "1. Topical corticosteroids: These medications can be applied directly to the affected area to reduce inflammation and promote hair regrowth.\n",
            "2. Minoxidil: A medication that prolongs the anagen growth phase and enlarges miniaturized follicles, promoting hair growth. It is available as a 2% solution for women and a 2% or 5% solution for men.\n",
            "3. Topical immunotherapy: This involves the use of contact sensitizers like diphencyprone or squaric acid dibutylester to stimulate an immune response, which can promote hair regrowth in some cases.\n",
            "4. Systemic corticosteroids: In severe cases, oral corticosteroids may be prescribed to suppress the immune system and promote hair growth.\n",
            "5. Other treatments: Psoralen plus ultraviolet A (PUVA), anthralin, or JAK inhibitors may also be considered in certain cases.\n",
            "\n",
            "It's important to note that treatment response varies from person to person, and not all treatments work for everyone. Additionally, some treatments may have side effects, so it's crucial to discuss the risks and benefits with a healthcare professional before starting any treatment.\n",
            "\n",
            "In terms of preventing alopecia areata, there is no proven way to do so. However, maintaining a healthy lifestyle, managing stress, and avoiding tight\n"
          ]
        }
      ],
      "source": [
        "print(generate_rag_response(query,max_tokens=500))\n"
      ]
    },
    {
      "cell_type": "code",
      "source": [
        "print(generate_rag_response(query,max_tokens=800))"
      ],
      "metadata": {
        "colab": {
          "base_uri": "https://localhost:8080/"
        },
        "id": "ID--ClW1Wy8D",
        "outputId": "98838888-1f06-46d5-f1ec-a8333c99f6e0"
      },
      "execution_count": 70,
      "outputs": [
        {
          "output_type": "stream",
          "name": "stderr",
          "text": [
            "Llama.generate: prefix-match hit\n"
          ]
        },
        {
          "output_type": "stream",
          "name": "stdout",
          "text": [
            "Answer: The condition you're referring to is called alopecia areata. It presents with sudden, patchy hair loss in people without any obvious skin or systemic disorders. The most frequently affected areas are the scalp and beard. In severe cases, all body hair may be involved (alopecia universalis). Alopecia areata is believed to be an autoimmune disorder affecting genetically susceptible individuals exposed to unclear environmental triggers.\n",
            "\n",
            "The diagnosis of alopecia areata is typically made based on the clinical presentation. However, microscopic hair examination or scalp biopsy may be required for definitive diagnosis. Scalp biopsy can differentiate scarring from nonscarring forms and help identify underlying conditions like lupus erythematosus, lichen planopilaris, or systemic sclerosis.\n",
            "\n",
            "The treatment options for alopecia areata include:\n",
            "\n",
            "1. Topical corticosteroids: These medications can be applied directly to the affected area to reduce inflammation and promote hair regrowth.\n",
            "2. Minoxidil: A medication that prolongs the anagen growth phase and enlarges miniaturized follicles, promoting hair growth. It is available as a 2% solution for women and a 2% or 5% solution for men.\n",
            "3. Topical immunotherapy: This involves the use of contact sensitizers like diphencyprone or squaric acid dibutylester to stimulate an immune response, which can promote hair regrowth in some cases.\n",
            "4. Systemic corticosteroids: In severe cases, oral corticosteroids may be prescribed to suppress the immune system and promote hair growth.\n",
            "5. Other treatments: Psoralen plus ultraviolet A (PUVA), anthralin, or JAK inhibitors may also be considered in certain cases.\n",
            "\n",
            "It's important to note that treatment response varies from person to person, and not all treatments work for everyone. Additionally, some treatments may have side effects, so it's crucial to discuss the risks and benefits with a healthcare professional before starting any treatment.\n",
            "\n",
            "In terms of preventing alopecia areata, there is no proven way to do so. However, maintaining a healthy lifestyle, managing stress, and avoiding tight hairstyles or excessive pulling on the hair can help reduce the risk of developing this condition. If you have concerns about sudden patchy hair loss or other hair-related issues, it's always best to consult with a healthcare professional for an accurate diagnosis and personalized treatment plan.\n"
          ]
        }
      ]
    },
    {
      "cell_type": "code",
      "source": [
        "print(generate_rag_response(query,k=10, max_tokens=800))"
      ],
      "metadata": {
        "id": "Fqy2W8NiD_1i",
        "colab": {
          "base_uri": "https://localhost:8080/"
        },
        "outputId": "cf27fd2b-a5a6-488c-f047-6c75a3ab3b32"
      },
      "execution_count": 71,
      "outputs": [
        {
          "output_type": "stream",
          "name": "stderr",
          "text": [
            "Llama.generate: prefix-match hit\n"
          ]
        },
        {
          "output_type": "stream",
          "name": "stdout",
          "text": [
            "Answer: The condition you're referring to is called alopecia areata. It presents with sudden, patchy hair loss in people without any obvious skin or systemic disorders. The most frequently affected areas are the scalp and beard. In severe cases, all body hair may be involved (alopecia universalis). Alopecia areata is believed to be an autoimmune disorder affecting genetically susceptible individuals exposed to unclear environmental triggers.\n",
            "\n",
            "The diagnosis of alopecia areata is typically made based on the clinical presentation. However, microscopic hair examination or scalp biopsy may be required for definitive diagnosis. Scalp biopsy can differentiate scarring from nonscarring forms and help identify underlying conditions like lupus erythematosus, lichen planopilaris, or systemic sclerosis.\n",
            "\n",
            "The treatment options for alopecia areata include:\n",
            "\n",
            "1. Topical corticosteroids: These medications can be applied directly to the affected area to reduce inflammation and promote hair regrowth.\n",
            "2. Minoxidil: A medication that prolongs the anagen growth phase and enlarges miniaturized follicles, promoting hair growth. It is available as a 2% solution for women and a 2% or 5% solution for men.\n",
            "3. Topical immunotherapy: This involves the use of contact sensitizers like diphencyprone or squaric acid dibutylester to stimulate an immune response, which can promote hair regrowth in some cases.\n",
            "4. Systemic corticosteroids: In severe cases, oral corticosteroids may be prescribed to suppress the immune system and promote hair growth.\n",
            "5. Other treatments: Psoralen plus ultraviolet A (PUVA), anthralin, or JAK inhibitors may also be considered in certain cases.\n",
            "\n",
            "It's important to note that treatment response varies from person to person, and not all treatments work for everyone. Additionally, some treatments may have side effects, so it's crucial to discuss the risks and benefits with a healthcare professional before starting any treatment.\n",
            "\n",
            "In terms of preventing alopecia areata, there is no proven way to do so. However, maintaining a healthy lifestyle, managing stress, and avoiding tight hairstyles or excessive pulling on the hair can help reduce the risk of developing this condition. If you have concerns about sudden patchy hair loss or other hair-related issues, it's always best to consult with a healthcare professional for an accurate diagnosis and personalized treatment plan.\n"
          ]
        }
      ]
    },
    {
      "cell_type": "code",
      "source": [
        "print(generate_rag_response(query,temperature=.5, max_tokens=800))"
      ],
      "metadata": {
        "id": "1ehUrmTiD_1j",
        "colab": {
          "base_uri": "https://localhost:8080/"
        },
        "outputId": "91d79807-a236-4e7d-ac30-0e6816f7aa30"
      },
      "execution_count": 72,
      "outputs": [
        {
          "output_type": "stream",
          "name": "stderr",
          "text": [
            "Llama.generate: prefix-match hit\n"
          ]
        },
        {
          "output_type": "stream",
          "name": "stdout",
          "text": [
            "Answer: The condition you're referring to is called alopecia areata. It presents with sudden, patchy hair loss in otherwise healthy individuals. The exact cause of alopecia areata remains unclear, but it's believed to be an autoimmune disorder affecting genetically susceptible people exposed to unknown environmental triggers.\n",
            "\n",
            "The treatment options for alopecia areata include:\n",
            "\n",
            "1. Topical treatments: Minoxidil 2% or 5%, applied once daily to the affected area, can help stimulate hair regrowth in some cases. However, it may take several months before any improvement is noticeable.\n",
            "\n",
            "2. Intralesional corticosteroid injections: These are typically administered every 4-6 weeks and can promote hair re-growth by reducing inflammation around the affected follicles. The response to treatment varies greatly from person to person, and side effects include skin atrophy, telangiectasia, and localized infections.\n",
            "\n",
            "3. Topical immunotherapies: Diphencyprone or squaric acid dibutylester can be used to stimulate an immune reaction that helps promote hair regrowth. This treatment requires regular application for several months before any significant improvement is observed.\n",
            "\n",
            "4. Systemic corticosteroids: These are typically reserved for severe cases of alopecia areata, especially when large areas of the scalp or the entire body are affected (alopecia universalis). Oral corticosteroids can help promote hair regrowth by suppressing the immune response that damages the follicles.\n",
            "\n",
            "5. Other treatments: In some cases, alternative therapies like acupuncture, herbal remedies, and nutritional supplements may be helpful in promoting hair growth. However, there is limited scientific evidence supporting their efficacy, and their safety and effectiveness should be carefully evaluated before use.\n",
            "\n",
            "It's important to note that the success of these treatments varies greatly from person to person, and some individuals may not respond to any treatment at all. In such cases, supportive measures like wigs or hairpieces can help improve the appearance and boost self-confidence until a more effective treatment becomes available.\n",
            "\n",
            "It's also essential to rule out other possible causes of sudden patchy hair loss, such as fungal infections (tinea capitis), hormonal imbalances, medications, or nutritional deficiencies. A thorough medical evaluation, including laboratory tests and scalp biopsies if necessary, may be required to determine the underlying cause and guide appropriate treatment.\n"
          ]
        }
      ]
    },
    {
      "cell_type": "code",
      "source": [
        "print(generate_rag_response(query,top_p=0.80, max_tokens=800))"
      ],
      "metadata": {
        "id": "BJw1-I8mD_1j",
        "colab": {
          "base_uri": "https://localhost:8080/"
        },
        "outputId": "f256ccb5-abf4-4da5-b1ae-4f17d5fb2e41"
      },
      "execution_count": 73,
      "outputs": [
        {
          "output_type": "stream",
          "name": "stderr",
          "text": [
            "Llama.generate: prefix-match hit\n"
          ]
        },
        {
          "output_type": "stream",
          "name": "stdout",
          "text": [
            "Answer: The condition you're referring to is called alopecia areata. It presents with sudden, patchy hair loss in people without any obvious skin or systemic disorders. The most frequently affected areas are the scalp and beard. In severe cases, all body hair may be involved (alopecia universalis). Alopecia areata is believed to be an autoimmune disorder affecting genetically susceptible individuals exposed to unclear environmental triggers.\n",
            "\n",
            "The diagnosis of alopecia areata is typically made based on the clinical presentation. However, microscopic hair examination or scalp biopsy may be required for definitive diagnosis. Scalp biopsy can differentiate scarring from nonscarring forms and help identify underlying conditions like lupus erythematosus, lichen planopilaris, or systemic sclerosis.\n",
            "\n",
            "The treatment options for alopecia areata include:\n",
            "\n",
            "1. Topical corticosteroids: These medications can be applied directly to the affected area to reduce inflammation and promote hair regrowth.\n",
            "2. Minoxidil: A medication that prolongs the anagen growth phase and enlarges miniaturized follicles, promoting hair growth. It is available as a 2% solution for women and a 2% or 5% solution for men.\n",
            "3. Topical immunotherapy: This involves the use of contact sensitizers like diphencyprone or squaric acid dibutylester to stimulate an immune response, which can promote hair regrowth in some cases.\n",
            "4. Systemic corticosteroids: In severe cases, oral corticosteroids may be prescribed to suppress the immune system and promote hair growth.\n",
            "5. Other treatments: Psoralen plus ultraviolet A (PUVA), anthralin, or JAK inhibitors may also be considered in certain cases.\n",
            "\n",
            "It's important to note that treatment response varies from person to person, and not all treatments work for everyone. Additionally, some treatments may have side effects, so it's crucial to discuss the risks and benefits with a healthcare professional before starting any treatment.\n",
            "\n",
            "In terms of preventing alopecia areata, there is no proven way to do so. However, maintaining a healthy lifestyle, managing stress, and avoiding tight hairstyles or excessive pulling on the hair can help reduce the risk of developing this condition. If you have concerns about sudden patchy hair loss or other hair-related issues, it's always best to consult with a healthcare professional for an accurate diagnosis and personalized treatment plan.\n"
          ]
        }
      ]
    },
    {
      "cell_type": "code",
      "source": [
        "print(generate_rag_response(query,top_k=100, max_tokens=800))"
      ],
      "metadata": {
        "id": "gpPe5FXcD_1j",
        "colab": {
          "base_uri": "https://localhost:8080/"
        },
        "outputId": "669452c1-901d-4ff0-b51b-ecda90aa5d9b"
      },
      "execution_count": 74,
      "outputs": [
        {
          "output_type": "stream",
          "name": "stderr",
          "text": [
            "Llama.generate: prefix-match hit\n"
          ]
        },
        {
          "output_type": "stream",
          "name": "stdout",
          "text": [
            "Answer: The condition you're referring to is called alopecia areata. It presents with sudden, patchy hair loss in people without any obvious skin or systemic disorders. The most frequently affected areas are the scalp and beard. In severe cases, all body hair may be involved (alopecia universalis). Alopecia areata is believed to be an autoimmune disorder affecting genetically susceptible individuals exposed to unclear environmental triggers.\n",
            "\n",
            "The diagnosis of alopecia areata is typically made based on the clinical presentation. However, microscopic hair examination or scalp biopsy may be required for definitive diagnosis. Scalp biopsy can differentiate scarring from nonscarring forms and help identify underlying conditions like lupus erythematosus, lichen planopilaris, or systemic sclerosis.\n",
            "\n",
            "The treatment options for alopecia areata include:\n",
            "\n",
            "1. Topical corticosteroids: These medications can be applied directly to the affected area to reduce inflammation and promote hair regrowth.\n",
            "2. Minoxidil: A medication that prolongs the anagen growth phase and enlarges miniaturized follicles, promoting hair growth. It is available as a 2% solution for women and a 2% or 5% solution for men.\n",
            "3. Topical immunotherapy: This involves the use of contact sensitizers like diphencyprone or squaric acid dibutylester to stimulate an immune response, which can promote hair regrowth in some cases.\n",
            "4. Systemic corticosteroids: In severe cases, oral corticosteroids may be prescribed to suppress the immune system and promote hair growth.\n",
            "5. Other treatments: Psoralen plus ultraviolet A (PUVA), anthralin, or JAK inhibitors may also be considered in certain cases.\n",
            "\n",
            "It's important to note that treatment response varies from person to person, and not all treatments work for everyone. Additionally, some treatments may have side effects, so it's crucial to discuss the risks and benefits with a healthcare professional before starting any treatment.\n",
            "\n",
            "In terms of preventing alopecia areata, there is no proven way to do so. However, maintaining a healthy lifestyle, managing stress, and avoiding tight hairstyles or excessive pulling on the hair can help reduce the risk of developing this condition. If you have concerns about sudden patchy hair loss or other hair-related issues, it's always best to consult with a healthcare professional for an accurate diagnosis and personalized treatment plan.\n"
          ]
        }
      ]
    },
    {
      "cell_type": "code",
      "source": [
        "print(generate_rag_response(query,k=10, max_tokens=800, temperature=.1, top_p=.5, top_k=50))"
      ],
      "metadata": {
        "colab": {
          "base_uri": "https://localhost:8080/"
        },
        "id": "n1FZHHc2SfUY",
        "outputId": "292fdcfa-c916-463e-9006-491ada61acc8"
      },
      "execution_count": 75,
      "outputs": [
        {
          "output_type": "stream",
          "name": "stderr",
          "text": [
            "Llama.generate: prefix-match hit\n"
          ]
        },
        {
          "output_type": "stream",
          "name": "stdout",
          "text": [
            "Answer: The condition you're referring to is called alopecia areata. It presents with sudden, patchy hair loss in people without any obvious skin or systemic disorders. The most frequently affected areas are the scalp and beard. In severe cases, all body hair may be involved (alopecia universalis). Alopecia areata is considered an autoimmune disorder that affects genetically susceptible individuals exposed to unclear environmental triggers.\n",
            "\n",
            "The diagnosis of alopecia areata is typically made based on the clinical presentation. However, microscopic hair examination or scalp biopsy may be required for definitive diagnosis. Scalp biopsy can differentiate scarring from nonscarring forms and help identify underlying conditions like lupus erythematosus, lichen planopilaris, or systemic sclerosis.\n",
            "\n",
            "The treatment options for alopecia areata include:\n",
            "\n",
            "1. Topical corticosteroids: These medications can be applied directly to the affected area to reduce inflammation and promote hair regrowth.\n",
            "2. Minoxidil: A medication that prolongs the anagen growth phase and enlarges miniaturized follicles, promoting hair growth. It is available as a 2% solution for women and a 2% or 5% solution for men.\n",
            "3. Topical immunotherapy: This involves the use of contact sensitizers like diphencyprone or squaric acid dibutylester to stimulate an immune response that promotes hair regrowth.\n",
            "4. Systemic corticosteroids: In severe cases, oral corticosteroids may be prescribed to suppress the immune system and promote hair growth.\n",
            "5. JAK inhibitors: Newer treatments like baricitinib or tofacitinib have shown promise in promoting hair regrowth in alopecia areata.\n",
            "6. Hair transplantation: In some cases, surgical options like follicle transplant, scalp flaps, and alopecia reduction may be considered for severe hair loss.\n",
            "\n",
            "It's important to note that the effectiveness of these treatments varies from person to person, and some may have side effects or risks. Consulting a healthcare professional is recommended for proper evaluation and treatment planning.\n",
            "\n",
            "In terms of possible causes, as mentioned earlier, alopecia areata is thought to be an autoimmune disorder affecting genetically susceptible individuals exposed to unclear environmental triggers. Other potential causes include certain medications (such as chemotherapeutic agents), infections, or stress. A thorough medical history and examination can help determine the underlying cause.\n"
          ]
        }
      ]
    },
    {
      "cell_type": "markdown",
      "source": [
        "### Observation\n",
        "* Initial response of the query with default parameters clearly is truncated.\n",
        "* Increasing max token = 500 doesn't covers the response. So, we increase it to 800\n",
        "* increasing temperature increases the creativity,\n",
        "* increasing k/top_k/decreasing top_p gives almost the same response as as only max_tokens = 800.\n",
        "* Combining k=10, max_tokens=800, temperature=.1, top_p=.5, top_k=50 results almost give the better sumerised response.\n",
        "* As it is important to recommend to accurate, concise and human safe treatment plan and diagnosis, we choose k=10, max_tokens=800, temperature=.1, top_p=.5, top_k=50."
      ],
      "metadata": {
        "id": "aoInLVETUgNn"
      }
    },
    {
      "cell_type": "markdown",
      "metadata": {
        "id": "5tzQ7Acy_8Xt"
      },
      "source": [
        "Query 4: What treatments are recommended for a person who has sustained a physical injury to brain tissue, resulting in temporary or permanent impairment of brain function?"
      ]
    },
    {
      "cell_type": "code",
      "source": [
        "query = \"What treatments are recommended for a person who has sustained a physical injury to brain tissue, resulting in temporary or permanent impairment of brain function?\"\n",
        "print(generate_rag_response(query))"
      ],
      "metadata": {
        "id": "OS6S9tiMECvw",
        "colab": {
          "base_uri": "https://localhost:8080/"
        },
        "outputId": "f27a5e59-2ede-4d73-b34f-13b71980839d"
      },
      "execution_count": 76,
      "outputs": [
        {
          "output_type": "stream",
          "name": "stderr",
          "text": [
            "Llama.generate: prefix-match hit\n"
          ]
        },
        {
          "output_type": "stream",
          "name": "stdout",
          "text": [
            "Answer: For a person with a brain injury leading to temporary or permanent impairment of brain function, the primary focus is on supportive care. This includes preventing systemic complications such as pneumonia, urinary tract infections (UTIs), and thromboembolic disease; providing good nutrition; and preventing pressure ulcers. Additionally, physical therapy may be necessary to prevent limb contractures.\n",
            "\n",
            "In cases of traumatic brain injury, posttraumatic seizures may occur, and drugs are given to prevent seizures during the first week if there is significant structural injury or a Glasgow Com\n"
          ]
        }
      ]
    },
    {
      "cell_type": "code",
      "execution_count": 77,
      "metadata": {
        "id": "LAbDtbOZECvx",
        "colab": {
          "base_uri": "https://localhost:8080/"
        },
        "outputId": "47ccdff4-f0ea-4b1c-bcb9-127da23777e4"
      },
      "outputs": [
        {
          "output_type": "stream",
          "name": "stderr",
          "text": [
            "Llama.generate: prefix-match hit\n"
          ]
        },
        {
          "output_type": "stream",
          "name": "stdout",
          "text": [
            "Answer: For individuals with a brain injury leading to temporary or permanent impairment of brain function, supportive care is the primary treatment approach. This includes preventing systemic complications such as pneumonia, urinary tract infections (UTIs), and thromboembolic diseases; providing good nutrition; and preventing pressure ulcers. Additionally, physical therapy can help prevent limb contractures.\n",
            "\n",
            "In cases of traumatic brain injury, posttraumatic seizures may occur, and drugs are given to prevent seizures during the first week if there is significant structural injury or a Glasgow Coma Scale (GCS) score below 10. However, these drugs do not prevent permanent posttraumatic epilepsy months or years later. If seizures begin more than one week after head injury, long-term treatment with drugs is required.\n",
            "\n",
            "The principles of long-term treatment involve finding the right drug or combination of drugs that effectively controls seizures while minimizing adverse effects. Some drugs reach therapeutic levels quickly, while others require gradual dosage increases over several weeks. The appropriate dose depends on the patient's tolerance and response to the medication.\n",
            "\n",
            "For larger lesions, rapidly developing lesions, or lesions affecting both hemispheres, there is a higher likelihood of becoming symptomatic. Focal lesions in white matter can cause disconnection syndromes, which affect coordinated activity between brain regions. Global dysfunction can result from toxic-metabolic disorders, major trauma, or disseminated cancer and may require specialized treatment approaches.\n",
            "\n",
            "Recovery from brain injury depends on the plasticity of the remaining cerebrum, which varies from person to person and is affected by age and overall health. Plasticity is most prominent in the developing brain. Specific syndromes such as agnosia, amnesia, aphasia, and apraxia can result from brain injury and may require occupational therapy for compensation.\n",
            "\n",
            "Diagnosis of brain injuries typically involves clinical assessment, often with neuropsychologic testing, laboratory tests (blood and CSF analysis), and brain imaging (structural or functional). Treatment options depend on the nature and extent of damage, patient age, and individual response to therapy. In some cases, referral to an epilepsy center for surgery may be necessary if seizures are intractable\n"
          ]
        }
      ],
      "source": [
        "print(generate_rag_response(query,max_tokens=500))\n"
      ]
    },
    {
      "cell_type": "code",
      "source": [
        "print(generate_rag_response(query,max_tokens=800))\n"
      ],
      "metadata": {
        "colab": {
          "base_uri": "https://localhost:8080/"
        },
        "id": "EvJfzzS4Xoxg",
        "outputId": "a02e0bbc-10d5-43fa-ccd2-55e42b1f0a0a"
      },
      "execution_count": 78,
      "outputs": [
        {
          "output_type": "stream",
          "name": "stderr",
          "text": [
            "Llama.generate: prefix-match hit\n"
          ]
        },
        {
          "output_type": "stream",
          "name": "stdout",
          "text": [
            "Answer: For individuals with a brain injury leading to temporary or permanent impairment of brain function, supportive care is the primary treatment approach. This includes preventing systemic complications such as pneumonia, urinary tract infections (UTIs), and thromboembolic diseases; providing good nutrition; and preventing pressure ulcers. Additionally, physical therapy can help prevent limb contractures.\n",
            "\n",
            "In cases of traumatic brain injury, posttraumatic seizures may occur, and drugs are given to prevent seizures during the first week if there is significant structural injury or a Glasgow Coma Scale (GCS) score below 10. However, these drugs do not prevent permanent posttraumatic epilepsy months or years later. If seizures begin more than one week after head injury, long-term treatment with drugs is required.\n",
            "\n",
            "The principles of long-term treatment involve finding the right drug or combination of drugs that effectively controls seizures while minimizing adverse effects. Some drugs reach therapeutic levels quickly, while others require gradual dosage increases over several weeks. The appropriate dose depends on the patient's tolerance and response to the medication.\n",
            "\n",
            "For larger lesions, rapidly developing lesions, or lesions affecting both hemispheres, there is a higher likelihood of becoming symptomatic. Focal lesions in white matter can cause disconnection syndromes, which affect coordinated activity between brain regions. Global dysfunction can result from toxic-metabolic disorders, major trauma, or disseminated cancer and may require specialized treatment approaches.\n",
            "\n",
            "Recovery from brain injury depends on the plasticity of the remaining cerebrum, which varies from person to person and is affected by age and overall health. Plasticity is most prominent in the developing brain. Specific syndromes such as agnosia, amnesia, aphasia, and apraxia can result from brain injury and may require occupational therapy for compensation.\n",
            "\n",
            "Diagnosis of brain injuries typically involves clinical assessment, often with neuropsychologic testing, laboratory tests (blood and CSF analysis), and brain imaging (structural or functional). Treatment options depend on the nature and extent of damage, patient age, and individual response to therapy. In some cases, referral to an epilepsy center for surgery may be necessary if seizures are intractable.\n"
          ]
        }
      ]
    },
    {
      "cell_type": "code",
      "source": [
        "print(generate_rag_response(query,k=10, max_tokens=800))"
      ],
      "metadata": {
        "id": "bWyi4Wt6ECvx",
        "colab": {
          "base_uri": "https://localhost:8080/"
        },
        "outputId": "9a1ad399-8de8-43f1-b8b1-070d83b07b38"
      },
      "execution_count": 79,
      "outputs": [
        {
          "output_type": "stream",
          "name": "stderr",
          "text": [
            "Llama.generate: prefix-match hit\n"
          ]
        },
        {
          "output_type": "stream",
          "name": "stdout",
          "text": [
            "Answer: For individuals with a brain injury leading to temporary or permanent impairment of brain function, supportive care is the primary treatment approach. This includes preventing systemic complications such as pneumonia, urinary tract infections (UTIs), and thromboembolic diseases; providing good nutrition; and preventing pressure ulcers. Additionally, physical therapy can help prevent limb contractures.\n",
            "\n",
            "In cases of traumatic brain injury, posttraumatic seizures may occur, and drugs are given to prevent seizures during the first week if there is significant structural injury or a Glasgow Coma Scale (GCS) score below 10. However, these drugs do not prevent permanent posttraumatic epilepsy months or years later. If seizures begin more than one week after head injury, long-term treatment with drugs is required.\n",
            "\n",
            "The principles of long-term treatment involve finding the right drug or combination of drugs that effectively controls seizures while minimizing adverse effects. Some drugs reach therapeutic levels quickly, while others require gradual dosage increases over several weeks. The appropriate dose depends on the patient's tolerance and response to the medication.\n",
            "\n",
            "For larger lesions, rapidly developing lesions, or lesions affecting both hemispheres, there is a higher likelihood of becoming symptomatic. Focal lesions in white matter can cause disconnection syndromes, which affect coordinated activity between brain regions. Global dysfunction can result from toxic-metabolic disorders, major trauma, or disseminated cancer and may require specialized treatment approaches.\n",
            "\n",
            "Recovery from brain injury depends on the plasticity of the remaining cerebrum, which varies from person to person and is affected by age and overall health. Plasticity is most prominent in the developing brain. Specific syndromes such as agnosia, amnesia, aphasia, and apraxia can result from brain injury and may require occupational therapy for compensation.\n",
            "\n",
            "Diagnosis of brain injuries typically involves clinical assessment, often with neuropsychologic testing, laboratory tests (blood and CSF analysis), and brain imaging (structural or functional). Treatment options depend on the nature and extent of damage, patient age, and individual response to therapy. In some cases, referral to an epilepsy center for surgery may be necessary if seizures are intractable.\n"
          ]
        }
      ]
    },
    {
      "cell_type": "code",
      "source": [
        "print(generate_rag_response(query,temperature=.5, max_tokens=800))"
      ],
      "metadata": {
        "id": "uRhkovkCECvx",
        "colab": {
          "base_uri": "https://localhost:8080/"
        },
        "outputId": "91e4ced2-edbf-4c62-f845-3a364dab0fae"
      },
      "execution_count": 80,
      "outputs": [
        {
          "output_type": "stream",
          "name": "stderr",
          "text": [
            "Llama.generate: prefix-match hit\n"
          ]
        },
        {
          "output_type": "stream",
          "name": "stdout",
          "text": [
            "Answer: The treatment for a person with a brain injury primarily involves supportive care to prevent complications and promote recovery. This includes:\n",
            "\n",
            "1. Preventing systemic complications due to immobilization such as pneumonia, UTI, and thromboembolic disease.\n",
            "2. Providing good nutrition.\n",
            "3. Preventing pressure ulcers.\n",
            "4. Providing physical therapy to prevent limb contractures.\n",
            "5. Managing seizures with anticonvulsant medication if necessary.\n",
            "\n",
            "The Merck Manual suggests that for patients in a coma or impaired consciousness state, supportive care is the mainstay of treatment. No specific treatment exists for brain injuries, but addressing potential complications and providing rehabilitation services early can improve outcomes.\n",
            "\n",
            "In cases where there is significant structural injury to the brain or a Glasgow Coma Scale (GCS) score of less than 10, anticonvulsant medication may be given to prevent seizures during the first week after injury. If seizures occur after one week, long-term treatment with drugs is required.\n",
            "\n",
            "When it comes to controlling epileptic seizures, no single drug works for everyone, and different patients may require multiple drugs. The principles of long-term treatment include starting with a single drug, gradually increasing doses if necessary, closely monitoring patients for toxicity or drug interactions, and considering surgery if seizures are intractable.\n",
            "\n",
            "Recovery from brain injury depends on the plasticity of the remaining cerebrum, which varies from person to person and is affected by age and general health. Plasticity is most prominent in the developing brain. Recovery may include gross reorganization of brain function after injury in adults, although this is uncommon.\n",
            "\n",
            "Specific syndromes resulting from brain injuries include agnosia, amnesia, aphasia, and apraxia. Diagnosis typically involves clinical assessment, often with neuropsychologic testing, and imaging studies like CT or MRI to identify the cause. Treatment for these conditions is focused on compensating for the impairments through occupational therapy and other supportive measures.\n",
            "\n",
            "It's important to note that this response is based on information from The Merck Manual of Diagnosis & Therapy, 19th Edition, and should be used as a guideline rather than a definitive source. Individual patient care should always be tailored to their specific needs and circumstances.\n"
          ]
        }
      ]
    },
    {
      "cell_type": "code",
      "source": [
        "print(generate_rag_response(query,top_p=0.80, max_tokens=800))"
      ],
      "metadata": {
        "id": "y7CUivzVECvx",
        "colab": {
          "base_uri": "https://localhost:8080/"
        },
        "outputId": "f735441c-b4f4-4f3e-b851-453473de390a"
      },
      "execution_count": 81,
      "outputs": [
        {
          "output_type": "stream",
          "name": "stderr",
          "text": [
            "Llama.generate: prefix-match hit\n"
          ]
        },
        {
          "output_type": "stream",
          "name": "stdout",
          "text": [
            "Answer: For individuals with a brain injury leading to temporary or permanent impairment of brain function, supportive care is the primary treatment approach. This includes preventing systemic complications such as pneumonia, urinary tract infections (UTIs), and thromboembolic diseases; providing good nutrition; and preventing pressure ulcers. Additionally, physical therapy can help prevent limb contractures.\n",
            "\n",
            "In cases of traumatic brain injury, posttraumatic seizures may occur, and drugs are given to prevent seizures during the first week if there is significant structural injury or a Glasgow Coma Scale (GCS) score below 10. However, these drugs do not prevent permanent posttraumatic epilepsy months or years later. If seizures begin more than one week after head injury, long-term treatment with drugs is required.\n",
            "\n",
            "The principles of long-term treatment involve finding the right drug or combination of drugs that effectively controls seizures while minimizing adverse effects. Some drugs reach therapeutic levels quickly, while others require gradual dosage increases over several weeks. The appropriate dose depends on the patient's tolerance and response to the medication.\n",
            "\n",
            "For larger lesions, rapidly developing lesions, or lesions affecting both hemispheres, there is a higher likelihood of becoming symptomatic. Focal lesions in white matter can cause disconnection syndromes, which affect coordinated activity between brain regions. Global dysfunction can result from toxic-metabolic disorders, major trauma, or disseminated cancer and may require specialized treatment approaches.\n",
            "\n",
            "Recovery from brain injury depends on the plasticity of the remaining cerebrum, which varies from person to person and is affected by age and overall health. Plasticity is most prominent in the developing brain. Specific syndromes such as agnosia, amnesia, aphasia, and apraxia can result from brain injury and may require occupational therapy for compensation.\n",
            "\n",
            "Diagnosis of brain injuries typically involves clinical assessment, often with neuropsychologic testing, laboratory tests (blood and CSF analysis), and brain imaging (structural or functional). Treatment options depend on the nature and extent of damage, patient age, and individual response to therapy. In some cases, referral to an epilepsy center for surgery may be necessary if seizures are intractable.\n"
          ]
        }
      ]
    },
    {
      "cell_type": "code",
      "source": [
        "print(generate_rag_response(query,top_k=100, max_tokens=800))"
      ],
      "metadata": {
        "id": "nEVysz8AECvy",
        "colab": {
          "base_uri": "https://localhost:8080/"
        },
        "outputId": "298c659f-03c5-4e3c-fe55-536b2491f77b"
      },
      "execution_count": 82,
      "outputs": [
        {
          "output_type": "stream",
          "name": "stderr",
          "text": [
            "Llama.generate: prefix-match hit\n"
          ]
        },
        {
          "output_type": "stream",
          "name": "stdout",
          "text": [
            "Answer: For individuals with a brain injury leading to temporary or permanent impairment of brain function, supportive care is the primary treatment approach. This includes preventing systemic complications such as pneumonia, urinary tract infections (UTIs), and thromboembolic diseases; providing good nutrition; and preventing pressure ulcers. Additionally, physical therapy can help prevent limb contractures.\n",
            "\n",
            "In cases of traumatic brain injury, posttraumatic seizures may occur, and drugs are given to prevent seizures during the first week if there is significant structural injury or a Glasgow Coma Scale (GCS) score below 10. However, these drugs do not prevent permanent posttraumatic epilepsy months or years later. If seizures begin more than one week after head injury, long-term treatment with drugs is required.\n",
            "\n",
            "The principles of long-term treatment involve finding the right drug or combination of drugs that effectively controls seizures while minimizing adverse effects. Some drugs reach therapeutic levels quickly, while others require gradual dosage increases over several weeks. The appropriate dose depends on the patient's tolerance and response to the medication.\n",
            "\n",
            "For larger lesions, rapidly developing lesions, or lesions affecting both hemispheres, there is a higher likelihood of becoming symptomatic. Focal lesions in white matter can cause disconnection syndromes, which affect coordinated activity between brain regions. Global dysfunction can result from toxic-metabolic disorders, major trauma, or disseminated cancer and may require specialized treatment approaches.\n",
            "\n",
            "Recovery from brain injury depends on the plasticity of the remaining cerebrum, which varies from person to person and is affected by age and overall health. Plasticity is most prominent in the developing brain. Specific syndromes such as agnosia, amnesia, aphasia, and apraxia can result from brain injury and may require occupational therapy for compensation.\n",
            "\n",
            "Diagnosis of brain injuries typically involves clinical assessment, often with neuropsychologic testing, laboratory tests (blood and CSF analysis), and brain imaging (structural or functional). Treatment options depend on the nature and extent of damage, patient age, and individual response to therapy. In some cases, referral to an epilepsy center for surgery may be necessary if seizures are intractable.\n"
          ]
        }
      ]
    },
    {
      "cell_type": "code",
      "source": [
        "print(generate_rag_response(query,k=10, max_tokens=800, temperature=.1, top_p=.5, top_k=50))"
      ],
      "metadata": {
        "colab": {
          "base_uri": "https://localhost:8080/"
        },
        "id": "-3PqpDRzSi-g",
        "outputId": "f34456fb-8ed3-4c34-e9d5-c4e45beda4b5"
      },
      "execution_count": 83,
      "outputs": [
        {
          "output_type": "stream",
          "name": "stderr",
          "text": [
            "Llama.generate: prefix-match hit\n"
          ]
        },
        {
          "output_type": "stream",
          "name": "stdout",
          "text": [
            "Answer: For individuals with brain injuries leading to temporary or permanent impairments, supportive care is the primary treatment approach. This includes preventing systemic complications such as pneumonia, UTI, and thromboembolic disease; providing good nutrition; and preventing pressure ulcers. In some cases, physical therapy may be necessary to prevent limb contractures.\n",
            "\n",
            "Additionally, for patients with traumatic brain injuries who have significant structural injury or a Glasgow Coma Scale (GCS) score of less than 10, drugs are given to prevent seizures during the first week after injury. These medications reduce the risk of seizures but do not prevent permanent post-traumatic epilepsy months or years later.\n",
            "\n",
            "Long-term treatment for epileptic seizures involves finding the most effective drug or combination of drugs for each patient, as no single drug controls all types of seizures. Some drugs reach therapeutic levels quickly, while others require gradual dosage increases over several weeks. The appropriate dose is the lowest dose that stops all seizures and has the fewest adverse effects.\n",
            "\n",
            "If toxicity develops before seizures are controlled, the dose is reduced to the pretoxicity dose, and another drug is added at a low dose, which is gradually increased until seizures are controlled. Patients should be closely monitored because the two drugs can interact.\n",
            "\n",
            "The likelihood of symptomatic brain injury depends on the size, location, and rate of growth of the lesion. Focal lesions in white matter can cause disconnection syndromes, while global dysfunction is caused by toxic-metabolic disorders or major trauma. Recovery from brain injury depends on the plasticity of the remaining cerebrum, which varies from person to person and is affected by age and general health.\n",
            "\n",
            "Diagnosis of brain injuries is typically clinical, often assisted by neuropsychologic testing, laboratory tests (blood and CSF analysis), and brain imaging (structural or functional). Specific syndromes resulting from brain injury include agnosia, amnesia, aphasia, and apraxia. There is no specific treatment for these conditions, but occupational therapy may help patients compensate.\n",
            "\n",
            "References:\n",
            "The Merck Manual of Diagnosis & Therapy, 19th Edition\n",
            "Chapter 324. Traumatic Brain Injury\n",
            "Chapter 174. Coma & Impaired Consciousness\n",
            "Chapter 174. Cerebral Dysfunction Syndromes\n"
          ]
        }
      ]
    },
    {
      "cell_type": "markdown",
      "source": [
        "### Observation\n",
        "* Initial response of the query with default parameters clearly is truncated.\n",
        "* Increasing max token = 500 doesn't covers the response. So, we increase it to 800\n",
        "* increasing temperature increases the creativity but answer is not informative,\n",
        "* increasing k/top_k/decreasing top_p gives almost the same response as as only max_tokens = 800.\n",
        "* Combining k=10, max_tokens=800, temperature=.1, top_p=.5, top_k=50 results better response.\n",
        "* As it is important to recommend to accurate, concise and human safe treatment plan and diagnosis, we choose k=10, max_tokens=800, temperature=.1, top_p=.5, top_k=50"
      ],
      "metadata": {
        "id": "v5NPJPfeUou_"
      }
    },
    {
      "cell_type": "markdown",
      "metadata": {
        "id": "Q22GrqnV__hx"
      },
      "source": [
        "Query 5: What are the necessary precautions and treatment steps for a person who has fractured their leg during a hiking trip, and what should be considered for their care and recovery?"
      ]
    },
    {
      "cell_type": "code",
      "source": [
        "query = \"What are the necessary precautions and treatment steps for a person who has fractured their leg during a hiking trip, and what should be considered for their care and recovery?\"\n",
        "print(generate_rag_response(query))"
      ],
      "metadata": {
        "id": "XAeud58wEFg8",
        "colab": {
          "base_uri": "https://localhost:8080/"
        },
        "outputId": "1e52c491-1064-4ab8-dcbb-03d723b52fe6"
      },
      "execution_count": 84,
      "outputs": [
        {
          "output_type": "stream",
          "name": "stderr",
          "text": [
            "Llama.generate: prefix-match hit\n"
          ]
        },
        {
          "output_type": "stream",
          "name": "stdout",
          "text": [
            "Answer: A fractured leg is a serious injury that requires prompt medical attention. In the initial assessment, evaluate the patient for signs of hemorrhagic shock due to potential blood loss. If there are symptoms or signs of ischemia (absent pulses, marked pallor, coolness distal to the injury, severe pain), immediate evaluation and treatment for arterial injuries may be necessary.\n",
            "\n",
            "For most fractures, the first steps include immobilizing the affected limb with a splint to prevent further injury and decrease pain. Pain is typically treated with opioids. Definitive\n"
          ]
        }
      ]
    },
    {
      "cell_type": "code",
      "execution_count": 85,
      "metadata": {
        "id": "7Y2ZffiwEFg9",
        "colab": {
          "base_uri": "https://localhost:8080/"
        },
        "outputId": "883cec0c-2503-4d7b-dae6-46e45e04883a"
      },
      "outputs": [
        {
          "output_type": "stream",
          "name": "stderr",
          "text": [
            "Llama.generate: prefix-match hit\n"
          ]
        },
        {
          "output_type": "stream",
          "name": "stdout",
          "text": [
            "Answer: A fractured leg is a serious injury that requires prompt medical attention. In the initial assessment, evaluate the patient for signs of hemorrhagic shock due to potential blood loss. If there are symptoms or signs of ischemia (absent pulses, marked pallor, coolness distal to the injury, severe pain), immediate evaluation and treatment for arterial injuries may be necessary.\n",
            "\n",
            "For most fractures, the first steps include immobilizing the affected limb with a splint to prevent further injury and decrease pain. Pain is typically treated with opioids. Definitive treatment often involves reduction, which can be closed (without skin incision) or open (with skin incision). Closed reductions are maintained by casting, while open reductions require various surgical hardware.\n",
            "\n",
            "RICE (rest, ice, compression, and elevation) is recommended for soft-tissue injuries. Patients should rest to prevent further injury and speed healing, apply ice and compression to minimize swelling and pain, and elevate the injured limb to reduce pressure on the affected area. For patients with a lower-limb prosthesis, maintaining body alignment is crucial to prevent skin breakdown.\n",
            "\n",
            "Rehabilitation usually starts as soon as possible after surgery. The initial goals are to increase strength and prevent atrophy on the unaffected side. Gradual mobilization of the affected limb leads to full ambulation. Speed of rehabilitation depends on the type of surgery done. Full weight bearing may start on the second day after surgery, and ambulation exercises can begin after 4-8 days. Patients are advised to do daily exercises to strengthen trunk muscles and quadriceps of the affected leg.\n",
            "\n",
            "For closed injuries that do not involve blood vessels or nerves, such as fractures, sprains, strains, and tendon tears, complications are least likely. However, patients should be evaluated for signs of compartment syndrome or ischemia.\n",
            "\n",
            "In the case of a hiking trip, it's essential to ensure the patient is not in a life-threatening situation before attempting to move them. If possible, immobilize the fracture with a splint and apply RICE principles while awaiting medical assistance. In remote areas, consider contacting emergency services or seeking help from experienced hikers or guides.\n",
            "\n",
            "Once the patient reaches a healthcare\n"
          ]
        }
      ],
      "source": [
        "print(generate_rag_response(query,max_tokens=500))\n"
      ]
    },
    {
      "cell_type": "code",
      "source": [
        "print(generate_rag_response(query,max_tokens=800))\n"
      ],
      "metadata": {
        "colab": {
          "base_uri": "https://localhost:8080/"
        },
        "id": "DTY858yDZ3RX",
        "outputId": "143df0ac-0953-47c5-cccd-c889a42aaa32"
      },
      "execution_count": 86,
      "outputs": [
        {
          "output_type": "stream",
          "name": "stderr",
          "text": [
            "Llama.generate: prefix-match hit\n"
          ]
        },
        {
          "output_type": "stream",
          "name": "stdout",
          "text": [
            "Answer: A fractured leg is a serious injury that requires prompt medical attention. In the initial assessment, evaluate the patient for signs of hemorrhagic shock due to potential blood loss. If there are symptoms or signs of ischemia (absent pulses, marked pallor, coolness distal to the injury, severe pain), immediate evaluation and treatment for arterial injuries may be necessary.\n",
            "\n",
            "For most fractures, the first steps include immobilizing the affected limb with a splint to prevent further injury and decrease pain. Pain is typically treated with opioids. Definitive treatment often involves reduction, which can be closed (without skin incision) or open (with skin incision). Closed reductions are maintained by casting, while open reductions require various surgical hardware.\n",
            "\n",
            "RICE (rest, ice, compression, and elevation) is recommended for soft-tissue injuries. Patients should rest to prevent further injury and speed healing, apply ice and compression to minimize swelling and pain, and elevate the injured limb to reduce pressure on the affected area. For patients with a lower-limb prosthesis, maintaining body alignment is crucial to prevent skin breakdown.\n",
            "\n",
            "Rehabilitation usually starts as soon as possible after surgery. The initial goals are to increase strength and prevent atrophy on the unaffected side. Gradual mobilization of the affected limb leads to full ambulation. Speed of rehabilitation depends on the type of surgery done. Full weight bearing may start on the second day after surgery, and ambulation exercises can begin after 4-8 days. Patients are advised to do daily exercises to strengthen trunk muscles and quadriceps of the affected leg.\n",
            "\n",
            "For closed injuries that do not involve blood vessels or nerves, such as fractures, sprains, strains, and tendon tears, complications are least likely. However, patients should be evaluated for signs of compartment syndrome or ischemia.\n",
            "\n",
            "In the case of a hiking trip, it's essential to ensure the patient is not in a life-threatening situation before attempting to move them. If possible, immobilize the fracture with a splint and apply RICE principles while awaiting medical assistance. In remote areas, consider contacting emergency services or seeking help from experienced hikers or guides.\n",
            "\n",
            "Once the patient reaches a healthcare facility, follow standard treatment protocols for fractures as outlined above. Proper care and recovery involve addressing any underlying conditions that may affect glucose control in patients with diabetes, ensuring appropriate vaccinations, and considering special populations and settings as needed.\n"
          ]
        }
      ]
    },
    {
      "cell_type": "code",
      "source": [
        "print(generate_rag_response(query,k=10,max_tokens=800))"
      ],
      "metadata": {
        "id": "YBseRwgqEFg9",
        "colab": {
          "base_uri": "https://localhost:8080/"
        },
        "outputId": "04b87c85-9fc5-4981-c185-35bc9c7dd86b"
      },
      "execution_count": 87,
      "outputs": [
        {
          "output_type": "stream",
          "name": "stderr",
          "text": [
            "Llama.generate: prefix-match hit\n"
          ]
        },
        {
          "output_type": "stream",
          "name": "stdout",
          "text": [
            "Answer: A fractured leg is a serious injury that requires prompt medical attention. In the initial assessment, evaluate the patient for signs of hemorrhagic shock due to potential blood loss. If there are symptoms or signs of ischemia (absent pulses, marked pallor, coolness distal to the injury, severe pain), immediate evaluation and treatment for arterial injuries may be necessary.\n",
            "\n",
            "For most fractures, the first steps include immobilizing the affected limb with a splint to prevent further injury and decrease pain. Pain is typically treated with opioids. Definitive treatment often involves reduction, which can be closed (without skin incision) or open (with skin incision). Closed reductions are maintained by casting, while open reductions require various surgical hardware.\n",
            "\n",
            "RICE (rest, ice, compression, and elevation) is recommended for soft-tissue injuries. Patients should rest to prevent further injury and speed healing, apply ice and compression to minimize swelling and pain, and elevate the injured limb to reduce pressure on the affected area. For patients with a lower-limb prosthesis, maintaining body alignment is crucial to prevent skin breakdown.\n",
            "\n",
            "Rehabilitation usually starts as soon as possible after surgery. The initial goals are to increase strength and prevent atrophy on the unaffected side. Gradual mobilization of the affected limb leads to full ambulation. Speed of rehabilitation depends on the type of surgery done. Full weight bearing may start on the second day after surgery, and ambulation exercises can begin after 4-8 days. Patients are advised to do daily exercises to strengthen trunk muscles and quadriceps of the affected leg.\n",
            "\n",
            "For closed injuries that do not involve blood vessels or nerves, such as fractures, sprains, strains, and tendon tears, complications are least likely. However, patients should be evaluated for signs of compartment syndrome or ischemia.\n",
            "\n",
            "In the case of a hiking trip, it's essential to ensure the patient is not in a life-threatening situation before attempting to move them. If possible, immobilize the fracture with a splint and apply RICE principles while awaiting medical assistance. In remote areas, consider contacting emergency services or seeking help from experienced hikers or guides.\n",
            "\n",
            "Once the patient reaches a healthcare facility, follow standard treatment protocols for fractures as outlined above. Proper care and recovery involve addressing any underlying conditions that may affect glucose control in patients with diabetes, ensuring appropriate vaccinations, and considering special populations and settings as needed.\n"
          ]
        }
      ]
    },
    {
      "cell_type": "code",
      "source": [
        "print(generate_rag_response(query,temperature=.5, max_tokens=800))"
      ],
      "metadata": {
        "id": "XT1zzxS0EFg9",
        "colab": {
          "base_uri": "https://localhost:8080/"
        },
        "outputId": "f04bcd2a-ccac-4099-b313-cddaf856d940"
      },
      "execution_count": 88,
      "outputs": [
        {
          "output_type": "stream",
          "name": "stderr",
          "text": [
            "Llama.generate: prefix-match hit\n"
          ]
        },
        {
          "output_type": "stream",
          "name": "stdout",
          "text": [
            "Answer: A leg fracture sustained while hiking requires prompt assessment and appropriate intervention to ensure the best possible outcome. The first priority is to assess for any life-threatening injuries or complications, such as hemorrhagic shock due to significant blood loss. If there are no signs of severe injury or shock, the following steps should be taken:\n",
            "\n",
            "1. Immobilize the injured leg: Use a non-rigid splint or sling to prevent further damage and decrease pain. This initial immobilization will help maintain stability and prevent additional injury while transporting the patient to a healthcare facility.\n",
            "\n",
            "2. Pain management: Administer pain medication as needed, typically opioids, to make the patient comfortable during transportation and initial evaluation.\n",
            "\n",
            "3. Definitive treatment: Depending on the type and severity of the fracture, definitive treatment may include closed or open reduction followed by casting or surgical hardware (e.g., pins, screws, plates). Closed reduction is preferred when possible, as it involves less invasive procedures and has a faster recovery time.\n",
            "\n",
            "4. RICE therapy: Rest, ice, compression, and elevation should be employed for soft tissue injuries, which can help minimize swelling, pain, and promote healing.\n",
            "\n",
            "5. Rehabilitation: Once the fracture has healed, rehabilitation is crucial to restore muscle strength, prevent atrophy on the unaffected side, and improve mobility. This may involve exercises to strengthen trunk muscles, quadriceps, and other affected areas.\n",
            "\n",
            "6. Prosthetic considerations: For individuals with lower-limb prostheses, maintaining a good fit is essential for reducing the risk of skin breakdown. Regular checks by healthcare practitioners and prosthetists are necessary to ensure proper alignment and address any changes in stump size.\n",
            "\n",
            "7. Hip surgery rehabilitation: Following hip fracture surgery, early rehabilitation is crucial to prevent atrophy on the unaffected side and promote full ambulation as soon as possible.\n",
            "\n",
            "In cases where the mechanism of injury suggests potentially severe or multiple injuries, a thorough head-to-toe evaluation is necessary in the emergency department to identify any other life-threatening conditions and provide appropriate resuscitation if required. Additionally, patients with leg fractures should be evaluated for signs of ischemia (absent pulses, marked pallor, coolness distal to the injury, severe pain), as these may indicate arterial injuries that require surgical repair.\n",
            "\n",
            "Throughout the care and recovery process, it's essential to monitor for potential complications such as compartment syndrome or infection. Regular follow-up appointments with healthcare professionals will help ensure appropriate intervention if any issues arise.\n"
          ]
        }
      ]
    },
    {
      "cell_type": "code",
      "source": [
        "print(generate_rag_response(query,top_p=0.80, max_tokens=800))"
      ],
      "metadata": {
        "id": "SzGlujLuEFg9",
        "colab": {
          "base_uri": "https://localhost:8080/"
        },
        "outputId": "95720758-361a-410c-eab8-708762910332"
      },
      "execution_count": 89,
      "outputs": [
        {
          "output_type": "stream",
          "name": "stderr",
          "text": [
            "Llama.generate: prefix-match hit\n"
          ]
        },
        {
          "output_type": "stream",
          "name": "stdout",
          "text": [
            "Answer: A fractured leg is a serious injury that requires prompt medical attention. In the initial assessment, evaluate the patient for signs of hemorrhagic shock due to potential blood loss. If there are symptoms or signs of ischemia (absent pulses, marked pallor, coolness distal to the injury, severe pain), immediate evaluation and treatment for arterial injuries may be necessary.\n",
            "\n",
            "For most fractures, the first steps include immobilizing the affected limb with a splint to prevent further injury and decrease pain. Pain is typically treated with opioids. Definitive treatment often involves reduction, which can be closed (without skin incision) or open (with skin incision). Closed reductions are maintained by casting, while open reductions require various surgical hardware.\n",
            "\n",
            "RICE (rest, ice, compression, and elevation) is recommended for soft-tissue injuries. Patients should rest to prevent further injury and speed healing, apply ice and compression to minimize swelling and pain, and elevate the injured limb to reduce pressure on the affected area. For patients with a lower-limb prosthesis, maintaining body alignment is crucial to prevent skin breakdown.\n",
            "\n",
            "Rehabilitation usually starts as soon as possible after surgery. The initial goals are to increase strength and prevent atrophy on the unaffected side. Gradual mobilization of the affected limb leads to full ambulation. Speed of rehabilitation depends on the type of surgery done. Full weight bearing may start on the second day after surgery, and ambulation exercises can begin after 4-8 days. Patients are advised to do daily exercises to strengthen trunk muscles and quadriceps of the affected leg.\n",
            "\n",
            "For closed injuries that do not involve blood vessels or nerves, such as fractures, sprains, strains, and tendon tears, complications are least likely. However, patients should be evaluated for signs of compartment syndrome or ischemia.\n",
            "\n",
            "In the case of a hiking trip, it's essential to ensure the patient is not in a life-threatening situation before attempting to move them. If possible, immobilize the fracture with a splint and apply RICE principles while awaiting medical assistance. In remote areas, consider contacting emergency services or seeking help from experienced hikers or guides.\n",
            "\n",
            "Once the patient reaches a healthcare facility, follow standard treatment protocols for fractures as outlined above. Proper care and recovery involve addressing any underlying conditions that may affect glucose control in patients with diabetes, ensuring appropriate vaccinations, and considering special populations and settings as needed.\n"
          ]
        }
      ]
    },
    {
      "cell_type": "code",
      "source": [
        "print(generate_rag_response(query,top_k=100, max_tokens=800))"
      ],
      "metadata": {
        "id": "CiR3jLfpEFg-",
        "colab": {
          "base_uri": "https://localhost:8080/"
        },
        "outputId": "57a28ed6-61c5-4273-b47a-104de181ce57"
      },
      "execution_count": 90,
      "outputs": [
        {
          "output_type": "stream",
          "name": "stderr",
          "text": [
            "Llama.generate: prefix-match hit\n"
          ]
        },
        {
          "output_type": "stream",
          "name": "stdout",
          "text": [
            "Answer: A fractured leg is a serious injury that requires prompt medical attention. In the initial assessment, evaluate the patient for signs of hemorrhagic shock due to potential blood loss. If there are symptoms or signs of ischemia (absent pulses, marked pallor, coolness distal to the injury, severe pain), immediate evaluation and treatment for arterial injuries may be necessary.\n",
            "\n",
            "For most fractures, the first steps include immobilizing the affected limb with a splint to prevent further injury and decrease pain. Pain is typically treated with opioids. Definitive treatment often involves reduction, which can be closed (without skin incision) or open (with skin incision). Closed reductions are maintained by casting, while open reductions require various surgical hardware.\n",
            "\n",
            "RICE (rest, ice, compression, and elevation) is recommended for soft-tissue injuries. Patients should rest to prevent further injury and speed healing, apply ice and compression to minimize swelling and pain, and elevate the injured limb to reduce pressure on the affected area. For patients with a lower-limb prosthesis, maintaining body alignment is crucial to prevent skin breakdown.\n",
            "\n",
            "Rehabilitation usually starts as soon as possible after surgery. The initial goals are to increase strength and prevent atrophy on the unaffected side. Gradual mobilization of the affected limb leads to full ambulation. Speed of rehabilitation depends on the type of surgery done. Full weight bearing may start on the second day after surgery, and ambulation exercises can begin after 4-8 days. Patients are advised to do daily exercises to strengthen trunk muscles and quadriceps of the affected leg.\n",
            "\n",
            "For closed injuries that do not involve blood vessels or nerves, such as fractures, sprains, strains, and tendon tears, complications are least likely. However, patients should be evaluated for signs of compartment syndrome or ischemia.\n",
            "\n",
            "In the case of a hiking trip, it's essential to ensure the patient is not in a life-threatening situation before attempting to move them. If possible, immobilize the fracture with a splint and apply RICE principles while awaiting medical assistance. In remote areas, consider contacting emergency services or seeking help from experienced hikers or guides.\n",
            "\n",
            "Once the patient reaches a healthcare facility, follow standard treatment protocols for fractures as outlined above. Proper care and recovery involve addressing any underlying conditions that may affect glucose control in patients with diabetes, ensuring appropriate vaccinations, and considering special populations and settings as needed.\n"
          ]
        }
      ]
    },
    {
      "cell_type": "code",
      "source": [
        "print(generate_rag_response(query,k=10, max_tokens=800, temperature=.1, top_p=.5, top_k=50))"
      ],
      "metadata": {
        "id": "zg9UeYblSmkU",
        "colab": {
          "base_uri": "https://localhost:8080/"
        },
        "outputId": "dd000e9e-70c6-4f6b-fd25-6c20d56c5569"
      },
      "execution_count": 91,
      "outputs": [
        {
          "output_type": "stream",
          "name": "stderr",
          "text": [
            "Llama.generate: prefix-match hit\n"
          ]
        },
        {
          "output_type": "stream",
          "name": "stdout",
          "text": [
            "Answer: A fractured leg is a serious injury that requires prompt medical attention. In the initial assessment, evaluate the patient for signs of hemorrhagic shock due to potential blood loss. If there are symptoms or signs of ischemia (absent pulses, marked pallor, coolness distal to the injury, severe pain), immediate evaluation and treatment for arterial injuries may be necessary.\n",
            "\n",
            "1. Precautions:\n",
            "   a. Immobilize the affected limb using a splint or sling to prevent further injury and decrease pain.\n",
            "   b. Ensure proper alignment of the limb to avoid complications such as flexion contracture or malunion.\n",
            "   c. Provide analgesia or sedation for definitive treatment, which may involve reduction through closed or open methods.\n",
            "   d. Administer RICE (rest, ice, compression, elevation) therapy for soft-tissue injuries.\n",
            "   e. For patients with a lower-limb prosthesis, maintain body alignment and address any issues related to the interface fit.\n",
            "\n",
            "2. Treatment:\n",
            "   a. In the emergency department, focus on stabilizing life-threatening injuries and treating arterial or nerve injuries if present.\n",
            "   b. For most injuries, immobilization with splinting is necessary to prevent further injury and promote healing.\n",
            "   c. Definitive treatment may involve reduction through closed or open methods, depending on the severity of the fracture.\n",
            "   d. Rehabilitation should begin as soon as possible after surgery, focusing on increasing strength and preventing atrophy on the unaffected side.\n",
            "   e. Gradual mobilization of the affected limb is essential for full ambulation.\n",
            "   f. Patients should be taught daily exercises to strengthen trunk muscles and quadriceps of the affected leg.\n",
            "   g. Avoid heavy lifting, stooping, reaching, or jumping during ambulation.\n",
            "\n",
            "3. Considerations:\n",
            "   a. The type and location of the fracture may influence treatment options and recovery time.\n",
            "   b. Comorbidities such as diabetes or age may impact the patient's response to injury and treatment.\n",
            "   c. Proper follow-up care, including regular checkups and physical therapy sessions, is essential for optimal healing and preventing complications.\n",
            "\n",
            "Sources:\n",
            "The Merck Manual of Diagnosis & Therapy, 19th Edition\n",
            "Chapter 323. Fractures, Dislocations & Sprains\n"
          ]
        }
      ]
    },
    {
      "cell_type": "markdown",
      "source": [
        "### Observation\n",
        "* Initial response of the query with default parameters clearly is truncated.\n",
        "* Increasing max token = 500 doesn't covers the response. So, we increase it to 800\n",
        "* increasing temperature increases the creativity but answer is not informative,\n",
        "* increasing k/top_k/decreasing top_p gives almost the same response as as only max_tokens = 800.\n",
        "* Combining k=10, max_tokens=800, temperature=.1, top_p=.5, top_k=50 results the same response.\n",
        "* As it is important to recommend to accurate, concise and human safe treatment plan and diagnosis, we choose k=10, max_tokens=800, temperature=.1, top_p=.5, top_k=50"
      ],
      "metadata": {
        "id": "-PgCsS5qUzsS"
      }
    },
    {
      "cell_type": "markdown",
      "metadata": {
        "id": "yyQrTipNfuBN"
      },
      "source": [
        "## Output Evaluation"
      ]
    },
    {
      "cell_type": "markdown",
      "source": [
        "Let us now use the LLM-as-a-judge method to check the quality of the RAG system on two parameters - retrieval and generation. We illustrate this evaluation based on the answeres generated to the question from the previous section.\n",
        "\n",
        "* We are using the same Mistral model for evaluation, so basically here the llm is rating itself on how well he has performed in the task.\n",
        "\n",
        "* **Groundedness**  - measures how well the generated text (often an answer to a question) is supported by the retrieved information from a knowledge base or external source. It is a measure of faithfulness\n",
        "\n",
        "* **Relevance** - refers to how well the retrieved information from a knowledge base aligns with and directly answers a user's query or fulfills their need."
      ],
      "metadata": {
        "id": "ezfrQFEQ4uws"
      }
    },
    {
      "cell_type": "code",
      "source": [
        "groundedness_rater_system_message = \"\"\"\n",
        "You are acting as an impartial evaluator tasked with judging how well an AI-generated answer adheres to a specific metric. Keep the response brief and to the point and keeping the token count below 1000.\n",
        "Alway rate score between 1 and 5 in \"Score:\"\n",
        "\n",
        "You will be given:\n",
        "1. A question (introduced with ###Question)\n",
        "2. A context used by the AI system to generate the answer (introduced with ###Context)\n",
        "3. The AI-generated answer (introduced with ###Answer)\n",
        "\n",
        "Evaluation Metric:\n",
        "The answer should be derived only from the information presented in the context.\n",
        "\n",
        "Scoring Scale:\n",
        "Score\tDescription\n",
        "1.\tThe metric is not followed at all\n",
        "2.\tThe metric is followed only to a limited extent\n",
        "3.\tThe metric is followed to a good extent\n",
        "4.\tThe metric is mostly followed\n",
        "5.\tThe metric is completely followed\n",
        "\n",
        "Evaluation Instructions:\n",
        "1. Identify the key information provided in the ###Context.\n",
        "2. Compare the ###Answer against the ###Context to determine whether all claims or statements are directly supported.\n",
        "3. ALWAYS Assign a final score between 1 and 5, based on your explanation and the scoring scale in \"Score:\".\n",
        "\n",
        "Explain step by step:\n",
        "1. Which parts of the answer are supported by the context\n",
        "2. Which (if any) are not supported or go beyond the given context\n",
        "3. Determine the overall degree of adherence to the metric.\n",
        "4. ALWAYS Assign a final score between 1 and 5, based on your explanation and the scoring scale in \"Score:\".\n",
        "\"\"\""
      ],
      "metadata": {
        "id": "CKeQrWxh5E8k"
      },
      "execution_count": 92,
      "outputs": []
    },
    {
      "cell_type": "code",
      "source": [
        "relevance_rater_system_message = \"\"\"\n",
        "You are acting as an impartial evaluator tasked with judging how well an AI-generated answer adheres to a specific metric. Keep the response brief and to the point and keeping the token count below 1000.\n",
        "Alway rate score between 1 and 5 in \"Score:\"\n",
        "\n",
        "For each evaluation, you will be given:\n",
        "\n",
        "1. A question starting with ###Question.\n",
        "2. A context used by the AI system to generate the answer, starting with ###Context.\n",
        "3. An AI-generated answer, starting with ###Answer.\n",
        "\n",
        "Evaluation Metric:\n",
        "\n",
        "You will evaluate the AI-generated answer based on Relevance, which measures how well the answer addresses the main aspects of the question, given the context. Keep the response brief and to the point and keeping the token count below 1000. ALWAYS provide the score between 1 and 5.\n",
        "The key points for this evaluation are:\n",
        "\n",
        "1. Does the answer address all important aspects of the question?\n",
        "2. Does the answer avoid including irrelevant or unnecessary information?\n",
        "3. Does the answer align with the key elements from the context provided?\n",
        "\n",
        "Rating Criteria:\n",
        "1: The answer is completely irrelevant to the question and context.\n",
        "2: The answer addresses the question but only partially or with significant gaps in relevance.\n",
        "3: The answer is mostly relevant and covers most aspects of the question but may lack detail or have minor off-topic information.\n",
        "4: The answer is highly relevant and addresses nearly all aspects of the question with minimal irrelevant content.\n",
        "5: The answer is entirely relevant, comprehensive, and fully aligned with both the question and the context.\n",
        "\n",
        "Instructions:\n",
        "Step 1: Analyze the question, context, and AI-generated answer.\n",
        "      - What is the main purpose of the question?\n",
        "      - What are the key details and objectives the context highlights?\n",
        "      - Does the AI answer all those objectives or details?\n",
        "\n",
        "Step 2: Check the relevance of the answer.\n",
        "      - Does the answer fully align with the key details of the context?\n",
        "      - Does it answer the question in a clear and concise manner?\n",
        "      - Are there any irrelevant or superfluous details in the answer?\n",
        "\n",
        "Step 3: Rate the relevance between 1 and 5 according to the rating criteria above.\n",
        "\n",
        "Step 4: Provide a brief explanation of the score you assigned, highlighting how well the answer adheres to the relevance metric.\n",
        "\"\"\""
      ],
      "metadata": {
        "id": "YVLIQN-W5GX1"
      },
      "execution_count": 93,
      "outputs": []
    },
    {
      "cell_type": "code",
      "source": [
        "user_message_template = \"\"\"\n",
        "###Question\n",
        "{question}\n",
        "\n",
        "###Context\n",
        "{context}\n",
        "\n",
        "###Answer\n",
        "{answer}\n",
        "\n",
        "\"Score:\"\n",
        "\"\"\""
      ],
      "metadata": {
        "id": "7KaVKTO-5OSl"
      },
      "execution_count": 94,
      "outputs": []
    },
    {
      "cell_type": "code",
      "source": [
        "def generate_ground_relevance_response_details(user_input,k=3,max_tokens=128,temperature=0,top_p=0.95,top_k=40):\n",
        "    global qna_system_message,qna_user_message_template\n",
        "    # Retrieve relevant document chunks\n",
        "    relevant_document_chunks = retriever.get_relevant_documents(query=user_input,k=3)\n",
        "    context_list = [d.page_content for d in relevant_document_chunks]\n",
        "    context_for_query = \". \".join(context_list)\n",
        "\n",
        "    # Combine user_prompt and system_message to create the prompt\n",
        "    prompt = f\"\"\"[INST]{qna_system_message}\\n\n",
        "                {'user'}: {qna_user_message_template.format(context=context_for_query, question=user_input)}\n",
        "                [/INST]\"\"\"\n",
        "\n",
        "    response = llm(\n",
        "            prompt=prompt,\n",
        "            max_tokens=max_tokens,\n",
        "            temperature=temperature,\n",
        "            top_p=top_p,\n",
        "            top_k=top_k,\n",
        "            stop=['INST'],\n",
        "            echo=False\n",
        "            )\n",
        "\n",
        "    answer =  response[\"choices\"][0][\"text\"]\n",
        "\n",
        "    # Combine user_prompt and system_message to create the prompt\n",
        "    groundedness_prompt = f\"\"\"[INST]{groundedness_rater_system_message}\\n\n",
        "                {'user'}: {user_message_template.format(context=context_for_query, question=user_input, answer=answer)}\n",
        "                [/INST]\"\"\"\n",
        "\n",
        "    # Combine user_prompt and system_message to create the prompt\n",
        "    relevance_prompt = f\"\"\"[INST]{relevance_rater_system_message}\\n\n",
        "                {'user'}: {user_message_template.format(context=context_for_query, question=user_input, answer=answer)}\n",
        "                [/INST]\"\"\"\n",
        "\n",
        "    response_1 = llm(\n",
        "            prompt=groundedness_prompt,\n",
        "            max_tokens=max_tokens,\n",
        "            temperature=temperature,\n",
        "            top_p=top_p,\n",
        "            top_k=top_k,\n",
        "            stop=['INST'],\n",
        "            echo=False\n",
        "            )\n",
        "\n",
        "    response_2 = llm(\n",
        "            prompt=relevance_prompt,\n",
        "            max_tokens=max_tokens,\n",
        "            temperature=temperature,\n",
        "            top_p=top_p,\n",
        "            top_k=top_k,\n",
        "            stop=['INST'],\n",
        "            echo=False\n",
        "            )\n",
        "\n",
        "    return response_1['choices'][0]['text'],response_2['choices'][0]['text']\n"
      ],
      "metadata": {
        "id": "4QfzoOIFJufo"
      },
      "execution_count": 95,
      "outputs": []
    },
    {
      "cell_type": "markdown",
      "source": [
        "### Running a sample, randomized query"
      ],
      "metadata": {
        "id": "PXbGDkLdwsZL"
      }
    },
    {
      "cell_type": "code",
      "execution_count": 96,
      "metadata": {
        "id": "OQ1hJLhI-mgT",
        "colab": {
          "base_uri": "https://localhost:8080/"
        },
        "outputId": "5f051322-2549-49b6-cb8d-c6dbc7b8dd7c"
      },
      "outputs": [
        {
          "output_type": "stream",
          "name": "stderr",
          "text": [
            "Llama.generate: prefix-match hit\n",
            "Llama.generate: prefix-match hit\n",
            "Llama.generate: prefix-match hit\n"
          ]
        },
        {
          "output_type": "stream",
          "name": "stdout",
          "text": [
            "\u001b[1mGrounded:\u001b[0m\n",
            " Score: 5\n",
            "\n",
            "Explanation:\n",
            "The answer adheres to the metric as it is derived solely from the context provided. The context discusses various treatments for kidney stones based on their size, location, and composition. The AI-generated answer summarizes these treatment options accurately without introducing any new or unsupported information.\n",
            "\n",
            "\u001b[1mRelevance:\u001b[0m\n",
            " Score: 5\n",
            "\n",
            "Explanation: The AI-generated answer fully addresses all important aspects of the question regarding kidney stone treatment, including natural passage, interventions like ESWL and endoscopic procedures, medications, pain management, and long-term management strategies. It also avoids irrelevant or unnecessary information and aligns well with the context provided, which\n"
          ]
        }
      ],
      "source": [
        "# We used the tuned parameter k=10, max_tokens=800, temperature=.1, top_p=.5, top_k=50. So setting this as default when we access to the main generate_ground_relevance_response_details function\n",
        "def generate_ground_relevance_response(user_input, k=10, max_tokens=800, temperature=.1, top_p=.5, top_k=50):\n",
        "  ground,rel = generate_ground_relevance_response_details(user_input,k,max_tokens,temperature,top_p,top_k)\n",
        "\n",
        "  BOLD = \"\\033[1m\"\n",
        "  END = \"\\033[0m\"\n",
        "  print(BOLD + \"Grounded:\" + END)\n",
        "  print(ground,end=\"\\n\\n\")\n",
        "  print(BOLD + \"Relevance:\"  + END)\n",
        "  print(rel)\n",
        "\n",
        "\n",
        "generate_ground_relevance_response(user_input=\"What is the treatment of kidney stone?\", k=10, max_tokens=800, temperature=.1, top_p=.5, top_k=50)"
      ]
    },
    {
      "cell_type": "markdown",
      "source": [
        "### Observation\n",
        "\n",
        "* LLM rates 5/5 for groundness and 5/5 for relevance.\n",
        "* It also provide explanation."
      ],
      "metadata": {
        "id": "NE5i7viw0WkV"
      }
    },
    {
      "cell_type": "markdown",
      "metadata": {
        "id": "gy1bXGHD_NZ0"
      },
      "source": [
        "### Query 1: What is the protocol for managing sepsis in a critical care unit?"
      ]
    },
    {
      "cell_type": "code",
      "execution_count": 97,
      "metadata": {
        "id": "8ycuMjL8_NZ0",
        "colab": {
          "base_uri": "https://localhost:8080/"
        },
        "outputId": "0b301696-d548-46e0-ed6c-153e0eedafeb"
      },
      "outputs": [
        {
          "output_type": "stream",
          "name": "stderr",
          "text": [
            "Llama.generate: prefix-match hit\n",
            "Llama.generate: prefix-match hit\n",
            "Llama.generate: prefix-match hit\n"
          ]
        },
        {
          "output_type": "stream",
          "name": "stdout",
          "text": [
            "\u001b[1mGrounded:\u001b[0m\n",
            " Score: 5\n",
            "\n",
            "The answer adheres completely to the metric as it is derived solely from the information provided in the context. The steps outlined in the answer are directly supported by the text, and no additional or unsupported claims are made.\n",
            "\n",
            "\u001b[1mRelevance:\u001b[0m\n",
            " Score: 5\n",
            "\n",
            "Explanation: The AI-generated answer fully addresses the main aspects of the question by outlining the key steps for managing sepsis in a critical care unit based on the context provided. It avoids irrelevant information and aligns with the key elements from the context, making it entirely relevant and comprehensive.\n",
            "None\n"
          ]
        }
      ],
      "source": [
        "print(generate_ground_relevance_response(\"What is the protocol for managing sepsis in a critical care unit?\"))"
      ]
    },
    {
      "cell_type": "markdown",
      "source": [
        "### Observation\n",
        "\n",
        "* LLM rantes 5/5 for groundness and 5/5 for relevance with explanation.\n",
        "* It proves that the contexts are relevant to the query, and the anwer is relevant to query with context."
      ],
      "metadata": {
        "id": "-auY4blM0zoS"
      }
    },
    {
      "cell_type": "markdown",
      "metadata": {
        "id": "lOkWzQmV_NZ1"
      },
      "source": [
        "### Query 2: What are the common symptoms for appendicitis, and can it be cured via medicine? If not, what surgical procedure should be followed to treat it?"
      ]
    },
    {
      "cell_type": "code",
      "execution_count": 98,
      "metadata": {
        "id": "W7attC09_NZ1",
        "colab": {
          "base_uri": "https://localhost:8080/"
        },
        "outputId": "93425811-305b-42a2-c4dc-396228824f65"
      },
      "outputs": [
        {
          "output_type": "stream",
          "name": "stderr",
          "text": [
            "Llama.generate: prefix-match hit\n",
            "Llama.generate: prefix-match hit\n",
            "Llama.generate: prefix-match hit\n"
          ]
        },
        {
          "output_type": "stream",
          "name": "stdout",
          "text": [
            "\u001b[1mGrounded:\u001b[0m\n",
            " Score: 5\n",
            "\n",
            "Explanation:\n",
            "The answer adheres to the metric as it is derived solely from the context provided, accurately summarizing the symptoms, diagnosis, treatment, and limitations of appendicitis. The answer does not introduce any new or unsupported information.\n",
            "\n",
            "\u001b[1mRelevance:\u001b[0m\n",
            " Score: 5\n",
            "\n",
            "Explanation: The AI-generated answer fully addresses all aspects of the question, providing an accurate description of the symptoms for appendicitis and stating that it cannot be cured via medicine alone but requires surgical removal. The answer also mentions the standard treatment procedure (appendectomy with antibiotics) and possible complications (abscess formation). Additionally, the AI-generated answer distinguishes between appendicitis and hernias of the abdominal wall, ensuring relevance to both parts of the question.\n",
            "None\n"
          ]
        }
      ],
      "source": [
        "print(generate_ground_relevance_response(\"What are the common symptoms for appendicitis, and can it be cured via medicine? If not, what surgical procedure should be followed to treat it?\"))"
      ]
    },
    {
      "cell_type": "markdown",
      "source": [
        "### Observation\n",
        "\n",
        "* LLM rantes 5/5 for groundness and 5/5 for relevance with explanation.\n",
        "* It proves that the contexts are relevant to the query, and the anwer is relevant to query with context."
      ],
      "metadata": {
        "id": "sWkf5Doz1MN9"
      }
    },
    {
      "cell_type": "markdown",
      "metadata": {
        "id": "xweG5mjM_NZ1"
      },
      "source": [
        "### Query 3: What are the effective treatments or solutions for addressing sudden patchy hair loss, commonly seen as localized bald spots on the scalp, and what could be the possible causes behind it?"
      ]
    },
    {
      "cell_type": "code",
      "execution_count": 99,
      "metadata": {
        "id": "g_NFPdw6_NZ1",
        "colab": {
          "base_uri": "https://localhost:8080/"
        },
        "outputId": "09314cef-997c-426a-e7ea-fca5bfaa86a3"
      },
      "outputs": [
        {
          "output_type": "stream",
          "name": "stderr",
          "text": [
            "Llama.generate: prefix-match hit\n",
            "Llama.generate: prefix-match hit\n",
            "Llama.generate: prefix-match hit\n"
          ]
        },
        {
          "output_type": "stream",
          "name": "stdout",
          "text": [
            "\u001b[1mGrounded:\u001b[0m\n",
            " Score: 5\n",
            "\n",
            "Explanation:\n",
            "The answer adheres to the metric as it is derived entirely from the context provided. The answer accurately identifies Alopecia Areata as a type of nonscarring alopecia and lists the treatment options directly from the Merck Manual mentioned in the context. Additionally, the possible causes are also mentioned from the context.\n",
            "\n",
            "\u001b[1mRelevance:\u001b[0m\n",
            " Score: 5\n",
            "\n",
            "Explanation: The AI-generated answer fully addresses both the question and context by providing a clear explanation of Alopecia Areata, its causes, and effective treatments. It also aligns with the key elements from the context, such as nonscarring alopecia, autoimmune disorder, and various treatment options. The answer is comprehensive, relevant, and free of irrelevant information.\n",
            "None\n"
          ]
        }
      ],
      "source": [
        "print(generate_ground_relevance_response(\"What are the effective treatments or solutions for addressing sudden patchy hair loss, commonly seen as localized bald spots on the scalp, and what could be the possible causes behind it?\"))"
      ]
    },
    {
      "cell_type": "markdown",
      "source": [
        "### Observation\n",
        "\n",
        "* LLM rantes 5/5 for groundness and 5/5 for relevance with explanation.\n",
        "* It proves that the contexts are relevant to the query, and the anwer is relevant to query with context."
      ],
      "metadata": {
        "id": "eKUaxZbl1OLd"
      }
    },
    {
      "cell_type": "markdown",
      "metadata": {
        "id": "incZRIX9_NZ1"
      },
      "source": [
        "### Query 4:  What treatments are recommended for a person who has sustained a physical injury to brain tissue, resulting in temporary or permanent impairment of brain function?"
      ]
    },
    {
      "cell_type": "code",
      "execution_count": 100,
      "metadata": {
        "id": "gJGiHY1o_NZ2",
        "colab": {
          "base_uri": "https://localhost:8080/"
        },
        "outputId": "99570d56-b4fe-4907-fd2c-e9daa235fd7a"
      },
      "outputs": [
        {
          "output_type": "stream",
          "name": "stderr",
          "text": [
            "Llama.generate: prefix-match hit\n",
            "Llama.generate: prefix-match hit\n",
            "Llama.generate: prefix-match hit\n"
          ]
        },
        {
          "output_type": "stream",
          "name": "stdout",
          "text": [
            "\u001b[1mGrounded:\u001b[0m\n",
            " Score: 5\n",
            "\n",
            "Explanation:\n",
            "The answer adheres to the metric as it is derived directly from the context provided in the Merck Manual of Diagnosis & Therapy, 19th Edition. The answer includes all recommended treatments for a person who has sustained a physical injury to brain tissue, based on the information presented in the context.\n",
            "\n",
            "\u001b[1mRelevance:\u001b[0m\n",
            " Score: 5\n",
            "\n",
            "Explanation: The AI-generated answer fully addresses all important aspects of the question by listing specific treatments recommended for a person with brain tissue injury, including supportive care, post-traumatic seizure treatment, long-term epilepsy treatment, and rehabilitation services. It also aligns with the key elements from the context provided in The Merck Manual of Diagnosis & Therapy by mentioning various treatments and their purposes. The answer is clear, concise, and free of irrelevant information.\n",
            "None\n"
          ]
        }
      ],
      "source": [
        "print(generate_ground_relevance_response(\"What treatments are recommended for a person who has sustained a physical injury to brain tissue, resulting in temporary or permanent impairment of brain function?\"))"
      ]
    },
    {
      "cell_type": "markdown",
      "source": [
        "### Observation\n",
        "\n",
        "* LLM rantes 5/5 for groundness and 5/5 for relevance with explanation.\n",
        "* It proves that the contexts are relevant to the query, and the anwer is relevant to query with context."
      ],
      "metadata": {
        "id": "L4dAzw5p1P5V"
      }
    },
    {
      "cell_type": "markdown",
      "metadata": {
        "id": "UrTzKNy5_NZ2"
      },
      "source": [
        "### Query 5: What are the necessary precautions and treatment steps for a person who has fractured their leg during a hiking trip, and what should be considered for their care and recovery?"
      ]
    },
    {
      "cell_type": "code",
      "execution_count": 101,
      "metadata": {
        "id": "7fkY76Da_NZ2",
        "colab": {
          "base_uri": "https://localhost:8080/"
        },
        "outputId": "5af2e0a0-c85d-486c-9ac6-a683fb166485"
      },
      "outputs": [
        {
          "output_type": "stream",
          "name": "stderr",
          "text": [
            "Llama.generate: prefix-match hit\n",
            "Llama.generate: prefix-match hit\n",
            "Llama.generate: prefix-match hit\n"
          ]
        },
        {
          "output_type": "stream",
          "name": "stdout",
          "text": [
            "\u001b[1mGrounded:\u001b[0m\n",
            " Score: 5\n",
            "\n",
            "The answer adheres completely to the metric as it is derived solely from the context provided and does not go beyond the given information. The steps outlined in the answer are directly supported by the context, which discusses various aspects of fracture treatment, including assessment, immobilization, pain management, definitive treatment, RICE protocol, rehabilitation, and prosthetic considerations.\n",
            "\n",
            "\u001b[1mRelevance:\u001b[0m\n",
            " Score: 5\n",
            "\n",
            "Explanation: The AI-generated answer fully addresses all important aspects of the question and context by outlining necessary precautions and treatment steps for a person with a fractured leg during hiking. It avoids irrelevant information and aligns well with the key elements from the context provided, such as immobilization, pain management, definitive treatment, RICE protocol, rehabilitation, and prosthetic considerations.\n",
            "None\n"
          ]
        }
      ],
      "source": [
        "print(generate_ground_relevance_response(\"What are the necessary precautions and treatment steps for a person who has fractured their leg during a hiking trip, and what should be considered for their care and recovery?\"))"
      ]
    },
    {
      "cell_type": "markdown",
      "source": [
        "### Observation\n",
        "\n",
        "* LLM rantes 5/5 for groundness and 5/5 for relevance.\n",
        "* It proves that RAG performed very well responding queries."
      ],
      "metadata": {
        "id": "NaiA6G5R1Rn0"
      }
    },
    {
      "cell_type": "markdown",
      "source": [
        "**Overall, our RAG's performance is very good according to the query input that we have**"
      ],
      "metadata": {
        "id": "FsDcH2bB2BuC"
      }
    },
    {
      "cell_type": "markdown",
      "metadata": {
        "id": "Y7QICRU-njdj"
      },
      "source": [
        "## Actionable Insights and Business Recommendations"
      ]
    },
    {
      "cell_type": "markdown",
      "source": [
        "**Actionable Insight:**\n",
        "\n",
        "1. Meta's llama model family with llama.cpp, and Mistral-7B-Instruct-v0.2-GGUF model has been used in this RAG application.\n",
        "2. Sentence transformer, and vector database (Chroma) have been used for embedding PDF medical document.\n",
        "3. overlapped chunking has been used to ensure context contunity, coherence.\n",
        "4. model response has been tuned with max_tokens, temperature, top_k, and top_p. Higher max_tokens help us to avoid query truncation, capture detail response but with higher complexity, cost.\n",
        "5. higher temperature, large top_k, and lower top_p increase query response randomness, creativity, etc.\n",
        "* Evaluated by llm-as-a-judge using two metrics groundness and relevance.\n",
        "\n",
        "**Business Recommendation**\n",
        "1. This RAG should be integrated into company's system to increase operational efficieny, and acurate medical diagnosis, and treatment plan.\n",
        "2. Establish a feedback loop to fine-tune parameters, improving performance for diverse query types.\n",
        "\n",
        "\n"
      ],
      "metadata": {
        "id": "9P6DumBc-Vek"
      }
    },
    {
      "cell_type": "markdown",
      "metadata": {
        "id": "ybRlzaIhWaM9"
      },
      "source": [
        "<font size=6 color='blue'>Power Ahead</font>\n",
        "___"
      ]
    },
    {
      "cell_type": "code",
      "source": [],
      "metadata": {
        "id": "06o24Ktp-haG"
      },
      "execution_count": 101,
      "outputs": []
    }
  ],
  "metadata": {
    "accelerator": "GPU",
    "colab": {
      "collapsed_sections": [
        "WUUqY4FbFjVe",
        "iYpyw4HjOeff",
        "dRp92JQZOeff",
        "AA45zwyUOefg",
        "TYXxiSuBOefg",
        "ffj0ca3eZT4u",
        "f9weTDzMxRRS",
        "7-wNNalNxPKT",
        "TggYyQPL6B0G",
        "FlHXYCkm6B0H",
        "K7TYrqycEITB"
      ],
      "gpuType": "T4",
      "provenance": []
    },
    "kernel_info": {
      "name": "python310-sdkv2"
    },
    "kernelspec": {
      "display_name": "Python 3",
      "name": "python3"
    },
    "language_info": {
      "name": "python"
    },
    "microsoft": {
      "host": {
        "AzureML": {
          "notebookHasBeenCompleted": true
        }
      },
      "ms_spell_check": {
        "ms_spell_check_language": "en"
      }
    },
    "nteract": {
      "version": "nteract-front-end@1.0.0"
    }
  },
  "nbformat": 4,
  "nbformat_minor": 0
}